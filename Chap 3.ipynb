{
 "cells": [
  {
   "cell_type": "markdown",
   "metadata": {},
   "source": [
    "# Handling Comma Separated Value Files\n",
    "\n",
    "This notebook showcases methods to extract data from CSVs:\n",
    "+ csv containing delimiter separated values\n",
    "+ csv containing tabular data"
   ]
  },
  {
   "cell_type": "code",
   "execution_count": 1,
   "metadata": {},
   "outputs": [],
   "source": [
    "# import required libraries\n",
    "import csv\n",
    "import pandas as pd\n",
    "from pprint import pprint"
   ]
  },
  {
   "cell_type": "markdown",
   "metadata": {},
   "source": [
    "## Utilities"
   ]
  },
  {
   "cell_type": "code",
   "execution_count": 4,
   "metadata": {},
   "outputs": [],
   "source": [
    "def print_basic_csv(file_name, delimiter=','):\n",
    "    \"\"\"This function extracts and prints csv content from given filename\n",
    "       Details: https://docs.python.org/2/library/csv.html\n",
    "    Args:\n",
    "        file_name (str): file path to be read\n",
    "        delimiter (str): delimiter used in csv. Default is comma (',')\n",
    "\n",
    "    Returns:\n",
    "        None\n",
    "\n",
    "    \"\"\"\n",
    "    csv_rows = list()\n",
    "    csv_attr_dict = dict()\n",
    "    csv_reader = None\n",
    "\n",
    "    # read csv\n",
    "    csv_reader = csv.reader(open(file_name, 'r'), delimiter=delimiter)\n",
    "        \n",
    "    # iterate and extract data    \n",
    "    for row in csv_reader:\n",
    "        print(row)\n",
    "        csv_rows.append(row)\n",
    "    \n",
    "    # prepare attribute lists\n",
    "    for col in csv_rows[0]:\n",
    "        csv_attr_dict[col]=list()\n",
    "    \n",
    "    # iterate and add data to attribute lists\n",
    "    for row in csv_rows[1:]:\n",
    "        csv_attr_dict['sno'].append(row[0])\n",
    "        csv_attr_dict['fruit'].append(row[1])\n",
    "        csv_attr_dict['color'].append(row[2])\n",
    "        csv_attr_dict['price'].append(row[3])\n",
    "    \n",
    "    # print the result\n",
    "    print(\"\\n\\n\")\n",
    "    print(\"CSV Attributes::\")\n",
    "    pprint(csv_attr_dict)\n",
    "            \n",
    "\n",
    "\n",
    "def print_tabular_data(file_name,delimiter=\",\"):\n",
    "    \"\"\"This function extracts and prints tabular csv content from given filename\n",
    "       Details: http://pandas.pydata.org/pandas-docs/stable/generated/pandas.read_csv.html\n",
    "    Args:\n",
    "        file_name (str): file path to be read\n",
    "        delimiter (str): delimiter used in csv. Default is comma ('\\t')\n",
    "\n",
    "    Returns:\n",
    "        None\n",
    "\n",
    "    \"\"\"\n",
    "    df = pd.read_csv(file_name,sep=delimiter)\n",
    "    print(df)"
   ]
  },
  {
   "cell_type": "markdown",
   "metadata": {},
   "source": [
    "## Parse using CSV module\n",
    "\n",
    "The print_basic_csv() function takes the input file name along with delimiter as input parameters."
   ]
  },
  {
   "cell_type": "code",
   "execution_count": 6,
   "metadata": {},
   "outputs": [
    {
     "name": "stdout",
     "output_type": "stream",
     "text": [
      "['sno', 'fruit', 'color', 'price']\n",
      "['1', 'apple', 'red', '110.85']\n",
      "['2', 'banana', 'yellow', '50.12']\n",
      "['3', 'mango', 'yellow', '70.29']\n",
      "['4', 'orange', 'orange', '80.00']\n",
      "['5', 'kiwi', 'green', '150.00']\n",
      "['6', 'pineapple', 'yellow', '90.00']\n",
      "['7', 'guava', 'green', '20.00']\n",
      "\n",
      "\n",
      "\n",
      "CSV Attributes::\n",
      "{'color': ['red', 'yellow', 'yellow', 'orange', 'green', 'yellow', 'green'],\n",
      " 'fruit': ['apple', 'banana', 'mango', 'orange', 'kiwi', 'pineapple', 'guava'],\n",
      " 'price': ['110.85', '50.12', '70.29', '80.00', '150.00', '90.00', '20.00'],\n",
      " 'sno': ['1', '2', '3', '4', '5', '6', '7']}\n"
     ]
    }
   ],
   "source": [
    "print_basic_csv(r'tabular_csv.csv')"
   ]
  },
  {
   "cell_type": "markdown",
   "metadata": {},
   "source": [
    "The first output in the above cell shows the data in the csv as-is.\n",
    "The second one is the parsed output showcasing the contents of the csv as key-value pairs\n",
    "\n",
    "\n",
    "--------"
   ]
  },
  {
   "cell_type": "markdown",
   "metadata": {},
   "source": [
    "## Parse using pandas\n",
    "\n",
    "The print_tabular_data() function takes the input file name along with delimiter as input parameters. It uses pandas to do the heavy lifting"
   ]
  },
  {
   "cell_type": "code",
   "execution_count": 7,
   "metadata": {},
   "outputs": [
    {
     "name": "stdout",
     "output_type": "stream",
     "text": [
      "   sno      fruit   color   price\n",
      "0    1      apple     red  110.85\n",
      "1    2     banana  yellow   50.12\n",
      "2    3      mango  yellow   70.29\n",
      "3    4     orange  orange   80.00\n",
      "4    5       kiwi   green  150.00\n",
      "5    6  pineapple  yellow   90.00\n",
      "6    7      guava   green   20.00\n"
     ]
    }
   ],
   "source": [
    "print_tabular_data(r'tabular_csv.csv')"
   ]
  },
  {
   "cell_type": "markdown",
   "metadata": {},
   "source": [
    "The output in the above cell shows how pandas reads a csv and prepares a tabular dataframe"
   ]
  },
  {
   "cell_type": "markdown",
   "metadata": {},
   "source": [
    "## Data Wrangling¶\n",
    "\n",
    "This notebook presents different data wrangling techniques used commonly\n"
   ]
  },
  {
   "cell_type": "code",
   "execution_count": 8,
   "metadata": {},
   "outputs": [],
   "source": [
    "# import required libraries\n",
    "import random\n",
    "import datetime \n",
    "import numpy as np\n",
    "import pandas as pd\n",
    "from random import randrange\n",
    "from sklearn import preprocessing\n",
    "\n",
    "pd.options.mode.chained_assignment = None"
   ]
  },
  {
   "cell_type": "markdown",
   "metadata": {},
   "source": [
    "## Utilities"
   ]
  },
  {
   "cell_type": "code",
   "execution_count": 10,
   "metadata": {},
   "outputs": [],
   "source": [
    "def _random_date(start,date_count):\n",
    "    \"\"\"This function generates a random date based on params\n",
    "    Args:\n",
    "        start (date object): the base date\n",
    "        date_count (int): number of dates to be generated\n",
    "    Returns:\n",
    "        list of random dates\n",
    "\n",
    "    \"\"\"\n",
    "    current = start\n",
    "    while date_count > 0:\n",
    "        curr = current + datetime.timedelta(days=randrange(42))\n",
    "        yield curr\n",
    "        date_count-=1\n",
    "\n",
    "\n",
    "def generate_sample_data(row_count=100):\n",
    "    \"\"\"This function generates a random transaction dataset\n",
    "    Args:\n",
    "        row_count (int): number of rows for the dataframe\n",
    "    Returns:\n",
    "        a pandas dataframe\n",
    "\n",
    "    \"\"\"\n",
    "    \n",
    "    # sentinels\n",
    "    startDate = datetime.datetime(2016, 1, 1,13)\n",
    "    serial_number_sentinel = 1000\n",
    "    user_id_sentinel = 5001\n",
    "    product_id_sentinel = 101\n",
    "    price_sentinel = 2000\n",
    "    \n",
    "    \n",
    "    # base list of attributes\n",
    "    data_dict = {\n",
    "    'Serial No': np.arange(row_count)+serial_number_sentinel,\n",
    "    'Date': np.random.permutation(pd.to_datetime([x.strftime(\"%d-%m-%Y\") \n",
    "                                                    for x in _random_date(startDate,\n",
    "                                                                          row_count)]).date\n",
    "                                  ),\n",
    "    'User ID': np.random.permutation(np.random.randint(0,\n",
    "                                                       row_count,\n",
    "                                                       size=int(row_count/10)) + user_id_sentinel).tolist()*10,\n",
    "    'Product ID': np.random.permutation(np.random.randint(0,\n",
    "                                                          row_count,\n",
    "                                                          size=int(row_count/10))+ product_id_sentinel).tolist()*10 ,\n",
    "    'Quantity Purchased': np.random.permutation(np.random.randint(1,\n",
    "                                                                  42,\n",
    "                                                                  size=row_count)),\n",
    "    'Price': np.round(np.abs(np.random.randn(row_count)+1)*price_sentinel,\n",
    "                      decimals=2),\n",
    "    'User Type':np.random.permutation([chr(random.randrange(97, 97 + 3 + 1)) \n",
    "                                            for i in range(row_count)])\n",
    "    }\n",
    "    \n",
    "    # introduce missing values\n",
    "    for index in range(int(np.sqrt(row_count))): \n",
    "        data_dict['Price'][np.argmax(data_dict['Price'] == random.choice(data_dict['Price']))] = np.nan\n",
    "        data_dict['User Type'][np.argmax(data_dict['User Type'] == random.choice(data_dict['User Type']))] = np.nan\n",
    "        data_dict['Date'][np.argmax(data_dict['Date'] == random.choice(data_dict['Date']))] = np.nan\n",
    "        data_dict['Product ID'][np.argmax(data_dict['Product ID'] == random.choice(data_dict['Product ID']))] = 0\n",
    "        data_dict['Serial No'][np.argmax(data_dict['Serial No'] == random.choice(data_dict['Serial No']))] = -1\n",
    "        data_dict['User ID'][np.argmax(data_dict['User ID'] == random.choice(data_dict['User ID']))] = -101\n",
    "        \n",
    "    \n",
    "    # create data frame\n",
    "    df = pd.DataFrame(data_dict)\n",
    "    \n",
    "    return df\n",
    "    \n",
    "\n",
    "def describe_dataframe(df=pd.DataFrame()):\n",
    "    \"\"\"This function generates descriptive stats of a dataframe\n",
    "    Args:\n",
    "        df (dataframe): the dataframe to be analyzed\n",
    "    Returns:\n",
    "        None\n",
    "\n",
    "    \"\"\"\n",
    "    print(\"\\n\\n\")\n",
    "    print(\"*\"*30)\n",
    "    print(\"About the Data\")\n",
    "    print(\"*\"*30)\n",
    "    \n",
    "    print(\"Number of rows::\",df.shape[0])\n",
    "    print(\"Number of columns::\",df.shape[1])\n",
    "    print(\"\\n\")\n",
    "    \n",
    "    print(\"Column Names::\",df.columns.values.tolist())\n",
    "    print(\"\\n\")\n",
    "    \n",
    "    print(\"Column Data Types::\\n\",df.dtypes)\n",
    "    print(\"\\n\")\n",
    "    \n",
    "    print(\"Columns with Missing Values::\",df.columns[df.isnull().any()].tolist())\n",
    "    print(\"\\n\")\n",
    "    \n",
    "    print(\"Number of rows with Missing Values::\",len(pd.isnull(df).any(1).nonzero()[0].tolist()))\n",
    "    print(\"\\n\")\n",
    "    \n",
    "    print(\"Sample Indices with missing data::\",pd.isnull(df).any(1).nonzero()[0].tolist()[0:5])\n",
    "    print(\"\\n\")\n",
    "    \n",
    "    print(\"General Stats::\")\n",
    "    print(df.info())\n",
    "    print(\"\\n\")\n",
    "    \n",
    "    print(\"Summary Stats::\")\n",
    "    print(df.describe())\n",
    "    print(\"\\n\")\n",
    "    \n",
    "    print(\"Dataframe Sample Rows::\")\n",
    "    display(df.head(5))\n",
    "    \n",
    "def cleanup_column_names(df,rename_dict={},do_inplace=True):\n",
    "    \"\"\"This function renames columns of a pandas dataframe\n",
    "       It converts column names to snake case if rename_dict is not passed. \n",
    "    Args:\n",
    "        rename_dict (dict): keys represent old column names and values point to \n",
    "                            newer ones\n",
    "        do_inplace (bool): flag to update existing dataframe or return a new one\n",
    "    Returns:\n",
    "        pandas dataframe if do_inplace is set to False, None otherwise\n",
    "\n",
    "    \"\"\"\n",
    "    if not rename_dict:\n",
    "        return df.rename(columns={col: col.lower().replace(' ','_') \n",
    "                    for col in df.columns.values.tolist()}, \n",
    "                  inplace=do_inplace)\n",
    "    else:\n",
    "        return df.rename(columns=rename_dict,inplace=do_inplace)\n",
    "\n",
    "def expand_user_type(u_type):\n",
    "    \"\"\"This function maps user types to user classes\n",
    "    Args:\n",
    "        u_type (str): user type value\n",
    "    Returns:\n",
    "        (str) user_class value\n",
    "\n",
    "    \"\"\"\n",
    "    if u_type in ['a','b']:\n",
    "        return 'new'\n",
    "    elif u_type == 'c':\n",
    "        return 'existing'\n",
    "    elif u_type == 'd':\n",
    "        return 'loyal_existing'\n",
    "    else:\n",
    "        return 'error'"
   ]
  },
  {
   "cell_type": "markdown",
   "metadata": {},
   "source": [
    "## Generate a Sample Dataset\n"
   ]
  },
  {
   "cell_type": "code",
   "execution_count": 12,
   "metadata": {},
   "outputs": [
    {
     "data": {
      "text/html": [
       "<div>\n",
       "<style scoped>\n",
       "    .dataframe tbody tr th:only-of-type {\n",
       "        vertical-align: middle;\n",
       "    }\n",
       "\n",
       "    .dataframe tbody tr th {\n",
       "        vertical-align: top;\n",
       "    }\n",
       "\n",
       "    .dataframe thead th {\n",
       "        text-align: right;\n",
       "    }\n",
       "</style>\n",
       "<table border=\"1\" class=\"dataframe\">\n",
       "  <thead>\n",
       "    <tr style=\"text-align: right;\">\n",
       "      <th></th>\n",
       "      <th>Serial No</th>\n",
       "      <th>Date</th>\n",
       "      <th>User ID</th>\n",
       "      <th>Product ID</th>\n",
       "      <th>Quantity Purchased</th>\n",
       "      <th>Price</th>\n",
       "      <th>User Type</th>\n",
       "    </tr>\n",
       "  </thead>\n",
       "  <tbody>\n",
       "    <tr>\n",
       "      <th>0</th>\n",
       "      <td>1000</td>\n",
       "      <td>2016-01-14</td>\n",
       "      <td>-101</td>\n",
       "      <td>0</td>\n",
       "      <td>41</td>\n",
       "      <td>3365.12</td>\n",
       "      <td>n</td>\n",
       "    </tr>\n",
       "    <tr>\n",
       "      <th>1</th>\n",
       "      <td>1001</td>\n",
       "      <td>2016-01-15</td>\n",
       "      <td>5899</td>\n",
       "      <td>917</td>\n",
       "      <td>36</td>\n",
       "      <td>3908.42</td>\n",
       "      <td>n</td>\n",
       "    </tr>\n",
       "    <tr>\n",
       "      <th>2</th>\n",
       "      <td>1002</td>\n",
       "      <td>NaN</td>\n",
       "      <td>5600</td>\n",
       "      <td>334</td>\n",
       "      <td>10</td>\n",
       "      <td>626.91</td>\n",
       "      <td>n</td>\n",
       "    </tr>\n",
       "    <tr>\n",
       "      <th>3</th>\n",
       "      <td>1003</td>\n",
       "      <td>NaN</td>\n",
       "      <td>5013</td>\n",
       "      <td>494</td>\n",
       "      <td>7</td>\n",
       "      <td>2210.93</td>\n",
       "      <td>n</td>\n",
       "    </tr>\n",
       "    <tr>\n",
       "      <th>4</th>\n",
       "      <td>1004</td>\n",
       "      <td>2016-01-23</td>\n",
       "      <td>5098</td>\n",
       "      <td>1098</td>\n",
       "      <td>4</td>\n",
       "      <td>55.96</td>\n",
       "      <td>n</td>\n",
       "    </tr>\n",
       "    <tr>\n",
       "      <th>5</th>\n",
       "      <td>1005</td>\n",
       "      <td>2016-01-24</td>\n",
       "      <td>5920</td>\n",
       "      <td>364</td>\n",
       "      <td>27</td>\n",
       "      <td>1680.07</td>\n",
       "      <td>n</td>\n",
       "    </tr>\n",
       "    <tr>\n",
       "      <th>6</th>\n",
       "      <td>1006</td>\n",
       "      <td>2016-11-01</td>\n",
       "      <td>5514</td>\n",
       "      <td>204</td>\n",
       "      <td>29</td>\n",
       "      <td>NaN</td>\n",
       "      <td>n</td>\n",
       "    </tr>\n",
       "    <tr>\n",
       "      <th>7</th>\n",
       "      <td>1007</td>\n",
       "      <td>NaN</td>\n",
       "      <td>5225</td>\n",
       "      <td>886</td>\n",
       "      <td>40</td>\n",
       "      <td>3538.35</td>\n",
       "      <td>n</td>\n",
       "    </tr>\n",
       "    <tr>\n",
       "      <th>8</th>\n",
       "      <td>1008</td>\n",
       "      <td>NaN</td>\n",
       "      <td>5386</td>\n",
       "      <td>849</td>\n",
       "      <td>21</td>\n",
       "      <td>7.67</td>\n",
       "      <td>n</td>\n",
       "    </tr>\n",
       "    <tr>\n",
       "      <th>9</th>\n",
       "      <td>1009</td>\n",
       "      <td>2016-07-01</td>\n",
       "      <td>5945</td>\n",
       "      <td>830</td>\n",
       "      <td>9</td>\n",
       "      <td>3208.30</td>\n",
       "      <td>n</td>\n",
       "    </tr>\n",
       "    <tr>\n",
       "      <th>10</th>\n",
       "      <td>1010</td>\n",
       "      <td>2016-01-17</td>\n",
       "      <td>5375</td>\n",
       "      <td>382</td>\n",
       "      <td>24</td>\n",
       "      <td>1257.48</td>\n",
       "      <td>n</td>\n",
       "    </tr>\n",
       "    <tr>\n",
       "      <th>11</th>\n",
       "      <td>1011</td>\n",
       "      <td>NaN</td>\n",
       "      <td>5086</td>\n",
       "      <td>170</td>\n",
       "      <td>7</td>\n",
       "      <td>4349.41</td>\n",
       "      <td>n</td>\n",
       "    </tr>\n",
       "    <tr>\n",
       "      <th>12</th>\n",
       "      <td>1012</td>\n",
       "      <td>2016-11-01</td>\n",
       "      <td>5252</td>\n",
       "      <td>266</td>\n",
       "      <td>8</td>\n",
       "      <td>3237.28</td>\n",
       "      <td>n</td>\n",
       "    </tr>\n",
       "    <tr>\n",
       "      <th>13</th>\n",
       "      <td>1013</td>\n",
       "      <td>NaN</td>\n",
       "      <td>5422</td>\n",
       "      <td>220</td>\n",
       "      <td>39</td>\n",
       "      <td>747.16</td>\n",
       "      <td>n</td>\n",
       "    </tr>\n",
       "    <tr>\n",
       "      <th>14</th>\n",
       "      <td>1014</td>\n",
       "      <td>NaN</td>\n",
       "      <td>5245</td>\n",
       "      <td>591</td>\n",
       "      <td>2</td>\n",
       "      <td>4066.27</td>\n",
       "      <td>n</td>\n",
       "    </tr>\n",
       "    <tr>\n",
       "      <th>15</th>\n",
       "      <td>1015</td>\n",
       "      <td>NaN</td>\n",
       "      <td>5655</td>\n",
       "      <td>1080</td>\n",
       "      <td>19</td>\n",
       "      <td>3486.25</td>\n",
       "      <td>n</td>\n",
       "    </tr>\n",
       "    <tr>\n",
       "      <th>16</th>\n",
       "      <td>1016</td>\n",
       "      <td>2016-01-30</td>\n",
       "      <td>5437</td>\n",
       "      <td>427</td>\n",
       "      <td>14</td>\n",
       "      <td>1061.59</td>\n",
       "      <td>n</td>\n",
       "    </tr>\n",
       "    <tr>\n",
       "      <th>17</th>\n",
       "      <td>1017</td>\n",
       "      <td>2016-12-01</td>\n",
       "      <td>5619</td>\n",
       "      <td>188</td>\n",
       "      <td>19</td>\n",
       "      <td>1555.23</td>\n",
       "      <td>n</td>\n",
       "    </tr>\n",
       "    <tr>\n",
       "      <th>18</th>\n",
       "      <td>1018</td>\n",
       "      <td>2016-01-24</td>\n",
       "      <td>5120</td>\n",
       "      <td>454</td>\n",
       "      <td>10</td>\n",
       "      <td>1177.49</td>\n",
       "      <td>n</td>\n",
       "    </tr>\n",
       "    <tr>\n",
       "      <th>19</th>\n",
       "      <td>1019</td>\n",
       "      <td>2016-11-01</td>\n",
       "      <td>5172</td>\n",
       "      <td>260</td>\n",
       "      <td>10</td>\n",
       "      <td>823.10</td>\n",
       "      <td>n</td>\n",
       "    </tr>\n",
       "    <tr>\n",
       "      <th>20</th>\n",
       "      <td>1020</td>\n",
       "      <td>NaN</td>\n",
       "      <td>5513</td>\n",
       "      <td>1099</td>\n",
       "      <td>41</td>\n",
       "      <td>5493.57</td>\n",
       "      <td>n</td>\n",
       "    </tr>\n",
       "    <tr>\n",
       "      <th>21</th>\n",
       "      <td>1021</td>\n",
       "      <td>2016-07-02</td>\n",
       "      <td>5141</td>\n",
       "      <td>687</td>\n",
       "      <td>14</td>\n",
       "      <td>889.25</td>\n",
       "      <td>n</td>\n",
       "    </tr>\n",
       "    <tr>\n",
       "      <th>22</th>\n",
       "      <td>1022</td>\n",
       "      <td>2016-01-30</td>\n",
       "      <td>5951</td>\n",
       "      <td>338</td>\n",
       "      <td>6</td>\n",
       "      <td>2508.67</td>\n",
       "      <td>n</td>\n",
       "    </tr>\n",
       "    <tr>\n",
       "      <th>23</th>\n",
       "      <td>1023</td>\n",
       "      <td>2016-01-14</td>\n",
       "      <td>5641</td>\n",
       "      <td>556</td>\n",
       "      <td>38</td>\n",
       "      <td>3240.03</td>\n",
       "      <td>n</td>\n",
       "    </tr>\n",
       "    <tr>\n",
       "      <th>24</th>\n",
       "      <td>1024</td>\n",
       "      <td>2016-01-25</td>\n",
       "      <td>5963</td>\n",
       "      <td>640</td>\n",
       "      <td>24</td>\n",
       "      <td>1088.85</td>\n",
       "      <td>a</td>\n",
       "    </tr>\n",
       "    <tr>\n",
       "      <th>25</th>\n",
       "      <td>1025</td>\n",
       "      <td>2016-02-02</td>\n",
       "      <td>5239</td>\n",
       "      <td>321</td>\n",
       "      <td>5</td>\n",
       "      <td>4266.09</td>\n",
       "      <td>n</td>\n",
       "    </tr>\n",
       "    <tr>\n",
       "      <th>26</th>\n",
       "      <td>1026</td>\n",
       "      <td>2016-01-22</td>\n",
       "      <td>5203</td>\n",
       "      <td>946</td>\n",
       "      <td>20</td>\n",
       "      <td>185.31</td>\n",
       "      <td>n</td>\n",
       "    </tr>\n",
       "    <tr>\n",
       "      <th>27</th>\n",
       "      <td>1027</td>\n",
       "      <td>NaN</td>\n",
       "      <td>5549</td>\n",
       "      <td>673</td>\n",
       "      <td>41</td>\n",
       "      <td>8750.95</td>\n",
       "      <td>a</td>\n",
       "    </tr>\n",
       "    <tr>\n",
       "      <th>28</th>\n",
       "      <td>1028</td>\n",
       "      <td>NaN</td>\n",
       "      <td>5134</td>\n",
       "      <td>287</td>\n",
       "      <td>24</td>\n",
       "      <td>3770.02</td>\n",
       "      <td>a</td>\n",
       "    </tr>\n",
       "    <tr>\n",
       "      <th>29</th>\n",
       "      <td>1029</td>\n",
       "      <td>NaN</td>\n",
       "      <td>5067</td>\n",
       "      <td>652</td>\n",
       "      <td>13</td>\n",
       "      <td>NaN</td>\n",
       "      <td>a</td>\n",
       "    </tr>\n",
       "    <tr>\n",
       "      <th>...</th>\n",
       "      <td>...</td>\n",
       "      <td>...</td>\n",
       "      <td>...</td>\n",
       "      <td>...</td>\n",
       "      <td>...</td>\n",
       "      <td>...</td>\n",
       "      <td>...</td>\n",
       "    </tr>\n",
       "    <tr>\n",
       "      <th>970</th>\n",
       "      <td>1970</td>\n",
       "      <td>2016-01-26</td>\n",
       "      <td>5447</td>\n",
       "      <td>383</td>\n",
       "      <td>33</td>\n",
       "      <td>1841.25</td>\n",
       "      <td>c</td>\n",
       "    </tr>\n",
       "    <tr>\n",
       "      <th>971</th>\n",
       "      <td>1971</td>\n",
       "      <td>2016-10-01</td>\n",
       "      <td>5881</td>\n",
       "      <td>101</td>\n",
       "      <td>4</td>\n",
       "      <td>1226.42</td>\n",
       "      <td>b</td>\n",
       "    </tr>\n",
       "    <tr>\n",
       "      <th>972</th>\n",
       "      <td>1972</td>\n",
       "      <td>2016-01-13</td>\n",
       "      <td>5466</td>\n",
       "      <td>834</td>\n",
       "      <td>33</td>\n",
       "      <td>148.19</td>\n",
       "      <td>a</td>\n",
       "    </tr>\n",
       "    <tr>\n",
       "      <th>973</th>\n",
       "      <td>1973</td>\n",
       "      <td>2016-11-01</td>\n",
       "      <td>5425</td>\n",
       "      <td>1022</td>\n",
       "      <td>23</td>\n",
       "      <td>1286.70</td>\n",
       "      <td>a</td>\n",
       "    </tr>\n",
       "    <tr>\n",
       "      <th>974</th>\n",
       "      <td>1974</td>\n",
       "      <td>2016-01-23</td>\n",
       "      <td>5557</td>\n",
       "      <td>235</td>\n",
       "      <td>20</td>\n",
       "      <td>6268.27</td>\n",
       "      <td>c</td>\n",
       "    </tr>\n",
       "    <tr>\n",
       "      <th>975</th>\n",
       "      <td>1975</td>\n",
       "      <td>2016-01-27</td>\n",
       "      <td>5133</td>\n",
       "      <td>882</td>\n",
       "      <td>41</td>\n",
       "      <td>2774.67</td>\n",
       "      <td>d</td>\n",
       "    </tr>\n",
       "    <tr>\n",
       "      <th>976</th>\n",
       "      <td>1976</td>\n",
       "      <td>2016-11-01</td>\n",
       "      <td>5254</td>\n",
       "      <td>1090</td>\n",
       "      <td>2</td>\n",
       "      <td>1685.81</td>\n",
       "      <td>b</td>\n",
       "    </tr>\n",
       "    <tr>\n",
       "      <th>977</th>\n",
       "      <td>1977</td>\n",
       "      <td>2016-01-21</td>\n",
       "      <td>5768</td>\n",
       "      <td>1016</td>\n",
       "      <td>22</td>\n",
       "      <td>1342.09</td>\n",
       "      <td>a</td>\n",
       "    </tr>\n",
       "    <tr>\n",
       "      <th>978</th>\n",
       "      <td>1978</td>\n",
       "      <td>2016-02-02</td>\n",
       "      <td>5171</td>\n",
       "      <td>591</td>\n",
       "      <td>33</td>\n",
       "      <td>1441.66</td>\n",
       "      <td>c</td>\n",
       "    </tr>\n",
       "    <tr>\n",
       "      <th>979</th>\n",
       "      <td>1979</td>\n",
       "      <td>2016-01-31</td>\n",
       "      <td>5729</td>\n",
       "      <td>437</td>\n",
       "      <td>10</td>\n",
       "      <td>5138.69</td>\n",
       "      <td>b</td>\n",
       "    </tr>\n",
       "    <tr>\n",
       "      <th>980</th>\n",
       "      <td>1980</td>\n",
       "      <td>2016-01-27</td>\n",
       "      <td>5961</td>\n",
       "      <td>906</td>\n",
       "      <td>35</td>\n",
       "      <td>1832.78</td>\n",
       "      <td>d</td>\n",
       "    </tr>\n",
       "    <tr>\n",
       "      <th>981</th>\n",
       "      <td>1981</td>\n",
       "      <td>2016-01-13</td>\n",
       "      <td>5214</td>\n",
       "      <td>627</td>\n",
       "      <td>24</td>\n",
       "      <td>836.66</td>\n",
       "      <td>b</td>\n",
       "    </tr>\n",
       "    <tr>\n",
       "      <th>982</th>\n",
       "      <td>1982</td>\n",
       "      <td>2016-01-13</td>\n",
       "      <td>5365</td>\n",
       "      <td>109</td>\n",
       "      <td>24</td>\n",
       "      <td>1332.13</td>\n",
       "      <td>a</td>\n",
       "    </tr>\n",
       "    <tr>\n",
       "      <th>983</th>\n",
       "      <td>1983</td>\n",
       "      <td>2016-04-02</td>\n",
       "      <td>5303</td>\n",
       "      <td>820</td>\n",
       "      <td>16</td>\n",
       "      <td>5477.66</td>\n",
       "      <td>d</td>\n",
       "    </tr>\n",
       "    <tr>\n",
       "      <th>984</th>\n",
       "      <td>1984</td>\n",
       "      <td>2016-02-02</td>\n",
       "      <td>5366</td>\n",
       "      <td>924</td>\n",
       "      <td>33</td>\n",
       "      <td>2450.25</td>\n",
       "      <td>c</td>\n",
       "    </tr>\n",
       "    <tr>\n",
       "      <th>985</th>\n",
       "      <td>1985</td>\n",
       "      <td>2016-09-02</td>\n",
       "      <td>5640</td>\n",
       "      <td>369</td>\n",
       "      <td>30</td>\n",
       "      <td>2104.78</td>\n",
       "      <td>c</td>\n",
       "    </tr>\n",
       "    <tr>\n",
       "      <th>986</th>\n",
       "      <td>1986</td>\n",
       "      <td>2016-01-26</td>\n",
       "      <td>5293</td>\n",
       "      <td>360</td>\n",
       "      <td>4</td>\n",
       "      <td>2884.64</td>\n",
       "      <td>d</td>\n",
       "    </tr>\n",
       "    <tr>\n",
       "      <th>987</th>\n",
       "      <td>1987</td>\n",
       "      <td>2016-05-01</td>\n",
       "      <td>5771</td>\n",
       "      <td>162</td>\n",
       "      <td>36</td>\n",
       "      <td>1368.02</td>\n",
       "      <td>c</td>\n",
       "    </tr>\n",
       "    <tr>\n",
       "      <th>988</th>\n",
       "      <td>1988</td>\n",
       "      <td>2016-11-01</td>\n",
       "      <td>5526</td>\n",
       "      <td>757</td>\n",
       "      <td>16</td>\n",
       "      <td>1624.38</td>\n",
       "      <td>c</td>\n",
       "    </tr>\n",
       "    <tr>\n",
       "      <th>989</th>\n",
       "      <td>1989</td>\n",
       "      <td>2016-01-15</td>\n",
       "      <td>5708</td>\n",
       "      <td>1055</td>\n",
       "      <td>25</td>\n",
       "      <td>2166.99</td>\n",
       "      <td>c</td>\n",
       "    </tr>\n",
       "    <tr>\n",
       "      <th>990</th>\n",
       "      <td>1990</td>\n",
       "      <td>2016-01-01</td>\n",
       "      <td>5975</td>\n",
       "      <td>573</td>\n",
       "      <td>40</td>\n",
       "      <td>NaN</td>\n",
       "      <td>c</td>\n",
       "    </tr>\n",
       "    <tr>\n",
       "      <th>991</th>\n",
       "      <td>1991</td>\n",
       "      <td>2016-01-01</td>\n",
       "      <td>5675</td>\n",
       "      <td>705</td>\n",
       "      <td>36</td>\n",
       "      <td>4386.59</td>\n",
       "      <td>c</td>\n",
       "    </tr>\n",
       "    <tr>\n",
       "      <th>992</th>\n",
       "      <td>1992</td>\n",
       "      <td>2016-02-02</td>\n",
       "      <td>5048</td>\n",
       "      <td>928</td>\n",
       "      <td>31</td>\n",
       "      <td>5736.67</td>\n",
       "      <td>b</td>\n",
       "    </tr>\n",
       "    <tr>\n",
       "      <th>993</th>\n",
       "      <td>1993</td>\n",
       "      <td>2016-01-19</td>\n",
       "      <td>5890</td>\n",
       "      <td>264</td>\n",
       "      <td>19</td>\n",
       "      <td>6100.55</td>\n",
       "      <td>c</td>\n",
       "    </tr>\n",
       "    <tr>\n",
       "      <th>994</th>\n",
       "      <td>1994</td>\n",
       "      <td>2016-01-20</td>\n",
       "      <td>5491</td>\n",
       "      <td>866</td>\n",
       "      <td>7</td>\n",
       "      <td>3307.28</td>\n",
       "      <td>b</td>\n",
       "    </tr>\n",
       "    <tr>\n",
       "      <th>995</th>\n",
       "      <td>1995</td>\n",
       "      <td>2016-04-01</td>\n",
       "      <td>5300</td>\n",
       "      <td>135</td>\n",
       "      <td>26</td>\n",
       "      <td>193.49</td>\n",
       "      <td>a</td>\n",
       "    </tr>\n",
       "    <tr>\n",
       "      <th>996</th>\n",
       "      <td>1996</td>\n",
       "      <td>2016-01-21</td>\n",
       "      <td>5237</td>\n",
       "      <td>788</td>\n",
       "      <td>36</td>\n",
       "      <td>2920.38</td>\n",
       "      <td>b</td>\n",
       "    </tr>\n",
       "    <tr>\n",
       "      <th>997</th>\n",
       "      <td>-1</td>\n",
       "      <td>2016-01-31</td>\n",
       "      <td>5802</td>\n",
       "      <td>729</td>\n",
       "      <td>6</td>\n",
       "      <td>2316.65</td>\n",
       "      <td>d</td>\n",
       "    </tr>\n",
       "    <tr>\n",
       "      <th>998</th>\n",
       "      <td>1998</td>\n",
       "      <td>2016-01-27</td>\n",
       "      <td>5703</td>\n",
       "      <td>478</td>\n",
       "      <td>10</td>\n",
       "      <td>1627.25</td>\n",
       "      <td>d</td>\n",
       "    </tr>\n",
       "    <tr>\n",
       "      <th>999</th>\n",
       "      <td>1999</td>\n",
       "      <td>2016-07-02</td>\n",
       "      <td>5680</td>\n",
       "      <td>810</td>\n",
       "      <td>14</td>\n",
       "      <td>4246.21</td>\n",
       "      <td>b</td>\n",
       "    </tr>\n",
       "  </tbody>\n",
       "</table>\n",
       "<p>1000 rows × 7 columns</p>\n",
       "</div>"
      ],
      "text/plain": [
       "     Serial No        Date  User ID  Product ID  Quantity Purchased    Price  \\\n",
       "0         1000  2016-01-14     -101           0                  41  3365.12   \n",
       "1         1001  2016-01-15     5899         917                  36  3908.42   \n",
       "2         1002         NaN     5600         334                  10   626.91   \n",
       "3         1003         NaN     5013         494                   7  2210.93   \n",
       "4         1004  2016-01-23     5098        1098                   4    55.96   \n",
       "5         1005  2016-01-24     5920         364                  27  1680.07   \n",
       "6         1006  2016-11-01     5514         204                  29      NaN   \n",
       "7         1007         NaN     5225         886                  40  3538.35   \n",
       "8         1008         NaN     5386         849                  21     7.67   \n",
       "9         1009  2016-07-01     5945         830                   9  3208.30   \n",
       "10        1010  2016-01-17     5375         382                  24  1257.48   \n",
       "11        1011         NaN     5086         170                   7  4349.41   \n",
       "12        1012  2016-11-01     5252         266                   8  3237.28   \n",
       "13        1013         NaN     5422         220                  39   747.16   \n",
       "14        1014         NaN     5245         591                   2  4066.27   \n",
       "15        1015         NaN     5655        1080                  19  3486.25   \n",
       "16        1016  2016-01-30     5437         427                  14  1061.59   \n",
       "17        1017  2016-12-01     5619         188                  19  1555.23   \n",
       "18        1018  2016-01-24     5120         454                  10  1177.49   \n",
       "19        1019  2016-11-01     5172         260                  10   823.10   \n",
       "20        1020         NaN     5513        1099                  41  5493.57   \n",
       "21        1021  2016-07-02     5141         687                  14   889.25   \n",
       "22        1022  2016-01-30     5951         338                   6  2508.67   \n",
       "23        1023  2016-01-14     5641         556                  38  3240.03   \n",
       "24        1024  2016-01-25     5963         640                  24  1088.85   \n",
       "25        1025  2016-02-02     5239         321                   5  4266.09   \n",
       "26        1026  2016-01-22     5203         946                  20   185.31   \n",
       "27        1027         NaN     5549         673                  41  8750.95   \n",
       "28        1028         NaN     5134         287                  24  3770.02   \n",
       "29        1029         NaN     5067         652                  13      NaN   \n",
       "..         ...         ...      ...         ...                 ...      ...   \n",
       "970       1970  2016-01-26     5447         383                  33  1841.25   \n",
       "971       1971  2016-10-01     5881         101                   4  1226.42   \n",
       "972       1972  2016-01-13     5466         834                  33   148.19   \n",
       "973       1973  2016-11-01     5425        1022                  23  1286.70   \n",
       "974       1974  2016-01-23     5557         235                  20  6268.27   \n",
       "975       1975  2016-01-27     5133         882                  41  2774.67   \n",
       "976       1976  2016-11-01     5254        1090                   2  1685.81   \n",
       "977       1977  2016-01-21     5768        1016                  22  1342.09   \n",
       "978       1978  2016-02-02     5171         591                  33  1441.66   \n",
       "979       1979  2016-01-31     5729         437                  10  5138.69   \n",
       "980       1980  2016-01-27     5961         906                  35  1832.78   \n",
       "981       1981  2016-01-13     5214         627                  24   836.66   \n",
       "982       1982  2016-01-13     5365         109                  24  1332.13   \n",
       "983       1983  2016-04-02     5303         820                  16  5477.66   \n",
       "984       1984  2016-02-02     5366         924                  33  2450.25   \n",
       "985       1985  2016-09-02     5640         369                  30  2104.78   \n",
       "986       1986  2016-01-26     5293         360                   4  2884.64   \n",
       "987       1987  2016-05-01     5771         162                  36  1368.02   \n",
       "988       1988  2016-11-01     5526         757                  16  1624.38   \n",
       "989       1989  2016-01-15     5708        1055                  25  2166.99   \n",
       "990       1990  2016-01-01     5975         573                  40      NaN   \n",
       "991       1991  2016-01-01     5675         705                  36  4386.59   \n",
       "992       1992  2016-02-02     5048         928                  31  5736.67   \n",
       "993       1993  2016-01-19     5890         264                  19  6100.55   \n",
       "994       1994  2016-01-20     5491         866                   7  3307.28   \n",
       "995       1995  2016-04-01     5300         135                  26   193.49   \n",
       "996       1996  2016-01-21     5237         788                  36  2920.38   \n",
       "997         -1  2016-01-31     5802         729                   6  2316.65   \n",
       "998       1998  2016-01-27     5703         478                  10  1627.25   \n",
       "999       1999  2016-07-02     5680         810                  14  4246.21   \n",
       "\n",
       "    User Type  \n",
       "0           n  \n",
       "1           n  \n",
       "2           n  \n",
       "3           n  \n",
       "4           n  \n",
       "5           n  \n",
       "6           n  \n",
       "7           n  \n",
       "8           n  \n",
       "9           n  \n",
       "10          n  \n",
       "11          n  \n",
       "12          n  \n",
       "13          n  \n",
       "14          n  \n",
       "15          n  \n",
       "16          n  \n",
       "17          n  \n",
       "18          n  \n",
       "19          n  \n",
       "20          n  \n",
       "21          n  \n",
       "22          n  \n",
       "23          n  \n",
       "24          a  \n",
       "25          n  \n",
       "26          n  \n",
       "27          a  \n",
       "28          a  \n",
       "29          a  \n",
       "..        ...  \n",
       "970         c  \n",
       "971         b  \n",
       "972         a  \n",
       "973         a  \n",
       "974         c  \n",
       "975         d  \n",
       "976         b  \n",
       "977         a  \n",
       "978         c  \n",
       "979         b  \n",
       "980         d  \n",
       "981         b  \n",
       "982         a  \n",
       "983         d  \n",
       "984         c  \n",
       "985         c  \n",
       "986         d  \n",
       "987         c  \n",
       "988         c  \n",
       "989         c  \n",
       "990         c  \n",
       "991         c  \n",
       "992         b  \n",
       "993         c  \n",
       "994         b  \n",
       "995         a  \n",
       "996         b  \n",
       "997         d  \n",
       "998         d  \n",
       "999         b  \n",
       "\n",
       "[1000 rows x 7 columns]"
      ]
     },
     "execution_count": 12,
     "metadata": {},
     "output_type": "execute_result"
    }
   ],
   "source": [
    "df = generate_sample_data(row_count=1000)\n",
    "df"
   ]
  },
  {
   "cell_type": "markdown",
   "metadata": {},
   "source": [
    "### Describe the dataset"
   ]
  },
  {
   "cell_type": "code",
   "execution_count": 13,
   "metadata": {},
   "outputs": [
    {
     "name": "stdout",
     "output_type": "stream",
     "text": [
      "\n",
      "\n",
      "\n",
      "******************************\n",
      "About the Data\n",
      "******************************\n",
      "Number of rows:: 1000\n",
      "Number of columns:: 7\n",
      "\n",
      "\n",
      "Column Names:: ['Serial No', 'Date', 'User ID', 'Product ID', 'Quantity Purchased', 'Price', 'User Type']\n",
      "\n",
      "\n",
      "Column Data Types::\n",
      " Serial No               int32\n",
      "Date                   object\n",
      "User ID                 int64\n",
      "Product ID              int64\n",
      "Quantity Purchased      int32\n",
      "Price                 float64\n",
      "User Type              object\n",
      "dtype: object\n",
      "\n",
      "\n",
      "Columns with Missing Values:: ['Date', 'Price']\n",
      "\n",
      "\n",
      "Number of rows with Missing Values:: 60\n",
      "\n",
      "\n",
      "Sample Indices with missing data:: [2, 3, 6, 7, 8]\n",
      "\n",
      "\n",
      "General Stats::\n",
      "<class 'pandas.core.frame.DataFrame'>\n",
      "RangeIndex: 1000 entries, 0 to 999\n",
      "Data columns (total 7 columns):\n",
      "Serial No             1000 non-null int32\n",
      "Date                  969 non-null object\n",
      "User ID               1000 non-null int64\n",
      "Product ID            1000 non-null int64\n",
      "Quantity Purchased    1000 non-null int32\n",
      "Price                 969 non-null float64\n",
      "User Type             1000 non-null object\n",
      "dtypes: float64(1), int32(2), int64(2), object(2)\n",
      "memory usage: 47.0+ KB\n",
      "None\n",
      "\n",
      "\n",
      "Summary Stats::\n"
     ]
    },
    {
     "name": "stderr",
     "output_type": "stream",
     "text": [
      "C:\\ProgramData\\Anaconda3\\lib\\site-packages\\ipykernel_launcher.py:98: FutureWarning: Series.nonzero() is deprecated and will be removed in a future version.Use Series.to_numpy().nonzero() instead\n",
      "C:\\ProgramData\\Anaconda3\\lib\\site-packages\\ipykernel_launcher.py:101: FutureWarning: Series.nonzero() is deprecated and will be removed in a future version.Use Series.to_numpy().nonzero() instead\n"
     ]
    },
    {
     "name": "stdout",
     "output_type": "stream",
     "text": [
      "         Serial No      User ID   Product ID  Quantity Purchased        Price\n",
      "count  1000.000000  1000.000000  1000.000000         1000.000000   969.000000\n",
      "mean   1455.035000  5494.219000   586.593000           20.867000  2280.230764\n",
      "std     379.491963   320.623565   304.847692           12.018226  1625.363985\n",
      "min      -1.000000  -101.000000     0.000000            1.000000     4.050000\n",
      "25%    1228.750000  5254.000000   321.000000           11.000000   963.060000\n",
      "50%    1482.500000  5458.500000   579.500000           20.000000  2025.220000\n",
      "75%    1740.250000  5708.250000   864.500000           31.000000  3259.570000\n",
      "max    1999.000000  5975.000000  1099.000000           41.000000  8750.950000\n",
      "\n",
      "\n",
      "Dataframe Sample Rows::\n"
     ]
    },
    {
     "data": {
      "text/html": [
       "<div>\n",
       "<style scoped>\n",
       "    .dataframe tbody tr th:only-of-type {\n",
       "        vertical-align: middle;\n",
       "    }\n",
       "\n",
       "    .dataframe tbody tr th {\n",
       "        vertical-align: top;\n",
       "    }\n",
       "\n",
       "    .dataframe thead th {\n",
       "        text-align: right;\n",
       "    }\n",
       "</style>\n",
       "<table border=\"1\" class=\"dataframe\">\n",
       "  <thead>\n",
       "    <tr style=\"text-align: right;\">\n",
       "      <th></th>\n",
       "      <th>Serial No</th>\n",
       "      <th>Date</th>\n",
       "      <th>User ID</th>\n",
       "      <th>Product ID</th>\n",
       "      <th>Quantity Purchased</th>\n",
       "      <th>Price</th>\n",
       "      <th>User Type</th>\n",
       "    </tr>\n",
       "  </thead>\n",
       "  <tbody>\n",
       "    <tr>\n",
       "      <th>0</th>\n",
       "      <td>1000</td>\n",
       "      <td>2016-01-14</td>\n",
       "      <td>-101</td>\n",
       "      <td>0</td>\n",
       "      <td>41</td>\n",
       "      <td>3365.12</td>\n",
       "      <td>n</td>\n",
       "    </tr>\n",
       "    <tr>\n",
       "      <th>1</th>\n",
       "      <td>1001</td>\n",
       "      <td>2016-01-15</td>\n",
       "      <td>5899</td>\n",
       "      <td>917</td>\n",
       "      <td>36</td>\n",
       "      <td>3908.42</td>\n",
       "      <td>n</td>\n",
       "    </tr>\n",
       "    <tr>\n",
       "      <th>2</th>\n",
       "      <td>1002</td>\n",
       "      <td>NaN</td>\n",
       "      <td>5600</td>\n",
       "      <td>334</td>\n",
       "      <td>10</td>\n",
       "      <td>626.91</td>\n",
       "      <td>n</td>\n",
       "    </tr>\n",
       "    <tr>\n",
       "      <th>3</th>\n",
       "      <td>1003</td>\n",
       "      <td>NaN</td>\n",
       "      <td>5013</td>\n",
       "      <td>494</td>\n",
       "      <td>7</td>\n",
       "      <td>2210.93</td>\n",
       "      <td>n</td>\n",
       "    </tr>\n",
       "    <tr>\n",
       "      <th>4</th>\n",
       "      <td>1004</td>\n",
       "      <td>2016-01-23</td>\n",
       "      <td>5098</td>\n",
       "      <td>1098</td>\n",
       "      <td>4</td>\n",
       "      <td>55.96</td>\n",
       "      <td>n</td>\n",
       "    </tr>\n",
       "  </tbody>\n",
       "</table>\n",
       "</div>"
      ],
      "text/plain": [
       "   Serial No        Date  User ID  Product ID  Quantity Purchased    Price  \\\n",
       "0       1000  2016-01-14     -101           0                  41  3365.12   \n",
       "1       1001  2016-01-15     5899         917                  36  3908.42   \n",
       "2       1002         NaN     5600         334                  10   626.91   \n",
       "3       1003         NaN     5013         494                   7  2210.93   \n",
       "4       1004  2016-01-23     5098        1098                   4    55.96   \n",
       "\n",
       "  User Type  \n",
       "0         n  \n",
       "1         n  \n",
       "2         n  \n",
       "3         n  \n",
       "4         n  "
      ]
     },
     "metadata": {},
     "output_type": "display_data"
    }
   ],
   "source": [
    "describe_dataframe(df)"
   ]
  },
  {
   "cell_type": "markdown",
   "metadata": {},
   "source": [
    "### Rename Columns"
   ]
  },
  {
   "cell_type": "code",
   "execution_count": 14,
   "metadata": {},
   "outputs": [
    {
     "name": "stdout",
     "output_type": "stream",
     "text": [
      "Dataframe columns:\n",
      "['Serial No', 'Date', 'User ID', 'Product ID', 'Quantity Purchased', 'Price', 'User Type']\n"
     ]
    }
   ],
   "source": [
    "print(\"Dataframe columns:\\n{}\".format(df.columns.tolist()))"
   ]
  },
  {
   "cell_type": "code",
   "execution_count": 15,
   "metadata": {},
   "outputs": [],
   "source": [
    "cleanup_column_names(df)"
   ]
  },
  {
   "cell_type": "code",
   "execution_count": 16,
   "metadata": {},
   "outputs": [
    {
     "name": "stdout",
     "output_type": "stream",
     "text": [
      "Dataframe columns:\n",
      "['serial_no', 'date', 'user_id', 'product_id', 'quantity_purchased', 'price', 'user_type']\n"
     ]
    }
   ],
   "source": [
    "print(\"Dataframe columns:\\n{}\".format(df.columns.tolist()))"
   ]
  },
  {
   "cell_type": "markdown",
   "metadata": {},
   "source": [
    "### Sort Rows on defined attributes"
   ]
  },
  {
   "cell_type": "code",
   "execution_count": 17,
   "metadata": {},
   "outputs": [
    {
     "data": {
      "text/html": [
       "<div>\n",
       "<style scoped>\n",
       "    .dataframe tbody tr th:only-of-type {\n",
       "        vertical-align: middle;\n",
       "    }\n",
       "\n",
       "    .dataframe tbody tr th {\n",
       "        vertical-align: top;\n",
       "    }\n",
       "\n",
       "    .dataframe thead th {\n",
       "        text-align: right;\n",
       "    }\n",
       "</style>\n",
       "<table border=\"1\" class=\"dataframe\">\n",
       "  <thead>\n",
       "    <tr style=\"text-align: right;\">\n",
       "      <th></th>\n",
       "      <th>serial_no</th>\n",
       "      <th>date</th>\n",
       "      <th>user_id</th>\n",
       "      <th>product_id</th>\n",
       "      <th>quantity_purchased</th>\n",
       "      <th>price</th>\n",
       "      <th>user_type</th>\n",
       "    </tr>\n",
       "  </thead>\n",
       "  <tbody>\n",
       "    <tr>\n",
       "      <th>350</th>\n",
       "      <td>-1</td>\n",
       "      <td>2016-11-02</td>\n",
       "      <td>5397</td>\n",
       "      <td>661</td>\n",
       "      <td>4</td>\n",
       "      <td>7748.47</td>\n",
       "      <td>a</td>\n",
       "    </tr>\n",
       "    <tr>\n",
       "      <th>302</th>\n",
       "      <td>-1</td>\n",
       "      <td>2016-01-27</td>\n",
       "      <td>5600</td>\n",
       "      <td>334</td>\n",
       "      <td>34</td>\n",
       "      <td>6955.32</td>\n",
       "      <td>b</td>\n",
       "    </tr>\n",
       "    <tr>\n",
       "      <th>407</th>\n",
       "      <td>-1</td>\n",
       "      <td>2016-01-26</td>\n",
       "      <td>5225</td>\n",
       "      <td>886</td>\n",
       "      <td>4</td>\n",
       "      <td>5169.43</td>\n",
       "      <td>d</td>\n",
       "    </tr>\n",
       "    <tr>\n",
       "      <th>652</th>\n",
       "      <td>-1</td>\n",
       "      <td>2016-01-15</td>\n",
       "      <td>5490</td>\n",
       "      <td>321</td>\n",
       "      <td>12</td>\n",
       "      <td>4210.00</td>\n",
       "      <td>b</td>\n",
       "    </tr>\n",
       "    <tr>\n",
       "      <th>874</th>\n",
       "      <td>-1</td>\n",
       "      <td>2016-01-16</td>\n",
       "      <td>5557</td>\n",
       "      <td>235</td>\n",
       "      <td>21</td>\n",
       "      <td>4047.67</td>\n",
       "      <td>d</td>\n",
       "    </tr>\n",
       "  </tbody>\n",
       "</table>\n",
       "</div>"
      ],
      "text/plain": [
       "     serial_no        date  user_id  product_id  quantity_purchased    price  \\\n",
       "350         -1  2016-11-02     5397         661                   4  7748.47   \n",
       "302         -1  2016-01-27     5600         334                  34  6955.32   \n",
       "407         -1  2016-01-26     5225         886                   4  5169.43   \n",
       "652         -1  2016-01-15     5490         321                  12  4210.00   \n",
       "874         -1  2016-01-16     5557         235                  21  4047.67   \n",
       "\n",
       "    user_type  \n",
       "350         a  \n",
       "302         b  \n",
       "407         d  \n",
       "652         b  \n",
       "874         d  "
      ]
     },
     "metadata": {},
     "output_type": "display_data"
    }
   ],
   "source": [
    "display(df.sort_values(['serial_no', 'price'], \n",
    "                         ascending=[True, False]).head())"
   ]
  },
  {
   "cell_type": "markdown",
   "metadata": {},
   "source": [
    "### Rearrange Columns in a Dataframe"
   ]
  },
  {
   "cell_type": "code",
   "execution_count": 18,
   "metadata": {},
   "outputs": [
    {
     "data": {
      "text/html": [
       "<div>\n",
       "<style scoped>\n",
       "    .dataframe tbody tr th:only-of-type {\n",
       "        vertical-align: middle;\n",
       "    }\n",
       "\n",
       "    .dataframe tbody tr th {\n",
       "        vertical-align: top;\n",
       "    }\n",
       "\n",
       "    .dataframe thead th {\n",
       "        text-align: right;\n",
       "    }\n",
       "</style>\n",
       "<table border=\"1\" class=\"dataframe\">\n",
       "  <thead>\n",
       "    <tr style=\"text-align: right;\">\n",
       "      <th></th>\n",
       "      <th>serial_no</th>\n",
       "      <th>date</th>\n",
       "      <th>user_id</th>\n",
       "      <th>user_type</th>\n",
       "      <th>product_id</th>\n",
       "      <th>quantity_purchased</th>\n",
       "      <th>price</th>\n",
       "    </tr>\n",
       "  </thead>\n",
       "  <tbody>\n",
       "    <tr>\n",
       "      <th>0</th>\n",
       "      <td>1000</td>\n",
       "      <td>2016-01-14</td>\n",
       "      <td>-101</td>\n",
       "      <td>n</td>\n",
       "      <td>0</td>\n",
       "      <td>41</td>\n",
       "      <td>3365.12</td>\n",
       "    </tr>\n",
       "    <tr>\n",
       "      <th>1</th>\n",
       "      <td>1001</td>\n",
       "      <td>2016-01-15</td>\n",
       "      <td>5899</td>\n",
       "      <td>n</td>\n",
       "      <td>917</td>\n",
       "      <td>36</td>\n",
       "      <td>3908.42</td>\n",
       "    </tr>\n",
       "    <tr>\n",
       "      <th>2</th>\n",
       "      <td>1002</td>\n",
       "      <td>NaN</td>\n",
       "      <td>5600</td>\n",
       "      <td>n</td>\n",
       "      <td>334</td>\n",
       "      <td>10</td>\n",
       "      <td>626.91</td>\n",
       "    </tr>\n",
       "    <tr>\n",
       "      <th>3</th>\n",
       "      <td>1003</td>\n",
       "      <td>NaN</td>\n",
       "      <td>5013</td>\n",
       "      <td>n</td>\n",
       "      <td>494</td>\n",
       "      <td>7</td>\n",
       "      <td>2210.93</td>\n",
       "    </tr>\n",
       "    <tr>\n",
       "      <th>4</th>\n",
       "      <td>1004</td>\n",
       "      <td>2016-01-23</td>\n",
       "      <td>5098</td>\n",
       "      <td>n</td>\n",
       "      <td>1098</td>\n",
       "      <td>4</td>\n",
       "      <td>55.96</td>\n",
       "    </tr>\n",
       "  </tbody>\n",
       "</table>\n",
       "</div>"
      ],
      "text/plain": [
       "   serial_no        date  user_id user_type  product_id  quantity_purchased  \\\n",
       "0       1000  2016-01-14     -101         n           0                  41   \n",
       "1       1001  2016-01-15     5899         n         917                  36   \n",
       "2       1002         NaN     5600         n         334                  10   \n",
       "3       1003         NaN     5013         n         494                   7   \n",
       "4       1004  2016-01-23     5098         n        1098                   4   \n",
       "\n",
       "     price  \n",
       "0  3365.12  \n",
       "1  3908.42  \n",
       "2   626.91  \n",
       "3  2210.93  \n",
       "4    55.96  "
      ]
     },
     "metadata": {},
     "output_type": "display_data"
    }
   ],
   "source": [
    "display(df[['serial_no','date','user_id','user_type',\n",
    "              'product_id','quantity_purchased','price']].head())"
   ]
  },
  {
   "cell_type": "markdown",
   "metadata": {},
   "source": [
    "# Filtering Columns"
   ]
  },
  {
   "cell_type": "markdown",
   "metadata": {},
   "source": [
    "using Column index"
   ]
  },
  {
   "cell_type": "code",
   "execution_count": 28,
   "metadata": {},
   "outputs": [
    {
     "name": "stdout",
     "output_type": "stream",
     "text": [
      "[   0  917  334  494 1098  364  204  886  849  830]\n"
     ]
    }
   ],
   "source": [
    "# print 10 values from column at index 3\n",
    "print(df.iloc[:,3].values[0:10])"
   ]
  },
  {
   "cell_type": "code",
   "execution_count": 20,
   "metadata": {},
   "outputs": [
    {
     "name": "stdout",
     "output_type": "stream",
     "text": [
      "[41 36 10  7  4 27 29 40 21  9]\n"
     ]
    }
   ],
   "source": [
    "# print 10 values of quantity purchased\n",
    "print(df.quantity_purchased.values[0:10])"
   ]
  },
  {
   "cell_type": "markdown",
   "metadata": {},
   "source": [
    "## Filtering Rows"
   ]
  },
  {
   "cell_type": "markdown",
   "metadata": {},
   "source": [
    "Select specific rows"
   ]
  },
  {
   "cell_type": "code",
   "execution_count": 29,
   "metadata": {},
   "outputs": [
    {
     "data": {
      "text/html": [
       "<div>\n",
       "<style scoped>\n",
       "    .dataframe tbody tr th:only-of-type {\n",
       "        vertical-align: middle;\n",
       "    }\n",
       "\n",
       "    .dataframe tbody tr th {\n",
       "        vertical-align: top;\n",
       "    }\n",
       "\n",
       "    .dataframe thead th {\n",
       "        text-align: right;\n",
       "    }\n",
       "</style>\n",
       "<table border=\"1\" class=\"dataframe\">\n",
       "  <thead>\n",
       "    <tr style=\"text-align: right;\">\n",
       "      <th></th>\n",
       "      <th>serial_no</th>\n",
       "      <th>date</th>\n",
       "      <th>user_id</th>\n",
       "      <th>product_id</th>\n",
       "      <th>quantity_purchased</th>\n",
       "      <th>price</th>\n",
       "      <th>user_type</th>\n",
       "    </tr>\n",
       "  </thead>\n",
       "  <tbody>\n",
       "    <tr>\n",
       "      <th>10</th>\n",
       "      <td>1010</td>\n",
       "      <td>2016-01-17</td>\n",
       "      <td>5375</td>\n",
       "      <td>382</td>\n",
       "      <td>24</td>\n",
       "      <td>1257.48</td>\n",
       "      <td>n</td>\n",
       "    </tr>\n",
       "    <tr>\n",
       "      <th>501</th>\n",
       "      <td>1501</td>\n",
       "      <td>2016-01-28</td>\n",
       "      <td>5899</td>\n",
       "      <td>917</td>\n",
       "      <td>5</td>\n",
       "      <td>1704.00</td>\n",
       "      <td>d</td>\n",
       "    </tr>\n",
       "    <tr>\n",
       "      <th>20</th>\n",
       "      <td>1020</td>\n",
       "      <td>NaN</td>\n",
       "      <td>5513</td>\n",
       "      <td>1099</td>\n",
       "      <td>41</td>\n",
       "      <td>5493.57</td>\n",
       "      <td>n</td>\n",
       "    </tr>\n",
       "  </tbody>\n",
       "</table>\n",
       "</div>"
      ],
      "text/plain": [
       "     serial_no        date  user_id  product_id  quantity_purchased    price  \\\n",
       "10        1010  2016-01-17     5375         382                  24  1257.48   \n",
       "501       1501  2016-01-28     5899         917                   5  1704.00   \n",
       "20        1020         NaN     5513        1099                  41  5493.57   \n",
       "\n",
       "    user_type  \n",
       "10          n  \n",
       "501         d  \n",
       "20          n  "
      ]
     },
     "metadata": {},
     "output_type": "display_data"
    }
   ],
   "source": [
    "display(df.iloc[[10,501,20]])"
   ]
  },
  {
   "cell_type": "markdown",
   "metadata": {},
   "source": [
    "Exclude Specific Row indices\n"
   ]
  },
  {
   "cell_type": "code",
   "execution_count": 30,
   "metadata": {},
   "outputs": [
    {
     "data": {
      "text/html": [
       "<div>\n",
       "<style scoped>\n",
       "    .dataframe tbody tr th:only-of-type {\n",
       "        vertical-align: middle;\n",
       "    }\n",
       "\n",
       "    .dataframe tbody tr th {\n",
       "        vertical-align: top;\n",
       "    }\n",
       "\n",
       "    .dataframe thead th {\n",
       "        text-align: right;\n",
       "    }\n",
       "</style>\n",
       "<table border=\"1\" class=\"dataframe\">\n",
       "  <thead>\n",
       "    <tr style=\"text-align: right;\">\n",
       "      <th></th>\n",
       "      <th>serial_no</th>\n",
       "      <th>date</th>\n",
       "      <th>user_id</th>\n",
       "      <th>product_id</th>\n",
       "      <th>quantity_purchased</th>\n",
       "      <th>price</th>\n",
       "      <th>user_type</th>\n",
       "    </tr>\n",
       "  </thead>\n",
       "  <tbody>\n",
       "    <tr>\n",
       "      <th>1</th>\n",
       "      <td>1001</td>\n",
       "      <td>2016-01-15</td>\n",
       "      <td>5899</td>\n",
       "      <td>917</td>\n",
       "      <td>36</td>\n",
       "      <td>3908.42</td>\n",
       "      <td>n</td>\n",
       "    </tr>\n",
       "    <tr>\n",
       "      <th>2</th>\n",
       "      <td>1002</td>\n",
       "      <td>NaN</td>\n",
       "      <td>5600</td>\n",
       "      <td>334</td>\n",
       "      <td>10</td>\n",
       "      <td>626.91</td>\n",
       "      <td>n</td>\n",
       "    </tr>\n",
       "    <tr>\n",
       "      <th>3</th>\n",
       "      <td>1003</td>\n",
       "      <td>NaN</td>\n",
       "      <td>5013</td>\n",
       "      <td>494</td>\n",
       "      <td>7</td>\n",
       "      <td>2210.93</td>\n",
       "      <td>n</td>\n",
       "    </tr>\n",
       "    <tr>\n",
       "      <th>4</th>\n",
       "      <td>1004</td>\n",
       "      <td>2016-01-23</td>\n",
       "      <td>5098</td>\n",
       "      <td>1098</td>\n",
       "      <td>4</td>\n",
       "      <td>55.96</td>\n",
       "      <td>n</td>\n",
       "    </tr>\n",
       "    <tr>\n",
       "      <th>5</th>\n",
       "      <td>1005</td>\n",
       "      <td>2016-01-24</td>\n",
       "      <td>5920</td>\n",
       "      <td>364</td>\n",
       "      <td>27</td>\n",
       "      <td>1680.07</td>\n",
       "      <td>n</td>\n",
       "    </tr>\n",
       "  </tbody>\n",
       "</table>\n",
       "</div>"
      ],
      "text/plain": [
       "   serial_no        date  user_id  product_id  quantity_purchased    price  \\\n",
       "1       1001  2016-01-15     5899         917                  36  3908.42   \n",
       "2       1002         NaN     5600         334                  10   626.91   \n",
       "3       1003         NaN     5013         494                   7  2210.93   \n",
       "4       1004  2016-01-23     5098        1098                   4    55.96   \n",
       "5       1005  2016-01-24     5920         364                  27  1680.07   \n",
       "\n",
       "  user_type  \n",
       "1         n  \n",
       "2         n  \n",
       "3         n  \n",
       "4         n  \n",
       "5         n  "
      ]
     },
     "metadata": {},
     "output_type": "display_data"
    }
   ],
   "source": [
    "display(df.drop([0,24,51], axis=0).head())"
   ]
  },
  {
   "cell_type": "markdown",
   "metadata": {},
   "source": [
    "Conditional Filtering"
   ]
  },
  {
   "cell_type": "code",
   "execution_count": 31,
   "metadata": {},
   "outputs": [
    {
     "data": {
      "text/html": [
       "<div>\n",
       "<style scoped>\n",
       "    .dataframe tbody tr th:only-of-type {\n",
       "        vertical-align: middle;\n",
       "    }\n",
       "\n",
       "    .dataframe tbody tr th {\n",
       "        vertical-align: top;\n",
       "    }\n",
       "\n",
       "    .dataframe thead th {\n",
       "        text-align: right;\n",
       "    }\n",
       "</style>\n",
       "<table border=\"1\" class=\"dataframe\">\n",
       "  <thead>\n",
       "    <tr style=\"text-align: right;\">\n",
       "      <th></th>\n",
       "      <th>serial_no</th>\n",
       "      <th>date</th>\n",
       "      <th>user_id</th>\n",
       "      <th>product_id</th>\n",
       "      <th>quantity_purchased</th>\n",
       "      <th>price</th>\n",
       "      <th>user_type</th>\n",
       "    </tr>\n",
       "  </thead>\n",
       "  <tbody>\n",
       "    <tr>\n",
       "      <th>0</th>\n",
       "      <td>1000</td>\n",
       "      <td>2016-01-14</td>\n",
       "      <td>-101</td>\n",
       "      <td>0</td>\n",
       "      <td>41</td>\n",
       "      <td>3365.12</td>\n",
       "      <td>n</td>\n",
       "    </tr>\n",
       "    <tr>\n",
       "      <th>1</th>\n",
       "      <td>1001</td>\n",
       "      <td>2016-01-15</td>\n",
       "      <td>5899</td>\n",
       "      <td>917</td>\n",
       "      <td>36</td>\n",
       "      <td>3908.42</td>\n",
       "      <td>n</td>\n",
       "    </tr>\n",
       "    <tr>\n",
       "      <th>5</th>\n",
       "      <td>1005</td>\n",
       "      <td>2016-01-24</td>\n",
       "      <td>5920</td>\n",
       "      <td>364</td>\n",
       "      <td>27</td>\n",
       "      <td>1680.07</td>\n",
       "      <td>n</td>\n",
       "    </tr>\n",
       "    <tr>\n",
       "      <th>6</th>\n",
       "      <td>1006</td>\n",
       "      <td>2016-11-01</td>\n",
       "      <td>5514</td>\n",
       "      <td>204</td>\n",
       "      <td>29</td>\n",
       "      <td>NaN</td>\n",
       "      <td>n</td>\n",
       "    </tr>\n",
       "    <tr>\n",
       "      <th>7</th>\n",
       "      <td>1007</td>\n",
       "      <td>NaN</td>\n",
       "      <td>5225</td>\n",
       "      <td>886</td>\n",
       "      <td>40</td>\n",
       "      <td>3538.35</td>\n",
       "      <td>n</td>\n",
       "    </tr>\n",
       "  </tbody>\n",
       "</table>\n",
       "</div>"
      ],
      "text/plain": [
       "   serial_no        date  user_id  product_id  quantity_purchased    price  \\\n",
       "0       1000  2016-01-14     -101           0                  41  3365.12   \n",
       "1       1001  2016-01-15     5899         917                  36  3908.42   \n",
       "5       1005  2016-01-24     5920         364                  27  1680.07   \n",
       "6       1006  2016-11-01     5514         204                  29      NaN   \n",
       "7       1007         NaN     5225         886                  40  3538.35   \n",
       "\n",
       "  user_type  \n",
       "0         n  \n",
       "1         n  \n",
       "5         n  \n",
       "6         n  \n",
       "7         n  "
      ]
     },
     "metadata": {},
     "output_type": "display_data"
    }
   ],
   "source": [
    "display(df[df.quantity_purchased>25].head())"
   ]
  },
  {
   "cell_type": "markdown",
   "metadata": {},
   "source": [
    "Offset from top of the dataframe"
   ]
  },
  {
   "cell_type": "code",
   "execution_count": 32,
   "metadata": {},
   "outputs": [
    {
     "data": {
      "text/html": [
       "<div>\n",
       "<style scoped>\n",
       "    .dataframe tbody tr th:only-of-type {\n",
       "        vertical-align: middle;\n",
       "    }\n",
       "\n",
       "    .dataframe tbody tr th {\n",
       "        vertical-align: top;\n",
       "    }\n",
       "\n",
       "    .dataframe thead th {\n",
       "        text-align: right;\n",
       "    }\n",
       "</style>\n",
       "<table border=\"1\" class=\"dataframe\">\n",
       "  <thead>\n",
       "    <tr style=\"text-align: right;\">\n",
       "      <th></th>\n",
       "      <th>serial_no</th>\n",
       "      <th>date</th>\n",
       "      <th>user_id</th>\n",
       "      <th>product_id</th>\n",
       "      <th>quantity_purchased</th>\n",
       "      <th>price</th>\n",
       "      <th>user_type</th>\n",
       "    </tr>\n",
       "  </thead>\n",
       "  <tbody>\n",
       "    <tr>\n",
       "      <th>100</th>\n",
       "      <td>1100</td>\n",
       "      <td>2016-04-02</td>\n",
       "      <td>5330</td>\n",
       "      <td>267</td>\n",
       "      <td>9</td>\n",
       "      <td>5680.65</td>\n",
       "      <td>d</td>\n",
       "    </tr>\n",
       "    <tr>\n",
       "      <th>101</th>\n",
       "      <td>1101</td>\n",
       "      <td>2016-04-01</td>\n",
       "      <td>5899</td>\n",
       "      <td>917</td>\n",
       "      <td>22</td>\n",
       "      <td>2605.77</td>\n",
       "      <td>a</td>\n",
       "    </tr>\n",
       "    <tr>\n",
       "      <th>102</th>\n",
       "      <td>1102</td>\n",
       "      <td>2016-02-01</td>\n",
       "      <td>5600</td>\n",
       "      <td>334</td>\n",
       "      <td>33</td>\n",
       "      <td>2435.44</td>\n",
       "      <td>c</td>\n",
       "    </tr>\n",
       "    <tr>\n",
       "      <th>103</th>\n",
       "      <td>1103</td>\n",
       "      <td>2016-01-30</td>\n",
       "      <td>5013</td>\n",
       "      <td>494</td>\n",
       "      <td>41</td>\n",
       "      <td>1662.48</td>\n",
       "      <td>c</td>\n",
       "    </tr>\n",
       "    <tr>\n",
       "      <th>104</th>\n",
       "      <td>1104</td>\n",
       "      <td>2016-01-29</td>\n",
       "      <td>5098</td>\n",
       "      <td>1098</td>\n",
       "      <td>20</td>\n",
       "      <td>3064.82</td>\n",
       "      <td>d</td>\n",
       "    </tr>\n",
       "  </tbody>\n",
       "</table>\n",
       "</div>"
      ],
      "text/plain": [
       "     serial_no        date  user_id  product_id  quantity_purchased    price  \\\n",
       "100       1100  2016-04-02     5330         267                   9  5680.65   \n",
       "101       1101  2016-04-01     5899         917                  22  2605.77   \n",
       "102       1102  2016-02-01     5600         334                  33  2435.44   \n",
       "103       1103  2016-01-30     5013         494                  41  1662.48   \n",
       "104       1104  2016-01-29     5098        1098                  20  3064.82   \n",
       "\n",
       "    user_type  \n",
       "100         d  \n",
       "101         a  \n",
       "102         c  \n",
       "103         c  \n",
       "104         d  "
      ]
     },
     "metadata": {},
     "output_type": "display_data"
    }
   ],
   "source": [
    "display(df[100:].head())"
   ]
  },
  {
   "cell_type": "markdown",
   "metadata": {},
   "source": [
    "Offset from bottom of the dataframe"
   ]
  },
  {
   "cell_type": "code",
   "execution_count": 33,
   "metadata": {},
   "outputs": [
    {
     "data": {
      "text/html": [
       "<div>\n",
       "<style scoped>\n",
       "    .dataframe tbody tr th:only-of-type {\n",
       "        vertical-align: middle;\n",
       "    }\n",
       "\n",
       "    .dataframe tbody tr th {\n",
       "        vertical-align: top;\n",
       "    }\n",
       "\n",
       "    .dataframe thead th {\n",
       "        text-align: right;\n",
       "    }\n",
       "</style>\n",
       "<table border=\"1\" class=\"dataframe\">\n",
       "  <thead>\n",
       "    <tr style=\"text-align: right;\">\n",
       "      <th></th>\n",
       "      <th>serial_no</th>\n",
       "      <th>date</th>\n",
       "      <th>user_id</th>\n",
       "      <th>product_id</th>\n",
       "      <th>quantity_purchased</th>\n",
       "      <th>price</th>\n",
       "      <th>user_type</th>\n",
       "    </tr>\n",
       "  </thead>\n",
       "  <tbody>\n",
       "    <tr>\n",
       "      <th>990</th>\n",
       "      <td>1990</td>\n",
       "      <td>2016-01-01</td>\n",
       "      <td>5975</td>\n",
       "      <td>573</td>\n",
       "      <td>40</td>\n",
       "      <td>NaN</td>\n",
       "      <td>c</td>\n",
       "    </tr>\n",
       "    <tr>\n",
       "      <th>991</th>\n",
       "      <td>1991</td>\n",
       "      <td>2016-01-01</td>\n",
       "      <td>5675</td>\n",
       "      <td>705</td>\n",
       "      <td>36</td>\n",
       "      <td>4386.59</td>\n",
       "      <td>c</td>\n",
       "    </tr>\n",
       "    <tr>\n",
       "      <th>992</th>\n",
       "      <td>1992</td>\n",
       "      <td>2016-02-02</td>\n",
       "      <td>5048</td>\n",
       "      <td>928</td>\n",
       "      <td>31</td>\n",
       "      <td>5736.67</td>\n",
       "      <td>b</td>\n",
       "    </tr>\n",
       "    <tr>\n",
       "      <th>993</th>\n",
       "      <td>1993</td>\n",
       "      <td>2016-01-19</td>\n",
       "      <td>5890</td>\n",
       "      <td>264</td>\n",
       "      <td>19</td>\n",
       "      <td>6100.55</td>\n",
       "      <td>c</td>\n",
       "    </tr>\n",
       "    <tr>\n",
       "      <th>994</th>\n",
       "      <td>1994</td>\n",
       "      <td>2016-01-20</td>\n",
       "      <td>5491</td>\n",
       "      <td>866</td>\n",
       "      <td>7</td>\n",
       "      <td>3307.28</td>\n",
       "      <td>b</td>\n",
       "    </tr>\n",
       "  </tbody>\n",
       "</table>\n",
       "</div>"
      ],
      "text/plain": [
       "     serial_no        date  user_id  product_id  quantity_purchased    price  \\\n",
       "990       1990  2016-01-01     5975         573                  40      NaN   \n",
       "991       1991  2016-01-01     5675         705                  36  4386.59   \n",
       "992       1992  2016-02-02     5048         928                  31  5736.67   \n",
       "993       1993  2016-01-19     5890         264                  19  6100.55   \n",
       "994       1994  2016-01-20     5491         866                   7  3307.28   \n",
       "\n",
       "    user_type  \n",
       "990         c  \n",
       "991         c  \n",
       "992         b  \n",
       "993         c  \n",
       "994         b  "
      ]
     },
     "metadata": {},
     "output_type": "display_data"
    }
   ],
   "source": [
    "display(df[-10:].head())"
   ]
  },
  {
   "cell_type": "markdown",
   "metadata": {},
   "source": [
    "# Typecasting /Data Type COnversion"
   ]
  },
  {
   "cell_type": "code",
   "execution_count": 34,
   "metadata": {},
   "outputs": [
    {
     "name": "stdout",
     "output_type": "stream",
     "text": [
      "serial_no                      int32\n",
      "date                  datetime64[ns]\n",
      "user_id                        int64\n",
      "product_id                     int64\n",
      "quantity_purchased             int32\n",
      "price                        float64\n",
      "user_type                     object\n",
      "dtype: object\n"
     ]
    }
   ],
   "source": [
    "df['date'] = pd.to_datetime(df.date)\n",
    "# compare dtypes of the original df with this one\n",
    "print(df.dtypes)"
   ]
  },
  {
   "cell_type": "markdown",
   "metadata": {},
   "source": [
    "## Apply/Map Usage"
   ]
  },
  {
   "cell_type": "markdown",
   "metadata": {},
   "source": [
    "Map : Create a derived attribute using map\n"
   ]
  },
  {
   "cell_type": "code",
   "execution_count": 36,
   "metadata": {},
   "outputs": [
    {
     "data": {
      "text/html": [
       "<div>\n",
       "<style scoped>\n",
       "    .dataframe tbody tr th:only-of-type {\n",
       "        vertical-align: middle;\n",
       "    }\n",
       "\n",
       "    .dataframe tbody tr th {\n",
       "        vertical-align: top;\n",
       "    }\n",
       "\n",
       "    .dataframe thead th {\n",
       "        text-align: right;\n",
       "    }\n",
       "</style>\n",
       "<table border=\"1\" class=\"dataframe\">\n",
       "  <thead>\n",
       "    <tr style=\"text-align: right;\">\n",
       "      <th></th>\n",
       "      <th>serial_no</th>\n",
       "      <th>date</th>\n",
       "      <th>user_id</th>\n",
       "      <th>product_id</th>\n",
       "      <th>quantity_purchased</th>\n",
       "      <th>price</th>\n",
       "      <th>user_type</th>\n",
       "      <th>user_class</th>\n",
       "    </tr>\n",
       "  </thead>\n",
       "  <tbody>\n",
       "    <tr>\n",
       "      <th>995</th>\n",
       "      <td>1995</td>\n",
       "      <td>2016-04-01</td>\n",
       "      <td>5300</td>\n",
       "      <td>135</td>\n",
       "      <td>26</td>\n",
       "      <td>193.49</td>\n",
       "      <td>a</td>\n",
       "      <td>new</td>\n",
       "    </tr>\n",
       "    <tr>\n",
       "      <th>996</th>\n",
       "      <td>1996</td>\n",
       "      <td>2016-01-21</td>\n",
       "      <td>5237</td>\n",
       "      <td>788</td>\n",
       "      <td>36</td>\n",
       "      <td>2920.38</td>\n",
       "      <td>b</td>\n",
       "      <td>new</td>\n",
       "    </tr>\n",
       "    <tr>\n",
       "      <th>997</th>\n",
       "      <td>-1</td>\n",
       "      <td>2016-01-31</td>\n",
       "      <td>5802</td>\n",
       "      <td>729</td>\n",
       "      <td>6</td>\n",
       "      <td>2316.65</td>\n",
       "      <td>d</td>\n",
       "      <td>loyal_existing</td>\n",
       "    </tr>\n",
       "    <tr>\n",
       "      <th>998</th>\n",
       "      <td>1998</td>\n",
       "      <td>2016-01-27</td>\n",
       "      <td>5703</td>\n",
       "      <td>478</td>\n",
       "      <td>10</td>\n",
       "      <td>1627.25</td>\n",
       "      <td>d</td>\n",
       "      <td>loyal_existing</td>\n",
       "    </tr>\n",
       "    <tr>\n",
       "      <th>999</th>\n",
       "      <td>1999</td>\n",
       "      <td>2016-07-02</td>\n",
       "      <td>5680</td>\n",
       "      <td>810</td>\n",
       "      <td>14</td>\n",
       "      <td>4246.21</td>\n",
       "      <td>b</td>\n",
       "      <td>new</td>\n",
       "    </tr>\n",
       "  </tbody>\n",
       "</table>\n",
       "</div>"
      ],
      "text/plain": [
       "     serial_no       date  user_id  product_id  quantity_purchased    price  \\\n",
       "995       1995 2016-04-01     5300         135                  26   193.49   \n",
       "996       1996 2016-01-21     5237         788                  36  2920.38   \n",
       "997         -1 2016-01-31     5802         729                   6  2316.65   \n",
       "998       1998 2016-01-27     5703         478                  10  1627.25   \n",
       "999       1999 2016-07-02     5680         810                  14  4246.21   \n",
       "\n",
       "    user_type      user_class  \n",
       "995         a             new  \n",
       "996         b             new  \n",
       "997         d  loyal_existing  \n",
       "998         d  loyal_existing  \n",
       "999         b             new  "
      ]
     },
     "metadata": {},
     "output_type": "display_data"
    }
   ],
   "source": [
    "df['user_class'] = df['user_type'].map(expand_user_type)\n",
    "display(df.tail())"
   ]
  },
  {
   "cell_type": "markdown",
   "metadata": {},
   "source": [
    "Apply: Using apply to get attribute ranges\n"
   ]
  },
  {
   "cell_type": "code",
   "execution_count": 38,
   "metadata": {},
   "outputs": [
    {
     "data": {
      "text/plain": [
       "serial_no             2000.0\n",
       "user_id               6076.0\n",
       "product_id            1099.0\n",
       "quantity_purchased      40.0\n",
       "price                 8746.9\n",
       "dtype: float64"
      ]
     },
     "metadata": {},
     "output_type": "display_data"
    }
   ],
   "source": [
    "display(df.select_dtypes(include=[np.number]).apply(lambda x: \n",
    "                                                        x.max()- x.min()))"
   ]
  },
  {
   "cell_type": "markdown",
   "metadata": {},
   "source": [
    "Applymap: Extract week from date"
   ]
  },
  {
   "cell_type": "code",
   "execution_count": 40,
   "metadata": {},
   "outputs": [],
   "source": [
    "df['purchase_week'] = df[['date']].applymap(lambda dt:dt.week \n",
    "                                                if not pd.isnull(dt.week) \n",
    "                                                else 0)"
   ]
  },
  {
   "cell_type": "code",
   "execution_count": 41,
   "metadata": {},
   "outputs": [
    {
     "data": {
      "text/html": [
       "<div>\n",
       "<style scoped>\n",
       "    .dataframe tbody tr th:only-of-type {\n",
       "        vertical-align: middle;\n",
       "    }\n",
       "\n",
       "    .dataframe tbody tr th {\n",
       "        vertical-align: top;\n",
       "    }\n",
       "\n",
       "    .dataframe thead th {\n",
       "        text-align: right;\n",
       "    }\n",
       "</style>\n",
       "<table border=\"1\" class=\"dataframe\">\n",
       "  <thead>\n",
       "    <tr style=\"text-align: right;\">\n",
       "      <th></th>\n",
       "      <th>serial_no</th>\n",
       "      <th>date</th>\n",
       "      <th>user_id</th>\n",
       "      <th>product_id</th>\n",
       "      <th>quantity_purchased</th>\n",
       "      <th>price</th>\n",
       "      <th>user_type</th>\n",
       "      <th>user_class</th>\n",
       "      <th>purchase_week</th>\n",
       "    </tr>\n",
       "  </thead>\n",
       "  <tbody>\n",
       "    <tr>\n",
       "      <th>0</th>\n",
       "      <td>1000</td>\n",
       "      <td>2016-01-14</td>\n",
       "      <td>-101</td>\n",
       "      <td>0</td>\n",
       "      <td>41</td>\n",
       "      <td>3365.12</td>\n",
       "      <td>n</td>\n",
       "      <td>error</td>\n",
       "      <td>2</td>\n",
       "    </tr>\n",
       "    <tr>\n",
       "      <th>1</th>\n",
       "      <td>1001</td>\n",
       "      <td>2016-01-15</td>\n",
       "      <td>5899</td>\n",
       "      <td>917</td>\n",
       "      <td>36</td>\n",
       "      <td>3908.42</td>\n",
       "      <td>n</td>\n",
       "      <td>error</td>\n",
       "      <td>2</td>\n",
       "    </tr>\n",
       "    <tr>\n",
       "      <th>2</th>\n",
       "      <td>1002</td>\n",
       "      <td>NaT</td>\n",
       "      <td>5600</td>\n",
       "      <td>334</td>\n",
       "      <td>10</td>\n",
       "      <td>626.91</td>\n",
       "      <td>n</td>\n",
       "      <td>error</td>\n",
       "      <td>0</td>\n",
       "    </tr>\n",
       "    <tr>\n",
       "      <th>3</th>\n",
       "      <td>1003</td>\n",
       "      <td>NaT</td>\n",
       "      <td>5013</td>\n",
       "      <td>494</td>\n",
       "      <td>7</td>\n",
       "      <td>2210.93</td>\n",
       "      <td>n</td>\n",
       "      <td>error</td>\n",
       "      <td>0</td>\n",
       "    </tr>\n",
       "    <tr>\n",
       "      <th>4</th>\n",
       "      <td>1004</td>\n",
       "      <td>2016-01-23</td>\n",
       "      <td>5098</td>\n",
       "      <td>1098</td>\n",
       "      <td>4</td>\n",
       "      <td>55.96</td>\n",
       "      <td>n</td>\n",
       "      <td>error</td>\n",
       "      <td>3</td>\n",
       "    </tr>\n",
       "  </tbody>\n",
       "</table>\n",
       "</div>"
      ],
      "text/plain": [
       "   serial_no       date  user_id  product_id  quantity_purchased    price  \\\n",
       "0       1000 2016-01-14     -101           0                  41  3365.12   \n",
       "1       1001 2016-01-15     5899         917                  36  3908.42   \n",
       "2       1002        NaT     5600         334                  10   626.91   \n",
       "3       1003        NaT     5013         494                   7  2210.93   \n",
       "4       1004 2016-01-23     5098        1098                   4    55.96   \n",
       "\n",
       "  user_type user_class  purchase_week  \n",
       "0         n      error              2  \n",
       "1         n      error              2  \n",
       "2         n      error              0  \n",
       "3         n      error              0  \n",
       "4         n      error              3  "
      ]
     },
     "metadata": {},
     "output_type": "display_data"
    }
   ],
   "source": [
    "display(df.head())"
   ]
  },
  {
   "cell_type": "markdown",
   "metadata": {},
   "source": [
    "## Missing values"
   ]
  },
  {
   "cell_type": "markdown",
   "metadata": {},
   "source": [
    "Drop Rows with missing dates\n"
   ]
  },
  {
   "cell_type": "code",
   "execution_count": 42,
   "metadata": {},
   "outputs": [
    {
     "data": {
      "text/html": [
       "<div>\n",
       "<style scoped>\n",
       "    .dataframe tbody tr th:only-of-type {\n",
       "        vertical-align: middle;\n",
       "    }\n",
       "\n",
       "    .dataframe tbody tr th {\n",
       "        vertical-align: top;\n",
       "    }\n",
       "\n",
       "    .dataframe thead th {\n",
       "        text-align: right;\n",
       "    }\n",
       "</style>\n",
       "<table border=\"1\" class=\"dataframe\">\n",
       "  <thead>\n",
       "    <tr style=\"text-align: right;\">\n",
       "      <th></th>\n",
       "      <th>serial_no</th>\n",
       "      <th>date</th>\n",
       "      <th>user_id</th>\n",
       "      <th>product_id</th>\n",
       "      <th>quantity_purchased</th>\n",
       "      <th>price</th>\n",
       "      <th>user_type</th>\n",
       "      <th>user_class</th>\n",
       "      <th>purchase_week</th>\n",
       "    </tr>\n",
       "  </thead>\n",
       "  <tbody>\n",
       "    <tr>\n",
       "      <th>0</th>\n",
       "      <td>1000</td>\n",
       "      <td>2016-01-14</td>\n",
       "      <td>-101</td>\n",
       "      <td>0</td>\n",
       "      <td>41</td>\n",
       "      <td>3365.12</td>\n",
       "      <td>n</td>\n",
       "      <td>error</td>\n",
       "      <td>2</td>\n",
       "    </tr>\n",
       "    <tr>\n",
       "      <th>1</th>\n",
       "      <td>1001</td>\n",
       "      <td>2016-01-15</td>\n",
       "      <td>5899</td>\n",
       "      <td>917</td>\n",
       "      <td>36</td>\n",
       "      <td>3908.42</td>\n",
       "      <td>n</td>\n",
       "      <td>error</td>\n",
       "      <td>2</td>\n",
       "    </tr>\n",
       "    <tr>\n",
       "      <th>4</th>\n",
       "      <td>1004</td>\n",
       "      <td>2016-01-23</td>\n",
       "      <td>5098</td>\n",
       "      <td>1098</td>\n",
       "      <td>4</td>\n",
       "      <td>55.96</td>\n",
       "      <td>n</td>\n",
       "      <td>error</td>\n",
       "      <td>3</td>\n",
       "    </tr>\n",
       "    <tr>\n",
       "      <th>5</th>\n",
       "      <td>1005</td>\n",
       "      <td>2016-01-24</td>\n",
       "      <td>5920</td>\n",
       "      <td>364</td>\n",
       "      <td>27</td>\n",
       "      <td>1680.07</td>\n",
       "      <td>n</td>\n",
       "      <td>error</td>\n",
       "      <td>3</td>\n",
       "    </tr>\n",
       "    <tr>\n",
       "      <th>6</th>\n",
       "      <td>1006</td>\n",
       "      <td>2016-11-01</td>\n",
       "      <td>5514</td>\n",
       "      <td>204</td>\n",
       "      <td>29</td>\n",
       "      <td>NaN</td>\n",
       "      <td>n</td>\n",
       "      <td>error</td>\n",
       "      <td>44</td>\n",
       "    </tr>\n",
       "  </tbody>\n",
       "</table>\n",
       "</div>"
      ],
      "text/plain": [
       "   serial_no       date  user_id  product_id  quantity_purchased    price  \\\n",
       "0       1000 2016-01-14     -101           0                  41  3365.12   \n",
       "1       1001 2016-01-15     5899         917                  36  3908.42   \n",
       "4       1004 2016-01-23     5098        1098                   4    55.96   \n",
       "5       1005 2016-01-24     5920         364                  27  1680.07   \n",
       "6       1006 2016-11-01     5514         204                  29      NaN   \n",
       "\n",
       "  user_type user_class  purchase_week  \n",
       "0         n      error              2  \n",
       "1         n      error              2  \n",
       "4         n      error              3  \n",
       "5         n      error              3  \n",
       "6         n      error             44  "
      ]
     },
     "metadata": {},
     "output_type": "display_data"
    }
   ],
   "source": [
    "df_dropped = df.dropna(subset=['date'])\n",
    "display(df_dropped.head())"
   ]
  },
  {
   "cell_type": "markdown",
   "metadata": {},
   "source": [
    "Fill Missing Price values with mean price\n"
   ]
  },
  {
   "cell_type": "code",
   "execution_count": 43,
   "metadata": {},
   "outputs": [],
   "source": [
    "df_dropped['price'].fillna(value=np.round(df.price.mean(),decimals=2),\n",
    "                                inplace=True)"
   ]
  },
  {
   "cell_type": "markdown",
   "metadata": {},
   "source": [
    "Fill Missing user_type values with value from previous row (forward fill) "
   ]
  },
  {
   "cell_type": "code",
   "execution_count": 44,
   "metadata": {},
   "outputs": [],
   "source": [
    "df_dropped['user_type'].fillna(method='ffill',inplace=True)"
   ]
  },
  {
   "cell_type": "code",
   "execution_count": 45,
   "metadata": {},
   "outputs": [],
   "source": [
    "#Fill Missing user_type values with value from next row (backward fill)\n",
    "df_dropped['user_type'].fillna(method='bfill',inplace=True)"
   ]
  },
  {
   "cell_type": "markdown",
   "metadata": {},
   "source": [
    "## Duplicates"
   ]
  },
  {
   "cell_type": "markdown",
   "metadata": {},
   "source": [
    "Drop Duplicate serial_no rows\n"
   ]
  },
  {
   "cell_type": "code",
   "execution_count": 46,
   "metadata": {},
   "outputs": [
    {
     "data": {
      "text/html": [
       "<div>\n",
       "<style scoped>\n",
       "    .dataframe tbody tr th:only-of-type {\n",
       "        vertical-align: middle;\n",
       "    }\n",
       "\n",
       "    .dataframe tbody tr th {\n",
       "        vertical-align: top;\n",
       "    }\n",
       "\n",
       "    .dataframe thead th {\n",
       "        text-align: right;\n",
       "    }\n",
       "</style>\n",
       "<table border=\"1\" class=\"dataframe\">\n",
       "  <thead>\n",
       "    <tr style=\"text-align: right;\">\n",
       "      <th></th>\n",
       "      <th>serial_no</th>\n",
       "      <th>date</th>\n",
       "      <th>user_id</th>\n",
       "      <th>product_id</th>\n",
       "      <th>quantity_purchased</th>\n",
       "      <th>price</th>\n",
       "      <th>user_type</th>\n",
       "      <th>user_class</th>\n",
       "      <th>purchase_week</th>\n",
       "    </tr>\n",
       "  </thead>\n",
       "  <tbody>\n",
       "    <tr>\n",
       "      <th>109</th>\n",
       "      <td>-1</td>\n",
       "      <td>2016-11-02</td>\n",
       "      <td>5945</td>\n",
       "      <td>830</td>\n",
       "      <td>15</td>\n",
       "      <td>2313.41</td>\n",
       "      <td>b</td>\n",
       "      <td>new</td>\n",
       "      <td>44</td>\n",
       "    </tr>\n",
       "    <tr>\n",
       "      <th>128</th>\n",
       "      <td>-1</td>\n",
       "      <td>2016-10-01</td>\n",
       "      <td>5134</td>\n",
       "      <td>287</td>\n",
       "      <td>12</td>\n",
       "      <td>1461.85</td>\n",
       "      <td>c</td>\n",
       "      <td>existing</td>\n",
       "      <td>39</td>\n",
       "    </tr>\n",
       "    <tr>\n",
       "      <th>147</th>\n",
       "      <td>-1</td>\n",
       "      <td>2016-01-25</td>\n",
       "      <td>5456</td>\n",
       "      <td>407</td>\n",
       "      <td>18</td>\n",
       "      <td>993.57</td>\n",
       "      <td>a</td>\n",
       "      <td>new</td>\n",
       "      <td>4</td>\n",
       "    </tr>\n",
       "    <tr>\n",
       "      <th>154</th>\n",
       "      <td>-1</td>\n",
       "      <td>2016-06-01</td>\n",
       "      <td>5927</td>\n",
       "      <td>1036</td>\n",
       "      <td>39</td>\n",
       "      <td>1717.04</td>\n",
       "      <td>b</td>\n",
       "      <td>new</td>\n",
       "      <td>22</td>\n",
       "    </tr>\n",
       "    <tr>\n",
       "      <th>174</th>\n",
       "      <td>-1</td>\n",
       "      <td>2016-01-02</td>\n",
       "      <td>5557</td>\n",
       "      <td>235</td>\n",
       "      <td>16</td>\n",
       "      <td>691.57</td>\n",
       "      <td>b</td>\n",
       "      <td>new</td>\n",
       "      <td>53</td>\n",
       "    </tr>\n",
       "  </tbody>\n",
       "</table>\n",
       "</div>"
      ],
      "text/plain": [
       "     serial_no       date  user_id  product_id  quantity_purchased    price  \\\n",
       "109         -1 2016-11-02     5945         830                  15  2313.41   \n",
       "128         -1 2016-10-01     5134         287                  12  1461.85   \n",
       "147         -1 2016-01-25     5456         407                  18   993.57   \n",
       "154         -1 2016-06-01     5927        1036                  39  1717.04   \n",
       "174         -1 2016-01-02     5557         235                  16   691.57   \n",
       "\n",
       "    user_type user_class  purchase_week  \n",
       "109         b        new             44  \n",
       "128         c   existing             39  \n",
       "147         a        new              4  \n",
       "154         b        new             22  \n",
       "174         b        new             53  "
      ]
     },
     "metadata": {},
     "output_type": "display_data"
    },
    {
     "name": "stdout",
     "output_type": "stream",
     "text": [
      "Shape of df=(969, 9)\n"
     ]
    }
   ],
   "source": [
    "# sample duplicates\n",
    "display(df_dropped[df_dropped.duplicated(subset=['serial_no'])].head())\n",
    "print(\"Shape of df={}\".format(df_dropped.shape))"
   ]
  },
  {
   "cell_type": "code",
   "execution_count": 47,
   "metadata": {},
   "outputs": [],
   "source": [
    "df_dropped.drop_duplicates(subset=['serial_no'],inplace=True)"
   ]
  },
  {
   "cell_type": "code",
   "execution_count": 48,
   "metadata": {},
   "outputs": [
    {
     "data": {
      "text/html": [
       "<div>\n",
       "<style scoped>\n",
       "    .dataframe tbody tr th:only-of-type {\n",
       "        vertical-align: middle;\n",
       "    }\n",
       "\n",
       "    .dataframe tbody tr th {\n",
       "        vertical-align: top;\n",
       "    }\n",
       "\n",
       "    .dataframe thead th {\n",
       "        text-align: right;\n",
       "    }\n",
       "</style>\n",
       "<table border=\"1\" class=\"dataframe\">\n",
       "  <thead>\n",
       "    <tr style=\"text-align: right;\">\n",
       "      <th></th>\n",
       "      <th>serial_no</th>\n",
       "      <th>date</th>\n",
       "      <th>user_id</th>\n",
       "      <th>product_id</th>\n",
       "      <th>quantity_purchased</th>\n",
       "      <th>price</th>\n",
       "      <th>user_type</th>\n",
       "      <th>user_class</th>\n",
       "      <th>purchase_week</th>\n",
       "    </tr>\n",
       "  </thead>\n",
       "  <tbody>\n",
       "    <tr>\n",
       "      <th>0</th>\n",
       "      <td>1000</td>\n",
       "      <td>2016-01-14</td>\n",
       "      <td>-101</td>\n",
       "      <td>0</td>\n",
       "      <td>41</td>\n",
       "      <td>3365.12</td>\n",
       "      <td>n</td>\n",
       "      <td>error</td>\n",
       "      <td>2</td>\n",
       "    </tr>\n",
       "    <tr>\n",
       "      <th>1</th>\n",
       "      <td>1001</td>\n",
       "      <td>2016-01-15</td>\n",
       "      <td>5899</td>\n",
       "      <td>917</td>\n",
       "      <td>36</td>\n",
       "      <td>3908.42</td>\n",
       "      <td>n</td>\n",
       "      <td>error</td>\n",
       "      <td>2</td>\n",
       "    </tr>\n",
       "    <tr>\n",
       "      <th>4</th>\n",
       "      <td>1004</td>\n",
       "      <td>2016-01-23</td>\n",
       "      <td>5098</td>\n",
       "      <td>1098</td>\n",
       "      <td>4</td>\n",
       "      <td>55.96</td>\n",
       "      <td>n</td>\n",
       "      <td>error</td>\n",
       "      <td>3</td>\n",
       "    </tr>\n",
       "    <tr>\n",
       "      <th>5</th>\n",
       "      <td>1005</td>\n",
       "      <td>2016-01-24</td>\n",
       "      <td>5920</td>\n",
       "      <td>364</td>\n",
       "      <td>27</td>\n",
       "      <td>1680.07</td>\n",
       "      <td>n</td>\n",
       "      <td>error</td>\n",
       "      <td>3</td>\n",
       "    </tr>\n",
       "    <tr>\n",
       "      <th>6</th>\n",
       "      <td>1006</td>\n",
       "      <td>2016-11-01</td>\n",
       "      <td>5514</td>\n",
       "      <td>204</td>\n",
       "      <td>29</td>\n",
       "      <td>2280.23</td>\n",
       "      <td>n</td>\n",
       "      <td>error</td>\n",
       "      <td>44</td>\n",
       "    </tr>\n",
       "  </tbody>\n",
       "</table>\n",
       "</div>"
      ],
      "text/plain": [
       "   serial_no       date  user_id  product_id  quantity_purchased    price  \\\n",
       "0       1000 2016-01-14     -101           0                  41  3365.12   \n",
       "1       1001 2016-01-15     5899         917                  36  3908.42   \n",
       "4       1004 2016-01-23     5098        1098                   4    55.96   \n",
       "5       1005 2016-01-24     5920         364                  27  1680.07   \n",
       "6       1006 2016-11-01     5514         204                  29  2280.23   \n",
       "\n",
       "  user_type user_class  purchase_week  \n",
       "0         n      error              2  \n",
       "1         n      error              2  \n",
       "4         n      error              3  \n",
       "5         n      error              3  \n",
       "6         n      error             44  "
      ]
     },
     "metadata": {},
     "output_type": "display_data"
    },
    {
     "name": "stdout",
     "output_type": "stream",
     "text": [
      "Shape of df=(942, 9)\n"
     ]
    }
   ],
   "source": [
    "# updated dataframe\n",
    "display(df_dropped.head())\n",
    "print(\"Shape of df={}\".format(df_dropped.shape))"
   ]
  },
  {
   "cell_type": "code",
   "execution_count": 49,
   "metadata": {},
   "outputs": [
    {
     "data": {
      "text/html": [
       "<div>\n",
       "<style scoped>\n",
       "    .dataframe tbody tr th:only-of-type {\n",
       "        vertical-align: middle;\n",
       "    }\n",
       "\n",
       "    .dataframe tbody tr th {\n",
       "        vertical-align: top;\n",
       "    }\n",
       "\n",
       "    .dataframe thead th {\n",
       "        text-align: right;\n",
       "    }\n",
       "</style>\n",
       "<table border=\"1\" class=\"dataframe\">\n",
       "  <thead>\n",
       "    <tr style=\"text-align: right;\">\n",
       "      <th></th>\n",
       "      <th>serial_no</th>\n",
       "      <th>date</th>\n",
       "      <th>user_id</th>\n",
       "      <th>product_id</th>\n",
       "      <th>quantity_purchased</th>\n",
       "      <th>price</th>\n",
       "      <th>user_type</th>\n",
       "      <th>user_class</th>\n",
       "      <th>purchase_week</th>\n",
       "    </tr>\n",
       "  </thead>\n",
       "  <tbody>\n",
       "    <tr>\n",
       "      <th>0</th>\n",
       "      <td>1000</td>\n",
       "      <td>2016-01-14</td>\n",
       "      <td>-101</td>\n",
       "      <td>0</td>\n",
       "      <td>41</td>\n",
       "      <td>3365.12</td>\n",
       "      <td>n</td>\n",
       "      <td>error</td>\n",
       "      <td>2</td>\n",
       "    </tr>\n",
       "    <tr>\n",
       "      <th>1</th>\n",
       "      <td>1001</td>\n",
       "      <td>2016-01-15</td>\n",
       "      <td>5899</td>\n",
       "      <td>917</td>\n",
       "      <td>36</td>\n",
       "      <td>3908.42</td>\n",
       "      <td>n</td>\n",
       "      <td>error</td>\n",
       "      <td>2</td>\n",
       "    </tr>\n",
       "    <tr>\n",
       "      <th>2</th>\n",
       "      <td>1002</td>\n",
       "      <td>NaT</td>\n",
       "      <td>5600</td>\n",
       "      <td>334</td>\n",
       "      <td>10</td>\n",
       "      <td>626.91</td>\n",
       "      <td>n</td>\n",
       "      <td>error</td>\n",
       "      <td>0</td>\n",
       "    </tr>\n",
       "    <tr>\n",
       "      <th>3</th>\n",
       "      <td>1003</td>\n",
       "      <td>NaT</td>\n",
       "      <td>5013</td>\n",
       "      <td>494</td>\n",
       "      <td>7</td>\n",
       "      <td>2210.93</td>\n",
       "      <td>n</td>\n",
       "      <td>error</td>\n",
       "      <td>0</td>\n",
       "    </tr>\n",
       "    <tr>\n",
       "      <th>4</th>\n",
       "      <td>1004</td>\n",
       "      <td>2016-01-23</td>\n",
       "      <td>5098</td>\n",
       "      <td>1098</td>\n",
       "      <td>4</td>\n",
       "      <td>55.96</td>\n",
       "      <td>n</td>\n",
       "      <td>error</td>\n",
       "      <td>3</td>\n",
       "    </tr>\n",
       "  </tbody>\n",
       "</table>\n",
       "</div>"
      ],
      "text/plain": [
       "   serial_no       date  user_id  product_id  quantity_purchased    price  \\\n",
       "0       1000 2016-01-14     -101           0                  41  3365.12   \n",
       "1       1001 2016-01-15     5899         917                  36  3908.42   \n",
       "2       1002        NaT     5600         334                  10   626.91   \n",
       "3       1003        NaT     5013         494                   7  2210.93   \n",
       "4       1004 2016-01-23     5098        1098                   4    55.96   \n",
       "\n",
       "  user_type user_class  purchase_week  \n",
       "0         n      error              2  \n",
       "1         n      error              2  \n",
       "2         n      error              0  \n",
       "3         n      error              0  \n",
       "4         n      error              3  "
      ]
     },
     "metadata": {},
     "output_type": "display_data"
    },
    {
     "name": "stdout",
     "output_type": "stream",
     "text": [
      "Shape of df=(1000, 9)\n"
     ]
    }
   ],
   "source": [
    "#Remove rows which have less than 3 attributes with non-missing data\n",
    "display(df.dropna(thresh=3).head())\n",
    "print(\"Shape of df={}\".format(df.dropna(thresh=3).shape))"
   ]
  },
  {
   "cell_type": "markdown",
   "metadata": {},
   "source": [
    "## Encode Categoricals"
   ]
  },
  {
   "cell_type": "markdown",
   "metadata": {},
   "source": [
    "One Hot Encoding using get_dummies()"
   ]
  },
  {
   "cell_type": "code",
   "execution_count": 50,
   "metadata": {},
   "outputs": [
    {
     "data": {
      "text/html": [
       "<div>\n",
       "<style scoped>\n",
       "    .dataframe tbody tr th:only-of-type {\n",
       "        vertical-align: middle;\n",
       "    }\n",
       "\n",
       "    .dataframe tbody tr th {\n",
       "        vertical-align: top;\n",
       "    }\n",
       "\n",
       "    .dataframe thead th {\n",
       "        text-align: right;\n",
       "    }\n",
       "</style>\n",
       "<table border=\"1\" class=\"dataframe\">\n",
       "  <thead>\n",
       "    <tr style=\"text-align: right;\">\n",
       "      <th></th>\n",
       "      <th>serial_no</th>\n",
       "      <th>date</th>\n",
       "      <th>user_id</th>\n",
       "      <th>product_id</th>\n",
       "      <th>quantity_purchased</th>\n",
       "      <th>price</th>\n",
       "      <th>user_class</th>\n",
       "      <th>purchase_week</th>\n",
       "      <th>user_type_a</th>\n",
       "      <th>user_type_b</th>\n",
       "      <th>user_type_c</th>\n",
       "      <th>user_type_d</th>\n",
       "      <th>user_type_n</th>\n",
       "    </tr>\n",
       "  </thead>\n",
       "  <tbody>\n",
       "    <tr>\n",
       "      <th>0</th>\n",
       "      <td>1000</td>\n",
       "      <td>2016-01-14</td>\n",
       "      <td>-101</td>\n",
       "      <td>0</td>\n",
       "      <td>41</td>\n",
       "      <td>3365.12</td>\n",
       "      <td>error</td>\n",
       "      <td>2</td>\n",
       "      <td>0</td>\n",
       "      <td>0</td>\n",
       "      <td>0</td>\n",
       "      <td>0</td>\n",
       "      <td>1</td>\n",
       "    </tr>\n",
       "    <tr>\n",
       "      <th>1</th>\n",
       "      <td>1001</td>\n",
       "      <td>2016-01-15</td>\n",
       "      <td>5899</td>\n",
       "      <td>917</td>\n",
       "      <td>36</td>\n",
       "      <td>3908.42</td>\n",
       "      <td>error</td>\n",
       "      <td>2</td>\n",
       "      <td>0</td>\n",
       "      <td>0</td>\n",
       "      <td>0</td>\n",
       "      <td>0</td>\n",
       "      <td>1</td>\n",
       "    </tr>\n",
       "    <tr>\n",
       "      <th>2</th>\n",
       "      <td>1002</td>\n",
       "      <td>NaT</td>\n",
       "      <td>5600</td>\n",
       "      <td>334</td>\n",
       "      <td>10</td>\n",
       "      <td>626.91</td>\n",
       "      <td>error</td>\n",
       "      <td>0</td>\n",
       "      <td>0</td>\n",
       "      <td>0</td>\n",
       "      <td>0</td>\n",
       "      <td>0</td>\n",
       "      <td>1</td>\n",
       "    </tr>\n",
       "    <tr>\n",
       "      <th>3</th>\n",
       "      <td>1003</td>\n",
       "      <td>NaT</td>\n",
       "      <td>5013</td>\n",
       "      <td>494</td>\n",
       "      <td>7</td>\n",
       "      <td>2210.93</td>\n",
       "      <td>error</td>\n",
       "      <td>0</td>\n",
       "      <td>0</td>\n",
       "      <td>0</td>\n",
       "      <td>0</td>\n",
       "      <td>0</td>\n",
       "      <td>1</td>\n",
       "    </tr>\n",
       "    <tr>\n",
       "      <th>4</th>\n",
       "      <td>1004</td>\n",
       "      <td>2016-01-23</td>\n",
       "      <td>5098</td>\n",
       "      <td>1098</td>\n",
       "      <td>4</td>\n",
       "      <td>55.96</td>\n",
       "      <td>error</td>\n",
       "      <td>3</td>\n",
       "      <td>0</td>\n",
       "      <td>0</td>\n",
       "      <td>0</td>\n",
       "      <td>0</td>\n",
       "      <td>1</td>\n",
       "    </tr>\n",
       "  </tbody>\n",
       "</table>\n",
       "</div>"
      ],
      "text/plain": [
       "   serial_no       date  user_id  product_id  quantity_purchased    price  \\\n",
       "0       1000 2016-01-14     -101           0                  41  3365.12   \n",
       "1       1001 2016-01-15     5899         917                  36  3908.42   \n",
       "2       1002        NaT     5600         334                  10   626.91   \n",
       "3       1003        NaT     5013         494                   7  2210.93   \n",
       "4       1004 2016-01-23     5098        1098                   4    55.96   \n",
       "\n",
       "  user_class  purchase_week  user_type_a  user_type_b  user_type_c  \\\n",
       "0      error              2            0            0            0   \n",
       "1      error              2            0            0            0   \n",
       "2      error              0            0            0            0   \n",
       "3      error              0            0            0            0   \n",
       "4      error              3            0            0            0   \n",
       "\n",
       "   user_type_d  user_type_n  \n",
       "0            0            1  \n",
       "1            0            1  \n",
       "2            0            1  \n",
       "3            0            1  \n",
       "4            0            1  "
      ]
     },
     "metadata": {},
     "output_type": "display_data"
    }
   ],
   "source": [
    "display(pd.get_dummies(df,columns=['user_type']).head())"
   ]
  },
  {
   "cell_type": "markdown",
   "metadata": {},
   "source": [
    "Label Mapping"
   ]
  },
  {
   "cell_type": "code",
   "execution_count": 51,
   "metadata": {},
   "outputs": [
    {
     "data": {
      "text/html": [
       "<div>\n",
       "<style scoped>\n",
       "    .dataframe tbody tr th:only-of-type {\n",
       "        vertical-align: middle;\n",
       "    }\n",
       "\n",
       "    .dataframe tbody tr th {\n",
       "        vertical-align: top;\n",
       "    }\n",
       "\n",
       "    .dataframe thead th {\n",
       "        text-align: right;\n",
       "    }\n",
       "</style>\n",
       "<table border=\"1\" class=\"dataframe\">\n",
       "  <thead>\n",
       "    <tr style=\"text-align: right;\">\n",
       "      <th></th>\n",
       "      <th>serial_no</th>\n",
       "      <th>date</th>\n",
       "      <th>user_id</th>\n",
       "      <th>product_id</th>\n",
       "      <th>quantity_purchased</th>\n",
       "      <th>price</th>\n",
       "      <th>user_type</th>\n",
       "      <th>user_class</th>\n",
       "      <th>purchase_week</th>\n",
       "      <th>encoded_user_type</th>\n",
       "    </tr>\n",
       "  </thead>\n",
       "  <tbody>\n",
       "    <tr>\n",
       "      <th>995</th>\n",
       "      <td>1995</td>\n",
       "      <td>2016-04-01</td>\n",
       "      <td>5300</td>\n",
       "      <td>135</td>\n",
       "      <td>26</td>\n",
       "      <td>193.49</td>\n",
       "      <td>a</td>\n",
       "      <td>new</td>\n",
       "      <td>13</td>\n",
       "      <td>0.0</td>\n",
       "    </tr>\n",
       "    <tr>\n",
       "      <th>996</th>\n",
       "      <td>1996</td>\n",
       "      <td>2016-01-21</td>\n",
       "      <td>5237</td>\n",
       "      <td>788</td>\n",
       "      <td>36</td>\n",
       "      <td>2920.38</td>\n",
       "      <td>b</td>\n",
       "      <td>new</td>\n",
       "      <td>3</td>\n",
       "      <td>1.0</td>\n",
       "    </tr>\n",
       "    <tr>\n",
       "      <th>997</th>\n",
       "      <td>-1</td>\n",
       "      <td>2016-01-31</td>\n",
       "      <td>5802</td>\n",
       "      <td>729</td>\n",
       "      <td>6</td>\n",
       "      <td>2316.65</td>\n",
       "      <td>d</td>\n",
       "      <td>loyal_existing</td>\n",
       "      <td>4</td>\n",
       "      <td>3.0</td>\n",
       "    </tr>\n",
       "    <tr>\n",
       "      <th>998</th>\n",
       "      <td>1998</td>\n",
       "      <td>2016-01-27</td>\n",
       "      <td>5703</td>\n",
       "      <td>478</td>\n",
       "      <td>10</td>\n",
       "      <td>1627.25</td>\n",
       "      <td>d</td>\n",
       "      <td>loyal_existing</td>\n",
       "      <td>4</td>\n",
       "      <td>3.0</td>\n",
       "    </tr>\n",
       "    <tr>\n",
       "      <th>999</th>\n",
       "      <td>1999</td>\n",
       "      <td>2016-07-02</td>\n",
       "      <td>5680</td>\n",
       "      <td>810</td>\n",
       "      <td>14</td>\n",
       "      <td>4246.21</td>\n",
       "      <td>b</td>\n",
       "      <td>new</td>\n",
       "      <td>26</td>\n",
       "      <td>1.0</td>\n",
       "    </tr>\n",
       "  </tbody>\n",
       "</table>\n",
       "</div>"
      ],
      "text/plain": [
       "     serial_no       date  user_id  product_id  quantity_purchased    price  \\\n",
       "995       1995 2016-04-01     5300         135                  26   193.49   \n",
       "996       1996 2016-01-21     5237         788                  36  2920.38   \n",
       "997         -1 2016-01-31     5802         729                   6  2316.65   \n",
       "998       1998 2016-01-27     5703         478                  10  1627.25   \n",
       "999       1999 2016-07-02     5680         810                  14  4246.21   \n",
       "\n",
       "    user_type      user_class  purchase_week  encoded_user_type  \n",
       "995         a             new             13                0.0  \n",
       "996         b             new              3                1.0  \n",
       "997         d  loyal_existing              4                3.0  \n",
       "998         d  loyal_existing              4                3.0  \n",
       "999         b             new             26                1.0  "
      ]
     },
     "metadata": {},
     "output_type": "display_data"
    }
   ],
   "source": [
    "type_map={'a':0,'b':1,'c':2,'d':3,np.NAN:-1}\n",
    "df['encoded_user_type'] = df.user_type.map(type_map)\n",
    "display((df.tail()))"
   ]
  },
  {
   "cell_type": "markdown",
   "metadata": {},
   "source": [
    "## Random Sampling data from DataFrame"
   ]
  },
  {
   "cell_type": "code",
   "execution_count": 52,
   "metadata": {},
   "outputs": [
    {
     "data": {
      "text/html": [
       "<div>\n",
       "<style scoped>\n",
       "    .dataframe tbody tr th:only-of-type {\n",
       "        vertical-align: middle;\n",
       "    }\n",
       "\n",
       "    .dataframe tbody tr th {\n",
       "        vertical-align: top;\n",
       "    }\n",
       "\n",
       "    .dataframe thead th {\n",
       "        text-align: right;\n",
       "    }\n",
       "</style>\n",
       "<table border=\"1\" class=\"dataframe\">\n",
       "  <thead>\n",
       "    <tr style=\"text-align: right;\">\n",
       "      <th></th>\n",
       "      <th>serial_no</th>\n",
       "      <th>date</th>\n",
       "      <th>user_id</th>\n",
       "      <th>product_id</th>\n",
       "      <th>quantity_purchased</th>\n",
       "      <th>price</th>\n",
       "      <th>user_type</th>\n",
       "      <th>user_class</th>\n",
       "      <th>purchase_week</th>\n",
       "      <th>encoded_user_type</th>\n",
       "    </tr>\n",
       "  </thead>\n",
       "  <tbody>\n",
       "    <tr>\n",
       "      <th>102</th>\n",
       "      <td>1102</td>\n",
       "      <td>2016-02-01</td>\n",
       "      <td>5600</td>\n",
       "      <td>334</td>\n",
       "      <td>33</td>\n",
       "      <td>2435.44</td>\n",
       "      <td>c</td>\n",
       "      <td>existing</td>\n",
       "      <td>5</td>\n",
       "      <td>2.0</td>\n",
       "    </tr>\n",
       "    <tr>\n",
       "      <th>435</th>\n",
       "      <td>1435</td>\n",
       "      <td>2016-10-02</td>\n",
       "      <td>5253</td>\n",
       "      <td>658</td>\n",
       "      <td>23</td>\n",
       "      <td>96.49</td>\n",
       "      <td>c</td>\n",
       "      <td>existing</td>\n",
       "      <td>39</td>\n",
       "      <td>2.0</td>\n",
       "    </tr>\n",
       "    <tr>\n",
       "      <th>860</th>\n",
       "      <td>1860</td>\n",
       "      <td>2016-01-25</td>\n",
       "      <td>5349</td>\n",
       "      <td>405</td>\n",
       "      <td>4</td>\n",
       "      <td>1078.90</td>\n",
       "      <td>c</td>\n",
       "      <td>existing</td>\n",
       "      <td>4</td>\n",
       "      <td>2.0</td>\n",
       "    </tr>\n",
       "    <tr>\n",
       "      <th>270</th>\n",
       "      <td>1270</td>\n",
       "      <td>2016-05-01</td>\n",
       "      <td>5447</td>\n",
       "      <td>383</td>\n",
       "      <td>4</td>\n",
       "      <td>2675.59</td>\n",
       "      <td>b</td>\n",
       "      <td>new</td>\n",
       "      <td>17</td>\n",
       "      <td>1.0</td>\n",
       "    </tr>\n",
       "    <tr>\n",
       "      <th>106</th>\n",
       "      <td>1106</td>\n",
       "      <td>2016-01-29</td>\n",
       "      <td>5514</td>\n",
       "      <td>204</td>\n",
       "      <td>19</td>\n",
       "      <td>242.47</td>\n",
       "      <td>b</td>\n",
       "      <td>new</td>\n",
       "      <td>4</td>\n",
       "      <td>1.0</td>\n",
       "    </tr>\n",
       "  </tbody>\n",
       "</table>\n",
       "</div>"
      ],
      "text/plain": [
       "     serial_no       date  user_id  product_id  quantity_purchased    price  \\\n",
       "102       1102 2016-02-01     5600         334                  33  2435.44   \n",
       "435       1435 2016-10-02     5253         658                  23    96.49   \n",
       "860       1860 2016-01-25     5349         405                   4  1078.90   \n",
       "270       1270 2016-05-01     5447         383                   4  2675.59   \n",
       "106       1106 2016-01-29     5514         204                  19   242.47   \n",
       "\n",
       "    user_type user_class  purchase_week  encoded_user_type  \n",
       "102         c   existing              5                2.0  \n",
       "435         c   existing             39                2.0  \n",
       "860         c   existing              4                2.0  \n",
       "270         b        new             17                1.0  \n",
       "106         b        new              4                1.0  "
      ]
     },
     "metadata": {},
     "output_type": "display_data"
    }
   ],
   "source": [
    "display(df.sample(frac=0.2, replace=True, random_state=42).head())"
   ]
  },
  {
   "cell_type": "markdown",
   "metadata": {},
   "source": [
    "### Normalizing Numeric Values"
   ]
  },
  {
   "cell_type": "markdown",
   "metadata": {},
   "source": [
    "Normalize price values using Min-Max Scaler\n"
   ]
  },
  {
   "cell_type": "code",
   "execution_count": 53,
   "metadata": {},
   "outputs": [],
   "source": [
    "df_normalized = df.dropna().copy()\n",
    "min_max_scaler = preprocessing.MinMaxScaler()\n",
    "np_scaled = min_max_scaler.fit_transform(df_normalized['price'].values.reshape(-1,1))\n",
    "df_normalized['price'] = np_scaled.reshape(-1,1)"
   ]
  },
  {
   "cell_type": "code",
   "execution_count": 54,
   "metadata": {},
   "outputs": [
    {
     "data": {
      "text/html": [
       "<div>\n",
       "<style scoped>\n",
       "    .dataframe tbody tr th:only-of-type {\n",
       "        vertical-align: middle;\n",
       "    }\n",
       "\n",
       "    .dataframe tbody tr th {\n",
       "        vertical-align: top;\n",
       "    }\n",
       "\n",
       "    .dataframe thead th {\n",
       "        text-align: right;\n",
       "    }\n",
       "</style>\n",
       "<table border=\"1\" class=\"dataframe\">\n",
       "  <thead>\n",
       "    <tr style=\"text-align: right;\">\n",
       "      <th></th>\n",
       "      <th>serial_no</th>\n",
       "      <th>date</th>\n",
       "      <th>user_id</th>\n",
       "      <th>product_id</th>\n",
       "      <th>quantity_purchased</th>\n",
       "      <th>price</th>\n",
       "      <th>user_type</th>\n",
       "      <th>user_class</th>\n",
       "      <th>purchase_week</th>\n",
       "      <th>encoded_user_type</th>\n",
       "    </tr>\n",
       "  </thead>\n",
       "  <tbody>\n",
       "    <tr>\n",
       "      <th>24</th>\n",
       "      <td>1024</td>\n",
       "      <td>2016-01-25</td>\n",
       "      <td>5963</td>\n",
       "      <td>640</td>\n",
       "      <td>24</td>\n",
       "      <td>0.130222</td>\n",
       "      <td>a</td>\n",
       "      <td>new</td>\n",
       "      <td>4</td>\n",
       "      <td>0.0</td>\n",
       "    </tr>\n",
       "    <tr>\n",
       "      <th>30</th>\n",
       "      <td>1030</td>\n",
       "      <td>2016-01-26</td>\n",
       "      <td>5397</td>\n",
       "      <td>265</td>\n",
       "      <td>13</td>\n",
       "      <td>0.264418</td>\n",
       "      <td>a</td>\n",
       "      <td>new</td>\n",
       "      <td>4</td>\n",
       "      <td>0.0</td>\n",
       "    </tr>\n",
       "    <tr>\n",
       "      <th>33</th>\n",
       "      <td>1033</td>\n",
       "      <td>2016-01-31</td>\n",
       "      <td>5729</td>\n",
       "      <td>864</td>\n",
       "      <td>33</td>\n",
       "      <td>0.645466</td>\n",
       "      <td>a</td>\n",
       "      <td>new</td>\n",
       "      <td>4</td>\n",
       "      <td>0.0</td>\n",
       "    </tr>\n",
       "    <tr>\n",
       "      <th>36</th>\n",
       "      <td>1036</td>\n",
       "      <td>2016-10-01</td>\n",
       "      <td>5805</td>\n",
       "      <td>426</td>\n",
       "      <td>36</td>\n",
       "      <td>0.082301</td>\n",
       "      <td>d</td>\n",
       "      <td>loyal_existing</td>\n",
       "      <td>39</td>\n",
       "      <td>3.0</td>\n",
       "    </tr>\n",
       "    <tr>\n",
       "      <th>39</th>\n",
       "      <td>1039</td>\n",
       "      <td>2016-05-01</td>\n",
       "      <td>5631</td>\n",
       "      <td>299</td>\n",
       "      <td>5</td>\n",
       "      <td>0.042980</td>\n",
       "      <td>a</td>\n",
       "      <td>new</td>\n",
       "      <td>17</td>\n",
       "      <td>0.0</td>\n",
       "    </tr>\n",
       "  </tbody>\n",
       "</table>\n",
       "</div>"
      ],
      "text/plain": [
       "    serial_no       date  user_id  product_id  quantity_purchased     price  \\\n",
       "24       1024 2016-01-25     5963         640                  24  0.130222   \n",
       "30       1030 2016-01-26     5397         265                  13  0.264418   \n",
       "33       1033 2016-01-31     5729         864                  33  0.645466   \n",
       "36       1036 2016-10-01     5805         426                  36  0.082301   \n",
       "39       1039 2016-05-01     5631         299                   5  0.042980   \n",
       "\n",
       "   user_type      user_class  purchase_week  encoded_user_type  \n",
       "24         a             new              4                0.0  \n",
       "30         a             new              4                0.0  \n",
       "33         a             new              4                0.0  \n",
       "36         d  loyal_existing             39                3.0  \n",
       "39         a             new             17                0.0  "
      ]
     },
     "metadata": {},
     "output_type": "display_data"
    }
   ],
   "source": [
    "display(df_normalized.head())"
   ]
  },
  {
   "cell_type": "markdown",
   "metadata": {},
   "source": [
    "Normalize quantity purchased values using Robust Scaler\n"
   ]
  },
  {
   "cell_type": "code",
   "execution_count": 55,
   "metadata": {},
   "outputs": [],
   "source": [
    "df_normalized = df.dropna().copy()\n",
    "robust_scaler = preprocessing.RobustScaler()\n",
    "rs_scaled = robust_scaler.fit_transform(df_normalized['quantity_purchased'].values.reshape(-1,1))\n",
    "df_normalized['quantity_purchased'] = rs_scaled.reshape(-1,1)"
   ]
  },
  {
   "cell_type": "code",
   "execution_count": 56,
   "metadata": {
    "scrolled": true
   },
   "outputs": [
    {
     "data": {
      "text/html": [
       "<div>\n",
       "<style scoped>\n",
       "    .dataframe tbody tr th:only-of-type {\n",
       "        vertical-align: middle;\n",
       "    }\n",
       "\n",
       "    .dataframe tbody tr th {\n",
       "        vertical-align: top;\n",
       "    }\n",
       "\n",
       "    .dataframe thead th {\n",
       "        text-align: right;\n",
       "    }\n",
       "</style>\n",
       "<table border=\"1\" class=\"dataframe\">\n",
       "  <thead>\n",
       "    <tr style=\"text-align: right;\">\n",
       "      <th></th>\n",
       "      <th>serial_no</th>\n",
       "      <th>date</th>\n",
       "      <th>user_id</th>\n",
       "      <th>product_id</th>\n",
       "      <th>quantity_purchased</th>\n",
       "      <th>price</th>\n",
       "      <th>user_type</th>\n",
       "      <th>user_class</th>\n",
       "      <th>purchase_week</th>\n",
       "      <th>encoded_user_type</th>\n",
       "    </tr>\n",
       "  </thead>\n",
       "  <tbody>\n",
       "    <tr>\n",
       "      <th>24</th>\n",
       "      <td>1024</td>\n",
       "      <td>2016-01-25</td>\n",
       "      <td>5963</td>\n",
       "      <td>640</td>\n",
       "      <td>0.20</td>\n",
       "      <td>1088.85</td>\n",
       "      <td>a</td>\n",
       "      <td>new</td>\n",
       "      <td>4</td>\n",
       "      <td>0.0</td>\n",
       "    </tr>\n",
       "    <tr>\n",
       "      <th>30</th>\n",
       "      <td>1030</td>\n",
       "      <td>2016-01-26</td>\n",
       "      <td>5397</td>\n",
       "      <td>265</td>\n",
       "      <td>-0.35</td>\n",
       "      <td>2206.76</td>\n",
       "      <td>a</td>\n",
       "      <td>new</td>\n",
       "      <td>4</td>\n",
       "      <td>0.0</td>\n",
       "    </tr>\n",
       "    <tr>\n",
       "      <th>33</th>\n",
       "      <td>1033</td>\n",
       "      <td>2016-01-31</td>\n",
       "      <td>5729</td>\n",
       "      <td>864</td>\n",
       "      <td>0.65</td>\n",
       "      <td>5381.05</td>\n",
       "      <td>a</td>\n",
       "      <td>new</td>\n",
       "      <td>4</td>\n",
       "      <td>0.0</td>\n",
       "    </tr>\n",
       "    <tr>\n",
       "      <th>36</th>\n",
       "      <td>1036</td>\n",
       "      <td>2016-10-01</td>\n",
       "      <td>5805</td>\n",
       "      <td>426</td>\n",
       "      <td>0.80</td>\n",
       "      <td>689.65</td>\n",
       "      <td>d</td>\n",
       "      <td>loyal_existing</td>\n",
       "      <td>39</td>\n",
       "      <td>3.0</td>\n",
       "    </tr>\n",
       "    <tr>\n",
       "      <th>39</th>\n",
       "      <td>1039</td>\n",
       "      <td>2016-05-01</td>\n",
       "      <td>5631</td>\n",
       "      <td>299</td>\n",
       "      <td>-0.75</td>\n",
       "      <td>362.09</td>\n",
       "      <td>a</td>\n",
       "      <td>new</td>\n",
       "      <td>17</td>\n",
       "      <td>0.0</td>\n",
       "    </tr>\n",
       "  </tbody>\n",
       "</table>\n",
       "</div>"
      ],
      "text/plain": [
       "    serial_no       date  user_id  product_id  quantity_purchased    price  \\\n",
       "24       1024 2016-01-25     5963         640                0.20  1088.85   \n",
       "30       1030 2016-01-26     5397         265               -0.35  2206.76   \n",
       "33       1033 2016-01-31     5729         864                0.65  5381.05   \n",
       "36       1036 2016-10-01     5805         426                0.80   689.65   \n",
       "39       1039 2016-05-01     5631         299               -0.75   362.09   \n",
       "\n",
       "   user_type      user_class  purchase_week  encoded_user_type  \n",
       "24         a             new              4                0.0  \n",
       "30         a             new              4                0.0  \n",
       "33         a             new              4                0.0  \n",
       "36         d  loyal_existing             39                3.0  \n",
       "39         a             new             17                0.0  "
      ]
     },
     "metadata": {},
     "output_type": "display_data"
    }
   ],
   "source": [
    "display(df_normalized.head())"
   ]
  },
  {
   "cell_type": "markdown",
   "metadata": {},
   "source": [
    "### Handling JSON Files"
   ]
  },
  {
   "cell_type": "markdown",
   "metadata": {},
   "source": [
    "This notebook showcases methods to read JSON type data:\n",
    "\n",
    " + using python's inbuilt utilities\n",
    " + using pandas\n"
   ]
  },
  {
   "cell_type": "code",
   "execution_count": 7,
   "metadata": {},
   "outputs": [],
   "source": [
    "# import required libraries\n",
    "import json\n",
    "import pandas as pd"
   ]
  },
  {
   "cell_type": "markdown",
   "metadata": {},
   "source": [
    "## utilities"
   ]
  },
  {
   "cell_type": "code",
   "execution_count": 9,
   "metadata": {},
   "outputs": [],
   "source": [
    "def print_nested_dicts(nested_dict,indent_level=0):\n",
    "    \"\"\"This function prints a nested dict object\n",
    "    Args:\n",
    "        nested_dict (dict): the dictionary to be printed\n",
    "        indent_level (int): the indentation level for nesting\n",
    "    Returns:\n",
    "        None\n",
    "\n",
    "    \"\"\"\n",
    "    \n",
    "    for key, val in nested_dict.items():\n",
    "        if isinstance(val, dict):\n",
    "          print(\"{0} : \".format(key))\n",
    "          print_nested_dicts(val,indent_level=indent_level+1)\n",
    "        elif isinstance(val,list):\n",
    "            print(\"{0} : \".format(key))\n",
    "            for rec in val:\n",
    "                print_nested_dicts(rec,indent_level=indent_level+1)\n",
    "        else:\n",
    "          print(\"{0}{1} : {2}\".format(\"\\t\"*indent_level,key, val))\n",
    "\n",
    "def extract_json(file_name,do_print=True):\n",
    "    \"\"\"This function extracts and prints json content from a given file\n",
    "    Args:\n",
    "        file_name (str): file path to be read\n",
    "        do_print (bool): boolean flag to print file contents or not\n",
    "\n",
    "    Returns:\n",
    "        None\n",
    "\n",
    "    \"\"\"\n",
    "    try:\n",
    "        json_filedata = open(file_name).read() \n",
    "        json_data = json.loads(json_filedata)\n",
    "        \n",
    "        if do_print:\n",
    "            print_nested_dicts(json_data)\n",
    "    except IOError:\n",
    "        raise IOError(\"File path incorrect/ File not found\")\n",
    "    except ValueError:\n",
    "        ValueError(\"JSON file has errors\")\n",
    "    except Exception:\n",
    "        raise\n",
    "\n",
    "def extract_pandas_json(file_name,orientation=\"records\",do_print=True):\n",
    "    \"\"\"This function extracts and prints json content from a file using pandas\n",
    "       This is useful when json data represents tabular, series information\n",
    "    Args:\n",
    "        file_name (str): file path to be read\n",
    "        orientation (str): orientation of json file. Defaults to records\n",
    "        do_print (bool): boolean flag to print file contents or not\n",
    "\n",
    "    Returns:\n",
    "        None\n",
    "\n",
    "    \"\"\"\n",
    "    try:\n",
    "        df = pd.read_json(file_name,orient=orientation)\n",
    "        \n",
    "        if do_print:\n",
    "            print(df)\n",
    "    except IOError:\n",
    "        raise IOError(\"File path incorrect/ File not found\")\n",
    "    except ValueError:\n",
    "        ValueError(\"JSON file has errors\")\n",
    "    except Exception:\n",
    "        raise"
   ]
  },
  {
   "cell_type": "markdown",
   "metadata": {},
   "source": [
    "## Parse using json module"
   ]
  },
  {
   "cell_type": "markdown",
   "metadata": {},
   "source": [
    "The extract_json() function takes the input file name as input parameter."
   ]
  },
  {
   "cell_type": "code",
   "execution_count": 10,
   "metadata": {},
   "outputs": [
    {
     "name": "stdout",
     "output_type": "stream",
     "text": [
      "outer_col_1 : \n",
      "\tnested_inner_col_1 : val_1\n",
      "\tnested_inner_col_2 : 2\n",
      "\tnested_inner_col_1 : val_2\n",
      "\tnested_inner_col_2 : 2\n",
      "outer_col_2 : \n",
      "\tinner_col_1 : 3\n",
      "outer_col_3 : 4\n"
     ]
    }
   ],
   "source": [
    "extract_json(r'sample_json.json')"
   ]
  },
  {
   "cell_type": "markdown",
   "metadata": {},
   "source": [
    "The function generates a nested output resembling the structure of the JSON itself where outer_col_1's value is a nested object in itself"
   ]
  },
  {
   "cell_type": "markdown",
   "metadata": {},
   "source": [
    "## Parse using pandas\n",
    "The extract_pandas_json() function takes the input file name as input parameter. It uses pandas to do the heavy lifting"
   ]
  },
  {
   "cell_type": "code",
   "execution_count": 12,
   "metadata": {},
   "outputs": [
    {
     "name": "stdout",
     "output_type": "stream",
     "text": [
      "  col_1 col_2\n",
      "0     a     b\n",
      "1     c     d\n",
      "2     e     f\n",
      "3     g     h\n",
      "4     i     j\n",
      "5     k     l\n"
     ]
    }
   ],
   "source": [
    "extract_pandas_json(r'pandas_json.json')"
   ]
  },
  {
   "cell_type": "markdown",
   "metadata": {},
   "source": [
    "The output in the above cell shows how pandas reads a JSON and prepares a tabular dataframe\n"
   ]
  },
  {
   "cell_type": "markdown",
   "metadata": {},
   "source": [
    "# Handling XML Files\n",
    "This notebook showcases methods to read XML type data using:\n",
    "\n",
    "+ xml library\n",
    "+ xmltodict library\n"
   ]
  },
  {
   "cell_type": "code",
   "execution_count": 14,
   "metadata": {},
   "outputs": [
    {
     "ename": "ModuleNotFoundError",
     "evalue": "No module named 'xmltodict'",
     "output_type": "error",
     "traceback": [
      "\u001b[1;31m---------------------------------------------------------------------------\u001b[0m",
      "\u001b[1;31mModuleNotFoundError\u001b[0m                       Traceback (most recent call last)",
      "\u001b[1;32m<ipython-input-14-ad5a881fe261>\u001b[0m in \u001b[0;36m<module>\u001b[1;34m\u001b[0m\n\u001b[0;32m      1\u001b[0m \u001b[1;31m# import required libraries\u001b[0m\u001b[1;33m\u001b[0m\u001b[1;33m\u001b[0m\u001b[1;33m\u001b[0m\u001b[0m\n\u001b[0;32m      2\u001b[0m \u001b[1;32mimport\u001b[0m \u001b[0mxml\u001b[0m\u001b[1;33m.\u001b[0m\u001b[0metree\u001b[0m\u001b[1;33m.\u001b[0m\u001b[0mElementTree\u001b[0m \u001b[1;32mas\u001b[0m \u001b[0mET\u001b[0m\u001b[1;33m\u001b[0m\u001b[1;33m\u001b[0m\u001b[0m\n\u001b[1;32m----> 3\u001b[1;33m \u001b[1;32mimport\u001b[0m \u001b[0mxmltodict\u001b[0m\u001b[1;33m\u001b[0m\u001b[1;33m\u001b[0m\u001b[0m\n\u001b[0m",
      "\u001b[1;31mModuleNotFoundError\u001b[0m: No module named 'xmltodict'"
     ]
    }
   ],
   "source": [
    "# import required libraries\n",
    "import xml.etree.ElementTree as ET\n",
    "import xmltodict"
   ]
  },
  {
   "cell_type": "markdown",
   "metadata": {},
   "source": [
    "## Utilities"
   ]
  },
  {
   "cell_type": "code",
   "execution_count": 15,
   "metadata": {},
   "outputs": [],
   "source": [
    "def print_nested_dicts(nested_dict,indent_level=0):\n",
    "    \"\"\"This function prints a nested dict object\n",
    "    Args:\n",
    "        nested_dict (dict): the dictionary to be printed\n",
    "        indent_level (int): the indentation level for nesting\n",
    "    Returns:\n",
    "        None\n",
    "\n",
    "    \"\"\"\n",
    "    \n",
    "    for key, val in nested_dict.items():\n",
    "        if isinstance(val, dict):\n",
    "          print(\"{0} : \".format(key))\n",
    "          print_nested_dicts(val,indent_level=indent_level+1)\n",
    "        elif isinstance(val,list):\n",
    "            print(\"{0} : \".format(key))\n",
    "            for rec in val:\n",
    "                print_nested_dicts(rec,indent_level=indent_level+1)\n",
    "        else:\n",
    "          print(\"{0}{1} : {2}\".format(\"\\t\"*indent_level,key, val))\n",
    "          \n",
    "def print_xml_tree(xml_root,indent_level=0):\n",
    "    \"\"\"This function prints a nested dict object\n",
    "    Args:\n",
    "        xml_root (dict): the xml tree to be printed\n",
    "        indent_level (int): the indentation level for nesting\n",
    "    Returns:\n",
    "        None\n",
    "\n",
    "    \"\"\"\n",
    "    for child in xml_root:\n",
    "            print(\"{0}tag:{1}, attribute:{2}\".format(\n",
    "                                                \"\\t\"*indent_level,\n",
    "                                                child.tag,\n",
    "                                                child.attrib))\n",
    "                                                \n",
    "            print(\"{0}tag data:{1}\".format(\"\\t\"*indent_level,\n",
    "                                            child.text))\n",
    "                                            \n",
    "            print_xml_tree(child,indent_level=indent_level+1)\n",
    "            \n",
    "\n",
    "\n",
    "def read_xml(file_name):\n",
    "    \"\"\"This function extracts and prints XML content from a given file\n",
    "    Args:\n",
    "        file_name (str): file path to be read\n",
    "    Returns:\n",
    "        None\n",
    "\n",
    "    \"\"\"\n",
    "    try:\n",
    "        tree = ET.parse(file_name)\n",
    "        root = tree.getroot()\n",
    "        \n",
    "        print(\"Root tag:{0}\".format(root.tag))\n",
    "        print(\"Attributes of Root:: {0}\".format(root.attrib))\n",
    "        \n",
    "        print_xml_tree(root)\n",
    "            \n",
    "    except IOError:\n",
    "        raise IOError(\"File path incorrect/ File not found\")\n",
    "    except Exception:\n",
    "        raise\n",
    "\n",
    "    \n",
    "\n",
    "def read_xml2dict_xml(file_name):\n",
    "    \"\"\"This function extracts and prints xml content from a file using xml2dict\n",
    "    Args:\n",
    "        file_name (str): file path to be read\n",
    "    Returns:\n",
    "        None\n",
    "\n",
    "    \"\"\"\n",
    "    try:\n",
    "        xml_filedata = open(file_name).read() \n",
    "        ordered_dict = xmltodict.parse(xml_filedata)\n",
    "        \n",
    "        print_nested_dicts(ordered_dict)\n",
    "    except IOError:\n",
    "        raise IOError(\"File path incorrect/ File not found\")\n",
    "    except ValueError:\n",
    "        ValueError(\"XML file has errors\")\n",
    "    except Exception:\n",
    "        raise "
   ]
  },
  {
   "cell_type": "markdown",
   "metadata": {},
   "source": [
    "## Parse using XML module\n",
    "The read_xml() function takes the input file name as input parameter."
   ]
  },
  {
   "cell_type": "code",
   "execution_count": 16,
   "metadata": {},
   "outputs": [
    {
     "name": "stdout",
     "output_type": "stream",
     "text": [
      "Root tag:records\n",
      "Attributes of Root:: {'attr': 'sample xml records'}\n",
      "tag:record, attribute:{'name': 'rec_1'}\n",
      "tag data:\n",
      "\t  \n",
      "\ttag:sub_element, attribute:{}\n",
      "\ttag data:\n",
      "\t    \n",
      "\t\ttag:detail1, attribute:{}\n",
      "\t\ttag data:Attribute 1\n",
      "\t\ttag:detail2, attribute:{}\n",
      "\t\ttag data:2\n",
      "\ttag:sub_element_with_attr, attribute:{'attr': 'complex'}\n",
      "\ttag data:\n",
      "\t    Sub_Element_Text\n",
      "\t  \n",
      "\ttag:sub_element_only_attr, attribute:{'attr_val': 'only_attr'}\n",
      "\ttag data:None\n",
      "tag:record, attribute:{'name': 'rec_2'}\n",
      "tag data:\n",
      "\t  \n",
      "\ttag:sub_element, attribute:{}\n",
      "\ttag data:\n",
      "\t    \n",
      "\t\ttag:detail1, attribute:{}\n",
      "\t\ttag data:Attribute 1\n",
      "\t\ttag:detail2, attribute:{}\n",
      "\t\ttag data:2\n",
      "\ttag:sub_element_with_attr, attribute:{'attr': 'complex'}\n",
      "\ttag data:\n",
      "\t    Sub_Element_Text\n",
      "\t  \n",
      "\ttag:sub_element_only_attr, attribute:{'attr_val': 'only_attr'}\n",
      "\ttag data:None\n",
      "tag:record, attribute:{'name': 'rec_3'}\n",
      "tag data:\n",
      "\t  \n",
      "\ttag:sub_element, attribute:{}\n",
      "\ttag data:\n",
      "\t    \n",
      "\t\ttag:detail1, attribute:{}\n",
      "\t\ttag data:Attribute 1\n",
      "\t\ttag:detail2, attribute:{}\n",
      "\t\ttag data:2\n",
      "\ttag:sub_element_with_attr, attribute:{'attr': 'complex'}\n",
      "\ttag data:\n",
      "\t    Sub_Element_Text\n",
      "\t  \n",
      "\ttag:sub_element_only_attr, attribute:{'attr_val': 'only_attr'}\n",
      "\ttag data:None\n"
     ]
    }
   ],
   "source": [
    "read_xml(r'sample_xml.xml')"
   ]
  },
  {
   "cell_type": "markdown",
   "metadata": {},
   "source": [
    "The function generates a nested output resembling the structure of the XML itself. This function provides flexibility in terms of identifying the structure and parsing XML nodes as required.\n"
   ]
  },
  {
   "cell_type": "markdown",
   "metadata": {},
   "source": [
    "## Parse using xmltodict\n",
    "\n",
    "The read_xml2dict_xml() function takes the input file name as input parameter. It uses xmltodict to do the heavy lifting\n"
   ]
  },
  {
   "cell_type": "markdown",
   "metadata": {},
   "source": [
    "read_xml2dict_xml(r'sample_xml.xml')"
   ]
  },
  {
   "cell_type": "markdown",
   "metadata": {},
   "source": [
    "The output in the above cell shows how xmltodict reads an XML file. The function utilizes the xmltodict library to perform the node traversal and extract relevant information. "
   ]
  },
  {
   "cell_type": "markdown",
   "metadata": {},
   "source": [
    "## Data Summarization"
   ]
  },
  {
   "cell_type": "markdown",
   "metadata": {},
   "source": [
    "Condition based aggregation\n"
   ]
  },
  {
   "cell_type": "code",
   "execution_count": 57,
   "metadata": {},
   "outputs": [
    {
     "name": "stdout",
     "output_type": "stream",
     "text": [
      "Mean price of items purchased by user_type=a :: 2280.2370588235285\n"
     ]
    }
   ],
   "source": [
    "print(\"Mean price of items purchased by user_type=a :: {}\".format(df['price'][df['user_type']=='a'].mean()))"
   ]
  },
  {
   "cell_type": "markdown",
   "metadata": {},
   "source": [
    "Condtion based counts\n"
   ]
  },
  {
   "cell_type": "code",
   "execution_count": 58,
   "metadata": {},
   "outputs": [
    {
     "name": "stdout",
     "output_type": "stream",
     "text": [
      "4     197\n",
      "3     153\n",
      "2     108\n",
      "5      59\n",
      "39     54\n",
      "13     53\n",
      "53     52\n",
      "44     49\n",
      "26     45\n",
      "35     39\n",
      "31     38\n",
      "0      31\n",
      "9      30\n",
      "22     29\n",
      "17     28\n",
      "48     20\n",
      "18     15\n",
      "Name: purchase_week, dtype: int64\n"
     ]
    }
   ],
   "source": [
    "print(df['purchase_week'].value_counts())"
   ]
  },
  {
   "cell_type": "markdown",
   "metadata": {},
   "source": [
    "## group By"
   ]
  },
  {
   "cell_type": "markdown",
   "metadata": {},
   "source": [
    "Group By certain attributes"
   ]
  },
  {
   "cell_type": "code",
   "execution_count": 59,
   "metadata": {},
   "outputs": [
    {
     "name": "stdout",
     "output_type": "stream",
     "text": [
      "user_class\n",
      "error               623\n",
      "existing           5206\n",
      "loyal_existing     4974\n",
      "new               10064\n",
      "Name: quantity_purchased, dtype: int32\n"
     ]
    }
   ],
   "source": [
    "print(df.groupby(['user_class'])['quantity_purchased'].sum())"
   ]
  },
  {
   "cell_type": "markdown",
   "metadata": {},
   "source": [
    "Group By with different aggregate functions\n"
   ]
  },
  {
   "cell_type": "code",
   "execution_count": 60,
   "metadata": {},
   "outputs": [
    {
     "data": {
      "text/html": [
       "<div>\n",
       "<style scoped>\n",
       "    .dataframe tbody tr th:only-of-type {\n",
       "        vertical-align: middle;\n",
       "    }\n",
       "\n",
       "    .dataframe tbody tr th {\n",
       "        vertical-align: top;\n",
       "    }\n",
       "\n",
       "    .dataframe thead th {\n",
       "        text-align: right;\n",
       "    }\n",
       "</style>\n",
       "<table border=\"1\" class=\"dataframe\">\n",
       "  <thead>\n",
       "    <tr style=\"text-align: right;\">\n",
       "      <th></th>\n",
       "      <th>sum</th>\n",
       "      <th>mean</th>\n",
       "      <th>count_nonzero</th>\n",
       "    </tr>\n",
       "    <tr>\n",
       "      <th>user_class</th>\n",
       "      <th></th>\n",
       "      <th></th>\n",
       "      <th></th>\n",
       "    </tr>\n",
       "  </thead>\n",
       "  <tbody>\n",
       "    <tr>\n",
       "      <th>error</th>\n",
       "      <td>623</td>\n",
       "      <td>20.096774</td>\n",
       "      <td>31</td>\n",
       "    </tr>\n",
       "    <tr>\n",
       "      <th>existing</th>\n",
       "      <td>5206</td>\n",
       "      <td>21.423868</td>\n",
       "      <td>243</td>\n",
       "    </tr>\n",
       "    <tr>\n",
       "      <th>loyal_existing</th>\n",
       "      <td>4974</td>\n",
       "      <td>21.626087</td>\n",
       "      <td>230</td>\n",
       "    </tr>\n",
       "    <tr>\n",
       "      <th>new</th>\n",
       "      <td>10064</td>\n",
       "      <td>20.290323</td>\n",
       "      <td>496</td>\n",
       "    </tr>\n",
       "  </tbody>\n",
       "</table>\n",
       "</div>"
      ],
      "text/plain": [
       "                  sum       mean  count_nonzero\n",
       "user_class                                     \n",
       "error             623  20.096774             31\n",
       "existing         5206  21.423868            243\n",
       "loyal_existing   4974  21.626087            230\n",
       "new             10064  20.290323            496"
      ]
     },
     "metadata": {},
     "output_type": "display_data"
    }
   ],
   "source": [
    "display(df.groupby(['user_class'])['quantity_purchased'].agg([np.sum,\n",
    "                                                                np.mean,\n",
    "                                                                np.count_nonzero]))"
   ]
  },
  {
   "cell_type": "markdown",
   "metadata": {},
   "source": [
    "Group by specific aggregate functions for each attribute"
   ]
  },
  {
   "cell_type": "code",
   "execution_count": 63,
   "metadata": {},
   "outputs": [
    {
     "data": {
      "text/html": [
       "<div>\n",
       "<style scoped>\n",
       "    .dataframe tbody tr th:only-of-type {\n",
       "        vertical-align: middle;\n",
       "    }\n",
       "\n",
       "    .dataframe tbody tr th {\n",
       "        vertical-align: top;\n",
       "    }\n",
       "\n",
       "    .dataframe thead th {\n",
       "        text-align: right;\n",
       "    }\n",
       "</style>\n",
       "<table border=\"1\" class=\"dataframe\">\n",
       "  <thead>\n",
       "    <tr style=\"text-align: right;\">\n",
       "      <th></th>\n",
       "      <th></th>\n",
       "      <th>price</th>\n",
       "      <th>quantity_purchased</th>\n",
       "    </tr>\n",
       "    <tr>\n",
       "      <th>user_class</th>\n",
       "      <th>user_type</th>\n",
       "      <th></th>\n",
       "      <th></th>\n",
       "    </tr>\n",
       "  </thead>\n",
       "  <tbody>\n",
       "    <tr>\n",
       "      <th>error</th>\n",
       "      <th>n</th>\n",
       "      <td>2413.722000</td>\n",
       "      <td>41</td>\n",
       "    </tr>\n",
       "    <tr>\n",
       "      <th>existing</th>\n",
       "      <th>c</th>\n",
       "      <td>2347.025915</td>\n",
       "      <td>41</td>\n",
       "    </tr>\n",
       "    <tr>\n",
       "      <th>loyal_existing</th>\n",
       "      <th>d</th>\n",
       "      <td>2258.229330</td>\n",
       "      <td>41</td>\n",
       "    </tr>\n",
       "    <tr>\n",
       "      <th rowspan=\"2\" valign=\"top\">new</th>\n",
       "      <th>a</th>\n",
       "      <td>2280.237059</td>\n",
       "      <td>41</td>\n",
       "    </tr>\n",
       "    <tr>\n",
       "      <th>b</th>\n",
       "      <td>2219.177975</td>\n",
       "      <td>41</td>\n",
       "    </tr>\n",
       "  </tbody>\n",
       "</table>\n",
       "</div>"
      ],
      "text/plain": [
       "                                price  quantity_purchased\n",
       "user_class     user_type                                 \n",
       "error          n          2413.722000                  41\n",
       "existing       c          2347.025915                  41\n",
       "loyal_existing d          2258.229330                  41\n",
       "new            a          2280.237059                  41\n",
       "               b          2219.177975                  41"
      ]
     },
     "metadata": {},
     "output_type": "display_data"
    }
   ],
   "source": [
    "display(df.groupby(['user_class','user_type']).agg({'price':np.mean,\n",
    "                                                        'quantity_purchased':np.max}))"
   ]
  },
  {
   "cell_type": "markdown",
   "metadata": {},
   "source": [
    "Group by with multiple agg for each attribute\n"
   ]
  },
  {
   "cell_type": "code",
   "execution_count": 64,
   "metadata": {},
   "outputs": [
    {
     "name": "stderr",
     "output_type": "stream",
     "text": [
      "C:\\ProgramData\\Anaconda3\\lib\\site-packages\\pandas\\core\\groupby\\generic.py:1315: FutureWarning: using a dict with renaming is deprecated and will be removed in a future version\n",
      "  return super(DataFrameGroupBy, self).aggregate(arg, *args, **kwargs)\n"
     ]
    },
    {
     "data": {
      "text/html": [
       "<div>\n",
       "<style scoped>\n",
       "    .dataframe tbody tr th:only-of-type {\n",
       "        vertical-align: middle;\n",
       "    }\n",
       "\n",
       "    .dataframe tbody tr th {\n",
       "        vertical-align: top;\n",
       "    }\n",
       "\n",
       "    .dataframe thead tr th {\n",
       "        text-align: left;\n",
       "    }\n",
       "\n",
       "    .dataframe thead tr:last-of-type th {\n",
       "        text-align: right;\n",
       "    }\n",
       "</style>\n",
       "<table border=\"1\" class=\"dataframe\">\n",
       "  <thead>\n",
       "    <tr>\n",
       "      <th></th>\n",
       "      <th></th>\n",
       "      <th colspan=\"4\" halign=\"left\">price</th>\n",
       "      <th>quantity_purchased</th>\n",
       "    </tr>\n",
       "    <tr>\n",
       "      <th></th>\n",
       "      <th></th>\n",
       "      <th>total_price</th>\n",
       "      <th>mean_price</th>\n",
       "      <th>variance_price</th>\n",
       "      <th>count</th>\n",
       "      <th>sum</th>\n",
       "    </tr>\n",
       "    <tr>\n",
       "      <th>user_class</th>\n",
       "      <th>user_type</th>\n",
       "      <th></th>\n",
       "      <th></th>\n",
       "      <th></th>\n",
       "      <th></th>\n",
       "      <th></th>\n",
       "    </tr>\n",
       "  </thead>\n",
       "  <tbody>\n",
       "    <tr>\n",
       "      <th>error</th>\n",
       "      <th>n</th>\n",
       "      <td>72411.66</td>\n",
       "      <td>2413.722000</td>\n",
       "      <td>1701.217692</td>\n",
       "      <td>31.0</td>\n",
       "      <td>623</td>\n",
       "    </tr>\n",
       "    <tr>\n",
       "      <th>existing</th>\n",
       "      <th>c</th>\n",
       "      <td>551551.09</td>\n",
       "      <td>2347.025915</td>\n",
       "      <td>1674.627508</td>\n",
       "      <td>243.0</td>\n",
       "      <td>5206</td>\n",
       "    </tr>\n",
       "    <tr>\n",
       "      <th>loyal_existing</th>\n",
       "      <th>d</th>\n",
       "      <td>505843.37</td>\n",
       "      <td>2258.229330</td>\n",
       "      <td>1652.838556</td>\n",
       "      <td>230.0</td>\n",
       "      <td>4974</td>\n",
       "    </tr>\n",
       "    <tr>\n",
       "      <th rowspan=\"2\" valign=\"top\">new</th>\n",
       "      <th>a</th>\n",
       "      <td>542696.42</td>\n",
       "      <td>2280.237059</td>\n",
       "      <td>1643.042764</td>\n",
       "      <td>243.0</td>\n",
       "      <td>4755</td>\n",
       "    </tr>\n",
       "    <tr>\n",
       "      <th>b</th>\n",
       "      <td>537041.07</td>\n",
       "      <td>2219.177975</td>\n",
       "      <td>1531.835585</td>\n",
       "      <td>253.0</td>\n",
       "      <td>5309</td>\n",
       "    </tr>\n",
       "  </tbody>\n",
       "</table>\n",
       "</div>"
      ],
      "text/plain": [
       "                               price                                     \\\n",
       "                         total_price   mean_price variance_price  count   \n",
       "user_class     user_type                                                  \n",
       "error          n            72411.66  2413.722000    1701.217692   31.0   \n",
       "existing       c           551551.09  2347.025915    1674.627508  243.0   \n",
       "loyal_existing d           505843.37  2258.229330    1652.838556  230.0   \n",
       "new            a           542696.42  2280.237059    1643.042764  243.0   \n",
       "               b           537041.07  2219.177975    1531.835585  253.0   \n",
       "\n",
       "                         quantity_purchased  \n",
       "                                        sum  \n",
       "user_class     user_type                     \n",
       "error          n                        623  \n",
       "existing       c                       5206  \n",
       "loyal_existing d                       4974  \n",
       "new            a                       4755  \n",
       "               b                       5309  "
      ]
     },
     "metadata": {},
     "output_type": "display_data"
    }
   ],
   "source": [
    "display(df.groupby(['user_class','user_type']).agg({'price':{\n",
    "                                                                'total_price':np.sum,\n",
    "                                                                'mean_price':np.mean,\n",
    "                                                                'variance_price':np.std,\n",
    "                                                                'count':np.count_nonzero},\n",
    "                                                   'quantity_purchased':np.sum}))  "
   ]
  },
  {
   "cell_type": "markdown",
   "metadata": {},
   "source": [
    "## Pivot Table"
   ]
  },
  {
   "cell_type": "code",
   "execution_count": 65,
   "metadata": {},
   "outputs": [
    {
     "data": {
      "text/html": [
       "<div>\n",
       "<style scoped>\n",
       "    .dataframe tbody tr th:only-of-type {\n",
       "        vertical-align: middle;\n",
       "    }\n",
       "\n",
       "    .dataframe tbody tr th {\n",
       "        vertical-align: top;\n",
       "    }\n",
       "\n",
       "    .dataframe thead th {\n",
       "        text-align: right;\n",
       "    }\n",
       "</style>\n",
       "<table border=\"1\" class=\"dataframe\">\n",
       "  <thead>\n",
       "    <tr style=\"text-align: right;\">\n",
       "      <th>user_type</th>\n",
       "      <th>a</th>\n",
       "      <th>b</th>\n",
       "      <th>c</th>\n",
       "      <th>d</th>\n",
       "      <th>n</th>\n",
       "    </tr>\n",
       "    <tr>\n",
       "      <th>date</th>\n",
       "      <th></th>\n",
       "      <th></th>\n",
       "      <th></th>\n",
       "      <th></th>\n",
       "      <th></th>\n",
       "    </tr>\n",
       "  </thead>\n",
       "  <tbody>\n",
       "    <tr>\n",
       "      <th>2016-01-01</th>\n",
       "      <td>2824.663333</td>\n",
       "      <td>1688.732000</td>\n",
       "      <td>3600.575000</td>\n",
       "      <td>1899.186667</td>\n",
       "      <td>NaN</td>\n",
       "    </tr>\n",
       "    <tr>\n",
       "      <th>2016-01-02</th>\n",
       "      <td>1573.878000</td>\n",
       "      <td>2564.238000</td>\n",
       "      <td>2420.202857</td>\n",
       "      <td>2097.215000</td>\n",
       "      <td>NaN</td>\n",
       "    </tr>\n",
       "    <tr>\n",
       "      <th>2016-01-13</th>\n",
       "      <td>1612.012500</td>\n",
       "      <td>3420.524000</td>\n",
       "      <td>1643.188000</td>\n",
       "      <td>1553.170000</td>\n",
       "      <td>NaN</td>\n",
       "    </tr>\n",
       "    <tr>\n",
       "      <th>2016-01-14</th>\n",
       "      <td>3968.900000</td>\n",
       "      <td>1226.831667</td>\n",
       "      <td>1592.224000</td>\n",
       "      <td>1854.826667</td>\n",
       "      <td>3302.575</td>\n",
       "    </tr>\n",
       "    <tr>\n",
       "      <th>2016-01-15</th>\n",
       "      <td>3001.972000</td>\n",
       "      <td>3105.406250</td>\n",
       "      <td>2644.504000</td>\n",
       "      <td>1268.446250</td>\n",
       "      <td>3908.420</td>\n",
       "    </tr>\n",
       "    <tr>\n",
       "      <th>2016-01-16</th>\n",
       "      <td>2325.893333</td>\n",
       "      <td>2802.045000</td>\n",
       "      <td>2396.230000</td>\n",
       "      <td>4047.670000</td>\n",
       "      <td>NaN</td>\n",
       "    </tr>\n",
       "    <tr>\n",
       "      <th>2016-01-17</th>\n",
       "      <td>2536.400000</td>\n",
       "      <td>2242.718889</td>\n",
       "      <td>1843.233333</td>\n",
       "      <td>1240.380000</td>\n",
       "      <td>1257.480</td>\n",
       "    </tr>\n",
       "    <tr>\n",
       "      <th>2016-01-18</th>\n",
       "      <td>1881.355000</td>\n",
       "      <td>1941.725000</td>\n",
       "      <td>2053.780000</td>\n",
       "      <td>1938.190000</td>\n",
       "      <td>NaN</td>\n",
       "    </tr>\n",
       "    <tr>\n",
       "      <th>2016-01-19</th>\n",
       "      <td>2109.003333</td>\n",
       "      <td>3155.130000</td>\n",
       "      <td>2843.074000</td>\n",
       "      <td>1621.945000</td>\n",
       "      <td>NaN</td>\n",
       "    </tr>\n",
       "    <tr>\n",
       "      <th>2016-01-20</th>\n",
       "      <td>3768.706000</td>\n",
       "      <td>1641.515000</td>\n",
       "      <td>2822.875000</td>\n",
       "      <td>2604.256000</td>\n",
       "      <td>NaN</td>\n",
       "    </tr>\n",
       "    <tr>\n",
       "      <th>2016-01-21</th>\n",
       "      <td>1501.077500</td>\n",
       "      <td>2972.639000</td>\n",
       "      <td>2619.733333</td>\n",
       "      <td>3125.200000</td>\n",
       "      <td>NaN</td>\n",
       "    </tr>\n",
       "    <tr>\n",
       "      <th>2016-01-22</th>\n",
       "      <td>1189.810000</td>\n",
       "      <td>1099.960000</td>\n",
       "      <td>2943.937143</td>\n",
       "      <td>2166.815000</td>\n",
       "      <td>185.310</td>\n",
       "    </tr>\n",
       "    <tr>\n",
       "      <th>2016-01-23</th>\n",
       "      <td>2413.870000</td>\n",
       "      <td>3112.497143</td>\n",
       "      <td>2779.256667</td>\n",
       "      <td>2416.544000</td>\n",
       "      <td>55.960</td>\n",
       "    </tr>\n",
       "    <tr>\n",
       "      <th>2016-01-24</th>\n",
       "      <td>1826.895000</td>\n",
       "      <td>2202.445000</td>\n",
       "      <td>1544.718000</td>\n",
       "      <td>2525.536667</td>\n",
       "      <td>1428.780</td>\n",
       "    </tr>\n",
       "    <tr>\n",
       "      <th>2016-01-25</th>\n",
       "      <td>2952.331429</td>\n",
       "      <td>1948.967692</td>\n",
       "      <td>2336.523750</td>\n",
       "      <td>3454.863333</td>\n",
       "      <td>NaN</td>\n",
       "    </tr>\n",
       "    <tr>\n",
       "      <th>2016-01-26</th>\n",
       "      <td>2545.187500</td>\n",
       "      <td>1767.168333</td>\n",
       "      <td>2384.378182</td>\n",
       "      <td>3826.313333</td>\n",
       "      <td>NaN</td>\n",
       "    </tr>\n",
       "    <tr>\n",
       "      <th>2016-01-27</th>\n",
       "      <td>2119.661667</td>\n",
       "      <td>1987.491250</td>\n",
       "      <td>1946.831667</td>\n",
       "      <td>1855.720000</td>\n",
       "      <td>NaN</td>\n",
       "    </tr>\n",
       "    <tr>\n",
       "      <th>2016-01-28</th>\n",
       "      <td>1365.702500</td>\n",
       "      <td>1388.576000</td>\n",
       "      <td>2979.674286</td>\n",
       "      <td>2367.301667</td>\n",
       "      <td>NaN</td>\n",
       "    </tr>\n",
       "    <tr>\n",
       "      <th>2016-01-29</th>\n",
       "      <td>1588.107500</td>\n",
       "      <td>2521.665000</td>\n",
       "      <td>2165.798000</td>\n",
       "      <td>2159.865000</td>\n",
       "      <td>NaN</td>\n",
       "    </tr>\n",
       "    <tr>\n",
       "      <th>2016-01-30</th>\n",
       "      <td>1714.015000</td>\n",
       "      <td>1931.464000</td>\n",
       "      <td>2037.990000</td>\n",
       "      <td>1887.220000</td>\n",
       "      <td>1785.130</td>\n",
       "    </tr>\n",
       "    <tr>\n",
       "      <th>2016-01-31</th>\n",
       "      <td>2934.325000</td>\n",
       "      <td>2542.692222</td>\n",
       "      <td>2986.407500</td>\n",
       "      <td>2130.138571</td>\n",
       "      <td>NaN</td>\n",
       "    </tr>\n",
       "    <tr>\n",
       "      <th>2016-02-01</th>\n",
       "      <td>2338.026667</td>\n",
       "      <td>1846.141111</td>\n",
       "      <td>2671.715000</td>\n",
       "      <td>2828.246667</td>\n",
       "      <td>NaN</td>\n",
       "    </tr>\n",
       "    <tr>\n",
       "      <th>2016-02-02</th>\n",
       "      <td>1111.080000</td>\n",
       "      <td>3192.556667</td>\n",
       "      <td>1350.883333</td>\n",
       "      <td>1054.715000</td>\n",
       "      <td>4266.090</td>\n",
       "    </tr>\n",
       "    <tr>\n",
       "      <th>2016-03-01</th>\n",
       "      <td>2531.616667</td>\n",
       "      <td>1722.345000</td>\n",
       "      <td>3030.750000</td>\n",
       "      <td>1356.702500</td>\n",
       "      <td>NaN</td>\n",
       "    </tr>\n",
       "    <tr>\n",
       "      <th>2016-03-02</th>\n",
       "      <td>128.625000</td>\n",
       "      <td>831.770000</td>\n",
       "      <td>824.580000</td>\n",
       "      <td>1975.370000</td>\n",
       "      <td>NaN</td>\n",
       "    </tr>\n",
       "    <tr>\n",
       "      <th>2016-04-01</th>\n",
       "      <td>1234.917143</td>\n",
       "      <td>1487.970000</td>\n",
       "      <td>2124.760000</td>\n",
       "      <td>1714.451667</td>\n",
       "      <td>NaN</td>\n",
       "    </tr>\n",
       "    <tr>\n",
       "      <th>2016-04-02</th>\n",
       "      <td>1489.170000</td>\n",
       "      <td>2307.213333</td>\n",
       "      <td>2452.050000</td>\n",
       "      <td>2594.705455</td>\n",
       "      <td>NaN</td>\n",
       "    </tr>\n",
       "    <tr>\n",
       "      <th>2016-05-01</th>\n",
       "      <td>1462.672500</td>\n",
       "      <td>3400.865714</td>\n",
       "      <td>1959.901667</td>\n",
       "      <td>2383.846000</td>\n",
       "      <td>NaN</td>\n",
       "    </tr>\n",
       "    <tr>\n",
       "      <th>2016-05-02</th>\n",
       "      <td>1257.870000</td>\n",
       "      <td>1259.843333</td>\n",
       "      <td>1594.365000</td>\n",
       "      <td>2169.813333</td>\n",
       "      <td>NaN</td>\n",
       "    </tr>\n",
       "    <tr>\n",
       "      <th>2016-06-01</th>\n",
       "      <td>946.056000</td>\n",
       "      <td>2734.351667</td>\n",
       "      <td>1416.575000</td>\n",
       "      <td>4301.265000</td>\n",
       "      <td>NaN</td>\n",
       "    </tr>\n",
       "    <tr>\n",
       "      <th>2016-06-02</th>\n",
       "      <td>3313.123333</td>\n",
       "      <td>717.810000</td>\n",
       "      <td>3762.465000</td>\n",
       "      <td>2800.790000</td>\n",
       "      <td>NaN</td>\n",
       "    </tr>\n",
       "    <tr>\n",
       "      <th>2016-07-01</th>\n",
       "      <td>2341.767500</td>\n",
       "      <td>2201.667143</td>\n",
       "      <td>905.080000</td>\n",
       "      <td>NaN</td>\n",
       "      <td>4921.000</td>\n",
       "    </tr>\n",
       "    <tr>\n",
       "      <th>2016-07-02</th>\n",
       "      <td>1922.945556</td>\n",
       "      <td>3073.248000</td>\n",
       "      <td>1558.446250</td>\n",
       "      <td>1999.030000</td>\n",
       "      <td>889.250</td>\n",
       "    </tr>\n",
       "    <tr>\n",
       "      <th>2016-08-01</th>\n",
       "      <td>4843.974286</td>\n",
       "      <td>1166.680000</td>\n",
       "      <td>2359.680000</td>\n",
       "      <td>2098.141667</td>\n",
       "      <td>NaN</td>\n",
       "    </tr>\n",
       "    <tr>\n",
       "      <th>2016-08-02</th>\n",
       "      <td>2619.896667</td>\n",
       "      <td>2422.548333</td>\n",
       "      <td>1000.580000</td>\n",
       "      <td>2114.670000</td>\n",
       "      <td>1515.720</td>\n",
       "    </tr>\n",
       "    <tr>\n",
       "      <th>2016-09-01</th>\n",
       "      <td>2764.286667</td>\n",
       "      <td>3571.488000</td>\n",
       "      <td>5071.465000</td>\n",
       "      <td>3591.640000</td>\n",
       "      <td>3702.970</td>\n",
       "    </tr>\n",
       "    <tr>\n",
       "      <th>2016-09-02</th>\n",
       "      <td>2546.357143</td>\n",
       "      <td>1479.585000</td>\n",
       "      <td>2910.020000</td>\n",
       "      <td>1589.108000</td>\n",
       "      <td>NaN</td>\n",
       "    </tr>\n",
       "    <tr>\n",
       "      <th>2016-10-01</th>\n",
       "      <td>2090.873750</td>\n",
       "      <td>1581.422500</td>\n",
       "      <td>2116.846667</td>\n",
       "      <td>1681.665556</td>\n",
       "      <td>NaN</td>\n",
       "    </tr>\n",
       "    <tr>\n",
       "      <th>2016-10-02</th>\n",
       "      <td>2404.025000</td>\n",
       "      <td>1839.078333</td>\n",
       "      <td>1317.605000</td>\n",
       "      <td>2863.202000</td>\n",
       "      <td>NaN</td>\n",
       "    </tr>\n",
       "    <tr>\n",
       "      <th>2016-11-01</th>\n",
       "      <td>2860.617778</td>\n",
       "      <td>2580.040000</td>\n",
       "      <td>2462.773333</td>\n",
       "      <td>1735.868000</td>\n",
       "      <td>2030.190</td>\n",
       "    </tr>\n",
       "    <tr>\n",
       "      <th>2016-11-02</th>\n",
       "      <td>3824.893333</td>\n",
       "      <td>2069.020000</td>\n",
       "      <td>2585.374286</td>\n",
       "      <td>1219.222500</td>\n",
       "      <td>NaN</td>\n",
       "    </tr>\n",
       "    <tr>\n",
       "      <th>2016-12-01</th>\n",
       "      <td>1838.150000</td>\n",
       "      <td>1897.720000</td>\n",
       "      <td>3308.647143</td>\n",
       "      <td>3052.961667</td>\n",
       "      <td>2274.465</td>\n",
       "    </tr>\n",
       "  </tbody>\n",
       "</table>\n",
       "</div>"
      ],
      "text/plain": [
       "user_type             a            b            c            d         n\n",
       "date                                                                    \n",
       "2016-01-01  2824.663333  1688.732000  3600.575000  1899.186667       NaN\n",
       "2016-01-02  1573.878000  2564.238000  2420.202857  2097.215000       NaN\n",
       "2016-01-13  1612.012500  3420.524000  1643.188000  1553.170000       NaN\n",
       "2016-01-14  3968.900000  1226.831667  1592.224000  1854.826667  3302.575\n",
       "2016-01-15  3001.972000  3105.406250  2644.504000  1268.446250  3908.420\n",
       "2016-01-16  2325.893333  2802.045000  2396.230000  4047.670000       NaN\n",
       "2016-01-17  2536.400000  2242.718889  1843.233333  1240.380000  1257.480\n",
       "2016-01-18  1881.355000  1941.725000  2053.780000  1938.190000       NaN\n",
       "2016-01-19  2109.003333  3155.130000  2843.074000  1621.945000       NaN\n",
       "2016-01-20  3768.706000  1641.515000  2822.875000  2604.256000       NaN\n",
       "2016-01-21  1501.077500  2972.639000  2619.733333  3125.200000       NaN\n",
       "2016-01-22  1189.810000  1099.960000  2943.937143  2166.815000   185.310\n",
       "2016-01-23  2413.870000  3112.497143  2779.256667  2416.544000    55.960\n",
       "2016-01-24  1826.895000  2202.445000  1544.718000  2525.536667  1428.780\n",
       "2016-01-25  2952.331429  1948.967692  2336.523750  3454.863333       NaN\n",
       "2016-01-26  2545.187500  1767.168333  2384.378182  3826.313333       NaN\n",
       "2016-01-27  2119.661667  1987.491250  1946.831667  1855.720000       NaN\n",
       "2016-01-28  1365.702500  1388.576000  2979.674286  2367.301667       NaN\n",
       "2016-01-29  1588.107500  2521.665000  2165.798000  2159.865000       NaN\n",
       "2016-01-30  1714.015000  1931.464000  2037.990000  1887.220000  1785.130\n",
       "2016-01-31  2934.325000  2542.692222  2986.407500  2130.138571       NaN\n",
       "2016-02-01  2338.026667  1846.141111  2671.715000  2828.246667       NaN\n",
       "2016-02-02  1111.080000  3192.556667  1350.883333  1054.715000  4266.090\n",
       "2016-03-01  2531.616667  1722.345000  3030.750000  1356.702500       NaN\n",
       "2016-03-02   128.625000   831.770000   824.580000  1975.370000       NaN\n",
       "2016-04-01  1234.917143  1487.970000  2124.760000  1714.451667       NaN\n",
       "2016-04-02  1489.170000  2307.213333  2452.050000  2594.705455       NaN\n",
       "2016-05-01  1462.672500  3400.865714  1959.901667  2383.846000       NaN\n",
       "2016-05-02  1257.870000  1259.843333  1594.365000  2169.813333       NaN\n",
       "2016-06-01   946.056000  2734.351667  1416.575000  4301.265000       NaN\n",
       "2016-06-02  3313.123333   717.810000  3762.465000  2800.790000       NaN\n",
       "2016-07-01  2341.767500  2201.667143   905.080000          NaN  4921.000\n",
       "2016-07-02  1922.945556  3073.248000  1558.446250  1999.030000   889.250\n",
       "2016-08-01  4843.974286  1166.680000  2359.680000  2098.141667       NaN\n",
       "2016-08-02  2619.896667  2422.548333  1000.580000  2114.670000  1515.720\n",
       "2016-09-01  2764.286667  3571.488000  5071.465000  3591.640000  3702.970\n",
       "2016-09-02  2546.357143  1479.585000  2910.020000  1589.108000       NaN\n",
       "2016-10-01  2090.873750  1581.422500  2116.846667  1681.665556       NaN\n",
       "2016-10-02  2404.025000  1839.078333  1317.605000  2863.202000       NaN\n",
       "2016-11-01  2860.617778  2580.040000  2462.773333  1735.868000  2030.190\n",
       "2016-11-02  3824.893333  2069.020000  2585.374286  1219.222500       NaN\n",
       "2016-12-01  1838.150000  1897.720000  3308.647143  3052.961667  2274.465"
      ]
     },
     "metadata": {},
     "output_type": "display_data"
    }
   ],
   "source": [
    "display(df.pivot_table(index='date', columns='user_type', \n",
    "                         values='price',aggfunc=np.mean))"
   ]
  },
  {
   "cell_type": "markdown",
   "metadata": {},
   "source": [
    "## Stack a Dataframe"
   ]
  },
  {
   "cell_type": "code",
   "execution_count": 66,
   "metadata": {},
   "outputs": [
    {
     "name": "stdout",
     "output_type": "stream",
     "text": [
      "0    serial_no                            1000\n",
      "     date                  2016-01-14 00:00:00\n",
      "     user_id                              -101\n",
      "     product_id                              0\n",
      "     quantity_purchased                     41\n",
      "     price                             3365.12\n",
      "     user_type                               n\n",
      "     user_class                          error\n",
      "     purchase_week                           2\n",
      "1    serial_no                            1001\n",
      "     date                  2016-01-15 00:00:00\n",
      "     user_id                              5899\n",
      "     product_id                            917\n",
      "     quantity_purchased                     36\n",
      "     price                             3908.42\n",
      "     user_type                               n\n",
      "     user_class                          error\n",
      "     purchase_week                           2\n",
      "2    serial_no                            1002\n",
      "     user_id                              5600\n",
      "     product_id                            334\n",
      "     quantity_purchased                     10\n",
      "     price                              626.91\n",
      "     user_type                               n\n",
      "     user_class                          error\n",
      "     purchase_week                           0\n",
      "3    serial_no                            1003\n",
      "     user_id                              5013\n",
      "     product_id                            494\n",
      "     quantity_purchased                      7\n",
      "                                  ...         \n",
      "997  serial_no                              -1\n",
      "     date                  2016-01-31 00:00:00\n",
      "     user_id                              5802\n",
      "     product_id                            729\n",
      "     quantity_purchased                      6\n",
      "     price                             2316.65\n",
      "     user_type                               d\n",
      "     user_class                 loyal_existing\n",
      "     purchase_week                           4\n",
      "     encoded_user_type                       3\n",
      "998  serial_no                            1998\n",
      "     date                  2016-01-27 00:00:00\n",
      "     user_id                              5703\n",
      "     product_id                            478\n",
      "     quantity_purchased                     10\n",
      "     price                             1627.25\n",
      "     user_type                               d\n",
      "     user_class                 loyal_existing\n",
      "     purchase_week                           4\n",
      "     encoded_user_type                       3\n",
      "999  serial_no                            1999\n",
      "     date                  2016-07-02 00:00:00\n",
      "     user_id                              5680\n",
      "     product_id                            810\n",
      "     quantity_purchased                     14\n",
      "     price                             4246.21\n",
      "     user_type                               b\n",
      "     user_class                            new\n",
      "     purchase_week                          26\n",
      "     encoded_user_type                       1\n",
      "Length: 9907, dtype: object\n"
     ]
    }
   ],
   "source": [
    "print(df.stack())"
   ]
  },
  {
   "cell_type": "markdown",
   "metadata": {},
   "source": [
    "# Data visualization"
   ]
  },
  {
   "cell_type": "markdown",
   "metadata": {},
   "source": [
    "This script showcases following data viz using :\n",
    "\n",
    " + pandas\n",
    "     + plots and sub plots\n",
    "     + hist\n",
    "     + box\n",
    "     + scatter\n",
    "     + timeseries\n",
    " + matplotlib\n"
   ]
  },
  {
   "cell_type": "code",
   "execution_count": 68,
   "metadata": {},
   "outputs": [],
   "source": [
    "%matplotlib inline\n",
    "# import required libraries\n",
    "import random\n",
    "import datetime \n",
    "import numpy as np\n",
    "import pandas as pd\n",
    "from random import randrange\n",
    "\n",
    "import matplotlib.pyplot as plt\n",
    "\n",
    "import seaborn as sns\n",
    "\n",
    "sns.set_style('whitegrid')\n",
    "sns.set_context('talk')\n",
    "\n",
    "params = {'legend.fontsize': 'small',\n",
    "          'figure.figsize': (10, 5),\n",
    "         'axes.labelsize': 'medium',\n",
    "         'axes.titlesize':'medium',\n",
    "         'xtick.labelsize':'medium',\n",
    "         'ytick.labelsize':'medium'}\n",
    "\n",
    "plt.rcParams.update(params)\n",
    "\n",
    "from IPython.display import display, HTML"
   ]
  },
  {
   "cell_type": "markdown",
   "metadata": {},
   "source": [
    "## Utilities"
   ]
  },
  {
   "cell_type": "code",
   "execution_count": 69,
   "metadata": {},
   "outputs": [],
   "source": [
    "def _random_date(start,date_count):\n",
    "    \"\"\"This function generates a random date based on params\n",
    "    Args:\n",
    "        start (date object): the base date\n",
    "        date_count (int): number of dates to be generated\n",
    "    Returns:\n",
    "        list of random dates\n",
    "\n",
    "    \"\"\"\n",
    "    current = start\n",
    "    while date_count > 0:\n",
    "        curr = current + datetime.timedelta(days=randrange(42))\n",
    "        yield curr\n",
    "        date_count-=1\n",
    "\n",
    "\n",
    "def generate_sample_data(row_count=100):\n",
    "    \"\"\"This function generates a random transaction dataset\n",
    "    Args:\n",
    "        row_count (int): number of rows for the dataframe\n",
    "    Returns:\n",
    "        a pandas dataframe\n",
    "\n",
    "    \"\"\"\n",
    "    \n",
    "    # sentinels\n",
    "    startDate = datetime.datetime(2016, 1, 1,13)\n",
    "    serial_number_sentinel = 1000\n",
    "    user_id_sentinel = 5001\n",
    "    product_id_sentinel = 101\n",
    "    price_sentinel = 2000\n",
    "    \n",
    "    \n",
    "    # base list of attributes\n",
    "    data_dict = {\n",
    "    'Serial No': np.arange(row_count)+serial_number_sentinel,\n",
    "    'Date': np.random.permutation(pd.to_datetime([x.strftime(\"%d-%m-%Y\") \n",
    "                                                    for x in _random_date(startDate,\n",
    "                                                                          row_count)]).date\n",
    "                                  ),\n",
    "    'User ID': np.random.permutation(np.random.randint(0,\n",
    "                                                       row_count,\n",
    "                                                       size=int(row_count/10)) + user_id_sentinel).tolist()*10,\n",
    "    'Product ID': np.random.permutation(np.random.randint(0,\n",
    "                                                          row_count,\n",
    "                                                          size=int(row_count/10)) + product_id_sentinel).tolist()*10 ,\n",
    "    'Quantity Purchased': np.random.permutation(np.random.randint(1,\n",
    "                                                                  42,\n",
    "                                                                  size=row_count)),\n",
    "    'Price': np.round(np.abs(np.random.randn(row_count)+1)*price_sentinel,\n",
    "                      decimals=2),\n",
    "    'User Type':np.random.permutation([chr(random.randrange(97, 97 + 3 + 1)) \n",
    "                                            for i in range(row_count)])\n",
    "    }\n",
    "    \n",
    "    # introduce missing values\n",
    "    for index in range(int(np.sqrt(row_count))): \n",
    "        data_dict['Price'][np.argmax(data_dict['Price'] == random.choice(data_dict['Price']))] = np.nan\n",
    "        data_dict['User Type'][np.argmax(data_dict['User Type'] == random.choice(data_dict['User Type']))] = np.nan\n",
    "        data_dict['Date'][np.argmax(data_dict['Date'] == random.choice(data_dict['Date']))] = np.nan\n",
    "        data_dict['Product ID'][np.argmax(data_dict['Product ID'] == random.choice(data_dict['Product ID']))] = 0\n",
    "        data_dict['Serial No'][np.argmax(data_dict['Serial No'] == random.choice(data_dict['Serial No']))] = -1\n",
    "        data_dict['User ID'][np.argmax(data_dict['User ID'] == random.choice(data_dict['User ID']))] = -101\n",
    "        \n",
    "    \n",
    "    # create data frame\n",
    "    df = pd.DataFrame(data_dict)\n",
    "    \n",
    "    return df\n",
    "    \n",
    "    \n",
    "def cleanup_column_names(df,rename_dict={},do_inplace=True):\n",
    "    \"\"\"This function renames columns of a pandas dataframe\n",
    "       It converts column names to snake case if rename_dict is not passed. \n",
    "    Args:\n",
    "        rename_dict (dict): keys represent old column names and values point to \n",
    "                            newer ones\n",
    "        do_inplace (bool): flag to update existing dataframe or return a new one\n",
    "    Returns:\n",
    "        pandas dataframe if do_inplace is set to False, None otherwise\n",
    "\n",
    "    \"\"\"\n",
    "    if not rename_dict:\n",
    "        return df.rename(columns={col: col.lower().replace(' ','_') \n",
    "                    for col in df.columns.values.tolist()}, \n",
    "                  inplace=do_inplace)\n",
    "    else:\n",
    "        return df.rename(columns=rename_dict,inplace=do_inplace)\n",
    "\n",
    "def expand_user_type(u_type):\n",
    "    \"\"\"This function maps user types to user classes\n",
    "    Args:\n",
    "        u_type (str): user type value\n",
    "    Returns:\n",
    "        (str) user_class value\n",
    "\n",
    "    \"\"\"\n",
    "    if u_type in ['a','b']:\n",
    "        return 'new'\n",
    "    elif u_type == 'c':\n",
    "        return 'existing'\n",
    "    elif u_type == 'd':\n",
    "        return 'loyal_existing'\n",
    "    else:\n",
    "        return 'error'"
   ]
  },
  {
   "cell_type": "markdown",
   "metadata": {},
   "source": [
    "## Prepare the dataset"
   ]
  },
  {
   "cell_type": "code",
   "execution_count": 70,
   "metadata": {},
   "outputs": [],
   "source": [
    "df = generate_sample_data(row_count=1000)\n",
    "cleanup_column_names(df)\n",
    "\n",
    "df['date'] = pd.to_datetime(df.date)\n",
    "\n",
    "\n",
    "df['user_class'] = df['user_type'].map(expand_user_type)\n",
    "\n",
    "df['purchase_week'] = df[['date']].applymap(lambda dt:dt.week \n",
    "                                            if not pd.isnull(dt.week) \n",
    "                                            else 0)\n",
    "\n",
    "df = df.dropna(subset=['date'])\n",
    "df['price'].fillna(value=np.round(df.price.mean(),decimals=2),\n",
    "                            inplace=True)"
   ]
  },
  {
   "cell_type": "code",
   "execution_count": 71,
   "metadata": {},
   "outputs": [
    {
     "data": {
      "text/html": [
       "<div>\n",
       "<style scoped>\n",
       "    .dataframe tbody tr th:only-of-type {\n",
       "        vertical-align: middle;\n",
       "    }\n",
       "\n",
       "    .dataframe tbody tr th {\n",
       "        vertical-align: top;\n",
       "    }\n",
       "\n",
       "    .dataframe thead th {\n",
       "        text-align: right;\n",
       "    }\n",
       "</style>\n",
       "<table border=\"1\" class=\"dataframe\">\n",
       "  <thead>\n",
       "    <tr style=\"text-align: right;\">\n",
       "      <th></th>\n",
       "      <th>serial_no</th>\n",
       "      <th>date</th>\n",
       "      <th>user_id</th>\n",
       "      <th>product_id</th>\n",
       "      <th>quantity_purchased</th>\n",
       "      <th>price</th>\n",
       "      <th>user_type</th>\n",
       "      <th>user_class</th>\n",
       "      <th>purchase_week</th>\n",
       "    </tr>\n",
       "  </thead>\n",
       "  <tbody>\n",
       "    <tr>\n",
       "      <th>2</th>\n",
       "      <td>1002</td>\n",
       "      <td>2016-01-29</td>\n",
       "      <td>5653</td>\n",
       "      <td>186</td>\n",
       "      <td>34</td>\n",
       "      <td>436.26</td>\n",
       "      <td>n</td>\n",
       "      <td>error</td>\n",
       "      <td>4</td>\n",
       "    </tr>\n",
       "    <tr>\n",
       "      <th>3</th>\n",
       "      <td>1003</td>\n",
       "      <td>2016-11-02</td>\n",
       "      <td>5715</td>\n",
       "      <td>310</td>\n",
       "      <td>6</td>\n",
       "      <td>1197.66</td>\n",
       "      <td>n</td>\n",
       "      <td>error</td>\n",
       "      <td>44</td>\n",
       "    </tr>\n",
       "    <tr>\n",
       "      <th>4</th>\n",
       "      <td>1004</td>\n",
       "      <td>2016-01-20</td>\n",
       "      <td>5390</td>\n",
       "      <td>283</td>\n",
       "      <td>10</td>\n",
       "      <td>1172.64</td>\n",
       "      <td>n</td>\n",
       "      <td>error</td>\n",
       "      <td>3</td>\n",
       "    </tr>\n",
       "    <tr>\n",
       "      <th>5</th>\n",
       "      <td>1005</td>\n",
       "      <td>2016-01-24</td>\n",
       "      <td>5637</td>\n",
       "      <td>994</td>\n",
       "      <td>41</td>\n",
       "      <td>2037.30</td>\n",
       "      <td>n</td>\n",
       "      <td>error</td>\n",
       "      <td>3</td>\n",
       "    </tr>\n",
       "    <tr>\n",
       "      <th>7</th>\n",
       "      <td>1007</td>\n",
       "      <td>2016-01-26</td>\n",
       "      <td>5850</td>\n",
       "      <td>207</td>\n",
       "      <td>15</td>\n",
       "      <td>3649.74</td>\n",
       "      <td>n</td>\n",
       "      <td>error</td>\n",
       "      <td>4</td>\n",
       "    </tr>\n",
       "  </tbody>\n",
       "</table>\n",
       "</div>"
      ],
      "text/plain": [
       "   serial_no       date  user_id  product_id  quantity_purchased    price  \\\n",
       "2       1002 2016-01-29     5653         186                  34   436.26   \n",
       "3       1003 2016-11-02     5715         310                   6  1197.66   \n",
       "4       1004 2016-01-20     5390         283                  10  1172.64   \n",
       "5       1005 2016-01-24     5637         994                  41  2037.30   \n",
       "7       1007 2016-01-26     5850         207                  15  3649.74   \n",
       "\n",
       "  user_type user_class  purchase_week  \n",
       "2         n      error              4  \n",
       "3         n      error             44  \n",
       "4         n      error              3  \n",
       "5         n      error              3  \n",
       "7         n      error              4  "
      ]
     },
     "metadata": {},
     "output_type": "display_data"
    }
   ],
   "source": [
    "display(df.head())"
   ]
  },
  {
   "cell_type": "markdown",
   "metadata": {},
   "source": [
    "# Visualizations"
   ]
  },
  {
   "cell_type": "markdown",
   "metadata": {},
   "source": [
    "## Line chart"
   ]
  },
  {
   "cell_type": "code",
   "execution_count": 72,
   "metadata": {},
   "outputs": [
    {
     "data": {
      "image/png": "[encoded data removed]",
      "text/plain": [
       "<Figure size 720x360 with 1 Axes>"
      ]
     },
     "metadata": {},
     "output_type": "display_data"
    }
   ],
   "source": [
    "max_user_id = df.user_id.value_counts().index[0]\n",
    "df[df.user_id == max_user_id][['price']].plot(style='blue')\n",
    "plt.title('Price Trends for Particular User')\n",
    "plt.show()"
   ]
  },
  {
   "cell_type": "code",
   "execution_count": 73,
   "metadata": {},
   "outputs": [
    {
     "data": {
      "image/png": "[encoded data removed]",
      "text/plain": [
       "<Figure size 720x360 with 1 Axes>"
      ]
     },
     "metadata": {},
     "output_type": "display_data"
    }
   ],
   "source": [
    "df[df.user_id == max_user_id].plot(x='date',y='price',style='blue')   \n",
    "plt.title('Price Trends for Particular User Over Time')\n",
    "plt.show()"
   ]
  },
  {
   "cell_type": "markdown",
   "metadata": {},
   "source": [
    "## Bar Plot"
   ]
  },
  {
   "cell_type": "code",
   "execution_count": 74,
   "metadata": {},
   "outputs": [
    {
     "data": {
      "image/png": "[encoded data removed]",
      "text/plain": [
       "<Figure size 720x360 with 1 Axes>"
      ]
     },
     "metadata": {},
     "output_type": "display_data"
    }
   ],
   "source": [
    "df[['purchase_week',\n",
    "    'quantity_purchased']].groupby('purchase_week').sum().plot.barh(\n",
    "                                                            color='orange')\n",
    "plt.title('Quantities Purchased per Week')\n",
    "plt.show()"
   ]
  },
  {
   "cell_type": "markdown",
   "metadata": {},
   "source": [
    "## Histogram"
   ]
  },
  {
   "cell_type": "code",
   "execution_count": 75,
   "metadata": {},
   "outputs": [
    {
     "data": {
      "image/png": "[encoded data removed]",
      "text/plain": [
       "<Figure size 720x360 with 1 Axes>"
      ]
     },
     "metadata": {},
     "output_type": "display_data"
    }
   ],
   "source": [
    "df.price.hist(color='green')\n",
    "plt.title('Price Distribution')\n",
    "plt.show()"
   ]
  },
  {
   "cell_type": "code",
   "execution_count": 76,
   "metadata": {},
   "outputs": [
    {
     "data": {
      "image/png": "[encoded data removed]",
      "text/plain": [
       "<Figure size 720x360 with 16 Axes>"
      ]
     },
     "metadata": {},
     "output_type": "display_data"
    }
   ],
   "source": [
    "df[['price','purchase_week']].hist(by='purchase_week',sharex=True)\n",
    "#plt.title('Price Distribution per Week')\n",
    "plt.show()"
   ]
  },
  {
   "cell_type": "markdown",
   "metadata": {},
   "source": [
    "## Pie Chart"
   ]
  },
  {
   "cell_type": "code",
   "execution_count": 77,
   "metadata": {},
   "outputs": [
    {
     "data": {
      "image/png": "[encoded data removed]",
      "text/plain": [
       "<Figure size 720x360 with 1 Axes>"
      ]
     },
     "metadata": {},
     "output_type": "display_data"
    }
   ],
   "source": [
    "class_series = df.groupby('user_class').size()\n",
    "class_series.name = 'User Class Distribution'\n",
    "class_series.plot.pie(autopct='%.2f')\n",
    "plt.title('User Class Share')\n",
    "plt.show()"
   ]
  },
  {
   "cell_type": "markdown",
   "metadata": {},
   "source": [
    "## Box Plot"
   ]
  },
  {
   "cell_type": "code",
   "execution_count": 78,
   "metadata": {},
   "outputs": [
    {
     "data": {
      "image/png": "[encoded data removed]",
      "text/plain": [
       "<Figure size 720x360 with 1 Axes>"
      ]
     },
     "metadata": {},
     "output_type": "display_data"
    }
   ],
   "source": [
    "df[['quantity_purchased','purchase_week']].plot.box()\n",
    "plt.title('Quantity and Week value distribution')\n",
    "plt.show()"
   ]
  },
  {
   "cell_type": "markdown",
   "metadata": {},
   "source": [
    "## Bubble Chart"
   ]
  },
  {
   "cell_type": "code",
   "execution_count": 79,
   "metadata": {},
   "outputs": [
    {
     "data": {
      "image/png": "[encoded data removed]",
      "text/plain": [
       "<Figure size 720x360 with 1 Axes>"
      ]
     },
     "metadata": {},
     "output_type": "display_data"
    }
   ],
   "source": [
    "# bubble\n",
    "uclass_map = {'new': 1, 'existing': 2, 'loyal_existing': 3,'error':0}\n",
    "df['enc_uclass'] = df.user_class.map(uclass_map) \n",
    "bubble_df = df[['enc_uclass',\n",
    "                'purchase_week',\n",
    "                'price','product_id']].groupby(['purchase_week',\n",
    "                                                'enc_uclass']).agg({'price':'mean',\n",
    "                                                                    'product_id':'count'}).reset_index()\n",
    "bubble_df.rename(columns={'product_id':'total_transactions'},inplace=True)\n",
    "\n",
    "\n",
    "bubble_df.plot.scatter(x='purchase_week',\n",
    "                       y='price')\n",
    "plt.title('Purchase Week Vs Price ')\n",
    "plt.show() "
   ]
  },
  {
   "cell_type": "code",
   "execution_count": 80,
   "metadata": {},
   "outputs": [
    {
     "data": {
      "image/png": "[encoded data removed]",
      "text/plain": [
       "<Figure size 720x360 with 1 Axes>"
      ]
     },
     "metadata": {},
     "output_type": "display_data"
    }
   ],
   "source": [
    "bubble_df.plot.scatter(x='purchase_week',\n",
    "                       y='price',\n",
    "                       c=bubble_df['enc_uclass']) \n",
    "plt.title('Purchase Week Vs Price Per User Class')                       \n",
    "plt.show() "
   ]
  },
  {
   "cell_type": "code",
   "execution_count": 81,
   "metadata": {},
   "outputs": [
    {
     "data": {
      "image/png": "[encoded data removed]",
      "text/plain": [
       "<Figure size 720x360 with 1 Axes>"
      ]
     },
     "metadata": {},
     "output_type": "display_data"
    }
   ],
   "source": [
    "bubble_df.plot.scatter(x='purchase_week',\n",
    "                       y='price',\n",
    "                       c=bubble_df['enc_uclass'],\n",
    "                       s=bubble_df['total_transactions']*10)\n",
    "plt.title('Purchase Week Vs Price Per User Class Based on Tx')                          \n",
    "plt.show()"
   ]
  },
  {
   "cell_type": "markdown",
   "metadata": {},
   "source": [
    "## Visualizations using 𝑚𝑎𝑡𝑝𝑙𝑜𝑡𝑙𝑖𝑏"
   ]
  },
  {
   "cell_type": "markdown",
   "metadata": {},
   "source": [
    "This notebook showcases visualizations using matplotlib"
   ]
  },
  {
   "cell_type": "code",
   "execution_count": 82,
   "metadata": {},
   "outputs": [],
   "source": [
    "# import required libraries\n",
    "import numpy as np\n",
    "import matplotlib.pyplot as plt\n",
    "\n",
    "params = {'legend.fontsize': 'x-large',\n",
    "          'figure.figsize': (15, 5),\n",
    "         'axes.labelsize': 'x-large',\n",
    "         'axes.titlesize':'x-large',\n",
    "         'xtick.labelsize':'x-large',\n",
    "         'ytick.labelsize':'x-large'}\n",
    "\n",
    "plt.rcParams.update(params)\n",
    "%matplotlib inline"
   ]
  },
  {
   "cell_type": "markdown",
   "metadata": {},
   "source": [
    "## Sample Plot"
   ]
  },
  {
   "cell_type": "code",
   "execution_count": 83,
   "metadata": {},
   "outputs": [
    {
     "data": {
      "image/png": "[encoded data removed]",
      "text/plain": [
       "<Figure size 432x288 with 1 Axes>"
      ]
     },
     "metadata": {
      "needs_background": "light"
     },
     "output_type": "display_data"
    }
   ],
   "source": [
    "# sample plot\n",
    "x = np.linspace(-10, 10, 50)\n",
    "y=np.sin(x)\n",
    "\n",
    "plt.plot(x,y)\n",
    "plt.title('Sine Curve using matplotlib')\n",
    "plt.xlabel('x-axis')\n",
    "plt.ylabel('y-axis')\n",
    "plt.show()"
   ]
  },
  {
   "cell_type": "markdown",
   "metadata": {},
   "source": [
    "## The Figure object"
   ]
  },
  {
   "cell_type": "code",
   "execution_count": 85,
   "metadata": {},
   "outputs": [
    {
     "data": {
      "image/png": "[encoded data removed]",
      "text/plain": [
       "<Figure size 432x288 with 1 Axes>"
      ]
     },
     "metadata": {
      "needs_background": "light"
     },
     "output_type": "display_data"
    },
    {
     "data": {
      "image/png": "[encoded data removed]",
      "text/plain": [
       "<Figure size 432x288 with 1 Axes>"
      ]
     },
     "metadata": {
      "needs_background": "light"
     },
     "output_type": "display_data"
    }
   ],
   "source": [
    "# figure\n",
    "plt.figure(1)\n",
    "plt.plot(x,y)\n",
    "plt.title('Fig1: Sine Curve')\n",
    "plt.xlabel('x-axis')\n",
    "plt.ylabel('y-axis')\n",
    "plt.show()\n",
    "\n",
    "plt.figure(2)\n",
    "y=np.cos(x)\n",
    "plt.plot(x,y)\n",
    "plt.title('Fig2: Cosine Curve')\n",
    "plt.xlabel('x-axis')\n",
    "plt.ylabel('y-axis')\n",
    "plt.show()"
   ]
  },
  {
   "cell_type": "markdown",
   "metadata": {},
   "source": [
    "## Subplots\n",
    "\n",
    "### using add_subplot()"
   ]
  },
  {
   "cell_type": "code",
   "execution_count": 86,
   "metadata": {},
   "outputs": [
    {
     "data": {
      "image/png": "[encoded data removed]",
      "text/plain": [
       "<Figure size 576x432 with 4 Axes>"
      ]
     },
     "metadata": {
      "needs_background": "light"
     },
     "output_type": "display_data"
    }
   ],
   "source": [
    "# fig.add_subplot\n",
    "y = np.sin(x)\n",
    "figure_obj = plt.figure(figsize=(8, 6))\n",
    "ax1 = figure_obj.add_subplot(2,2,1)\n",
    "ax1.plot(x,y)\n",
    "\n",
    "ax2 = figure_obj.add_subplot(2,2,2)\n",
    "ax3 = figure_obj.add_subplot(2,2,3)\n",
    "\n",
    "ax4 = figure_obj.add_subplot(2,2,4)\n",
    "ax4.plot(x+10,y)\n",
    "plt.show()"
   ]
  },
  {
   "cell_type": "markdown",
   "metadata": {},
   "source": [
    "### Using subplots()"
   ]
  },
  {
   "cell_type": "code",
   "execution_count": 87,
   "metadata": {},
   "outputs": [
    {
     "data": {
      "image/png": "[encoded data removed]",
      "text/plain": [
       "<Figure size 576x432 with 2 Axes>"
      ]
     },
     "metadata": {
      "needs_background": "light"
     },
     "output_type": "display_data"
    }
   ],
   "source": [
    "# plt.subplots\n",
    "fig, ax_list = plt.subplots(2,1,sharex=True, figsize=(8, 6))\n",
    "y= np.sin(x)\n",
    "ax_list[0].plot(x,y)\n",
    "\n",
    "y= np.cos(x)\n",
    "ax_list[1].plot(x,y)\n",
    "plt.show()"
   ]
  },
  {
   "cell_type": "markdown",
   "metadata": {},
   "source": [
    "### Using subplot()"
   ]
  },
  {
   "cell_type": "code",
   "execution_count": 88,
   "metadata": {},
   "outputs": [
    {
     "data": {
      "image/png": "[encoded data removed]",
      "text/plain": [
       "<Figure size 432x288 with 3 Axes>"
      ]
     },
     "metadata": {
      "needs_background": "light"
     },
     "output_type": "display_data"
    }
   ],
   "source": [
    "# plt.subplot (creates figure and axes objects automatically)\n",
    "plt.subplot(2,2,1)\n",
    "y = np.sin(x)    \n",
    "plt.plot(x,y)\n",
    "\n",
    "plt.subplot(2,2,2)\n",
    "y = np.cos(x)\n",
    "plt.plot(x,y)\n",
    "\n",
    "plt.subplot(2,1,2)\n",
    "y = np.tan(x)\n",
    "plt.plot(x,y)  \n",
    "\n",
    "plt.show()"
   ]
  },
  {
   "cell_type": "markdown",
   "metadata": {},
   "source": [
    "### Using subplot2grid()"
   ]
  },
  {
   "cell_type": "code",
   "execution_count": 89,
   "metadata": {},
   "outputs": [
    {
     "data": {
      "image/png": "[encoded data removed]",
      "text/plain": [
       "<Figure size 432x288 with 3 Axes>"
      ]
     },
     "metadata": {
      "needs_background": "light"
     },
     "output_type": "display_data"
    }
   ],
   "source": [
    "# subplot2grid\n",
    "y = np.abs(x)\n",
    "z = x**2\n",
    "\n",
    "plt.subplot2grid((4,3), (0, 0), rowspan=4, colspan=2)\n",
    "plt.plot(x, y,'b',x,z,'r')\n",
    "\n",
    "ax2 = plt.subplot2grid((4,3), (0, 2),rowspan=2)\n",
    "plt.plot(x, y,'b')\n",
    "plt.setp(ax2.get_xticklabels(), visible=False)\n",
    "\n",
    "plt.subplot2grid((4,3), (2, 2), rowspan=2)\n",
    "plt.plot(x, z,'r')\n",
    "\n",
    "plt.show()"
   ]
  },
  {
   "cell_type": "markdown",
   "metadata": {},
   "source": [
    "## Foramting"
   ]
  },
  {
   "cell_type": "code",
   "execution_count": 91,
   "metadata": {},
   "outputs": [],
   "source": [
    "y = x"
   ]
  },
  {
   "cell_type": "markdown",
   "metadata": {},
   "source": [
    "+ Line Color\n",
    "+ Line Style\n",
    "+ Data Marker\n",
    "+ Line Width\n",
    "+ Alpha Level/Transparency\n",
    "+ Shorthand notation"
   ]
  },
  {
   "cell_type": "code",
   "execution_count": 93,
   "metadata": {},
   "outputs": [
    {
     "data": {
      "image/png": "[encoded data removed]",
      "text/plain": [
       "<Figure size 432x1080 with 6 Axes>"
      ]
     },
     "metadata": {
      "needs_background": "light"
     },
     "output_type": "display_data"
    }
   ],
   "source": [
    "# color\n",
    "ax1 = plt.subplot(611)\n",
    "plt.plot(x,y,color='green')\n",
    "ax1.set_title('Line Color')\n",
    "plt.setp(ax1.get_xticklabels(), visible=False)\n",
    "\n",
    "# linestyle\n",
    "# linestyles -> '-','--','-.', ':', 'steps'\n",
    "ax2 = plt.subplot(612,sharex=ax1)\n",
    "plt.plot(x,y,linestyle='--')\n",
    "ax2.set_title('Line Style')\n",
    "plt.setp(ax2.get_xticklabels(), visible=False)\n",
    "\n",
    "# marker\n",
    "# markers -> '+', 'o', '*', 's', ',', '.', etc\n",
    "ax3 = plt.subplot(613,sharex=ax1)\n",
    "plt.plot(x,y,marker='*')\n",
    "ax3.set_title('Point Marker')\n",
    "plt.setp(ax3.get_xticklabels(), visible=False)\n",
    "\n",
    "# line width\n",
    "ax4 = plt.subplot(614,sharex=ax1)\n",
    "line = plt.plot(x,y)\n",
    "line[0].set_linewidth(3.0)\n",
    "ax4.set_title('Line Width')\n",
    "plt.setp(ax4.get_xticklabels(), visible=False)\n",
    "\n",
    "# alpha\n",
    "ax5 = plt.subplot(615,sharex=ax1)\n",
    "alpha = plt.plot(x,y)\n",
    "alpha[0].set_alpha(0.3)\n",
    "ax5.set_title('Line Alpha')\n",
    "plt.setp(ax5.get_xticklabels(), visible=False)\n",
    "\n",
    "# combine linestyle\n",
    "ax6 = plt.subplot(616,sharex=ax1)\n",
    "plt.plot(x,y,'b^')\n",
    "ax6.set_title('Styling Shorthand')\n",
    "\n",
    "fig = plt.gcf()\n",
    "fig.set_figheight(15)\n",
    "plt.show()"
   ]
  },
  {
   "cell_type": "markdown",
   "metadata": {},
   "source": [
    "## Legends"
   ]
  },
  {
   "cell_type": "code",
   "execution_count": 94,
   "metadata": {},
   "outputs": [
    {
     "data": {
      "image/png": "[encoded data removed]",
      "text/plain": [
       "<Figure size 432x288 with 1 Axes>"
      ]
     },
     "metadata": {
      "needs_background": "light"
     },
     "output_type": "display_data"
    }
   ],
   "source": [
    "# legends\n",
    "y = x**2\n",
    "z = x\n",
    "\n",
    "plt.plot(x,y,'g',label='y=x^2')\n",
    "plt.plot(x,z,'b:',label='y=x')\n",
    "plt.legend(loc=\"best\")\n",
    "plt.title('Legend Sample')\n",
    "plt.show()"
   ]
  },
  {
   "cell_type": "markdown",
   "metadata": {},
   "source": [
    "## Legend with 𝐿𝑎𝑡𝑒𝑥 formatting"
   ]
  },
  {
   "cell_type": "code",
   "execution_count": 95,
   "metadata": {},
   "outputs": [
    {
     "data": {
      "image/png": "[encoded data removed]",
      "text/plain": [
       "<Figure size 432x288 with 1 Axes>"
      ]
     },
     "metadata": {
      "needs_background": "light"
     },
     "output_type": "display_data"
    }
   ],
   "source": [
    "# legend with latex formatting\n",
    "plt.plot(x,y,'g',label='$y = x^2$')\n",
    "plt.plot(x,z,'b:',linewidth=3,label='$y = x^2$')\n",
    "plt.legend(loc=\"best\",fontsize='x-large')\n",
    "plt.title('Legend with LaTEX formatting')\n",
    "plt.show()"
   ]
  },
  {
   "cell_type": "markdown",
   "metadata": {},
   "source": [
    "## Axis Controls"
   ]
  },
  {
   "cell_type": "markdown",
   "metadata": {},
   "source": [
    "### Secondary y-axis"
   ]
  },
  {
   "cell_type": "code",
   "execution_count": 96,
   "metadata": {},
   "outputs": [
    {
     "data": {
      "image/png": "[encoded data removed]",
      "text/plain": [
       "<Figure size 432x288 with 2 Axes>"
      ]
     },
     "metadata": {
      "needs_background": "light"
     },
     "output_type": "display_data"
    }
   ],
   "source": [
    "## axis controls\n",
    "# secondary y-axis\n",
    "fig, ax1 = plt.subplots()\n",
    "ax1.plot(x,y,'g')\n",
    "ax1.set_ylabel(r\"primary y-axis\", color=\"green\")\n",
    "\n",
    "ax2 = ax1.twinx()\n",
    "\n",
    "ax2.plot(x,z,'b:',linewidth=3)\n",
    "ax2.set_ylabel(r\"secondary y-axis\", color=\"blue\")\n",
    "\n",
    "plt.title('Secondary Y Axis')\n",
    "plt.show()"
   ]
  },
  {
   "cell_type": "markdown",
   "metadata": {},
   "source": [
    "## Axis ticks"
   ]
  },
  {
   "cell_type": "code",
   "execution_count": 97,
   "metadata": {},
   "outputs": [
    {
     "name": "stderr",
     "output_type": "stream",
     "text": [
      "C:\\ProgramData\\Anaconda3\\lib\\site-packages\\ipykernel_launcher.py:2: RuntimeWarning: invalid value encountered in log\n",
      "  \n",
      "C:\\ProgramData\\Anaconda3\\lib\\site-packages\\ipykernel_launcher.py:3: RuntimeWarning: invalid value encountered in log2\n",
      "  This is separate from the ipykernel package so we can avoid doing imports until\n",
      "C:\\ProgramData\\Anaconda3\\lib\\site-packages\\ipykernel_launcher.py:4: RuntimeWarning: invalid value encountered in log10\n",
      "  after removing the cwd from sys.path.\n"
     ]
    },
    {
     "data": {
      "image/png": "[encoded data removed]",
      "text/plain": [
       "<Figure size 432x288 with 1 Axes>"
      ]
     },
     "metadata": {
      "needs_background": "light"
     },
     "output_type": "display_data"
    }
   ],
   "source": [
    "# ticks\n",
    "y = np.log(x)\n",
    "z = np.log2(x)\n",
    "w = np.log10(x)\n",
    "\n",
    "plt.plot(x,y,'r',x,z,'g',x,w,'b')\n",
    "plt.title('Default Axis Ticks') \n",
    "plt.show() "
   ]
  },
  {
   "cell_type": "code",
   "execution_count": 98,
   "metadata": {},
   "outputs": [
    {
     "data": {
      "image/png": "[encoded data removed]",
      "text/plain": [
       "<Figure size 432x288 with 1 Axes>"
      ]
     },
     "metadata": {
      "needs_background": "light"
     },
     "output_type": "display_data"
    }
   ],
   "source": [
    "plt.plot(x,y,'r',x,z,'g',x,w,'b')\n",
    "# values: tight, scaled, equal,auto\n",
    "plt.axis('tight')\n",
    "plt.title('Tight Axis') \n",
    "plt.show()"
   ]
  },
  {
   "cell_type": "code",
   "execution_count": 99,
   "metadata": {},
   "outputs": [
    {
     "data": {
      "image/png": "[encoded data removed]",
      "text/plain": [
       "<Figure size 432x288 with 1 Axes>"
      ]
     },
     "metadata": {
      "needs_background": "light"
     },
     "output_type": "display_data"
    }
   ],
   "source": [
    "# manual\n",
    "plt.plot(x,y,'r',x,z,'g',x,w,'b')\n",
    "plt.axis([0,2,-1,2])\n",
    "plt.title('Manual Axis Range') \n",
    "plt.show()"
   ]
  },
  {
   "cell_type": "code",
   "execution_count": 100,
   "metadata": {},
   "outputs": [
    {
     "data": {
      "image/png": "[encoded data removed]",
      "text/plain": [
       "<Figure size 432x288 with 1 Axes>"
      ]
     },
     "metadata": {
      "needs_background": "light"
     },
     "output_type": "display_data"
    }
   ],
   "source": [
    "# Manual ticks      \n",
    "plt.plot(x, y)\n",
    "ax = plt.gca()\n",
    "ax.xaxis.set_ticks(np.arange(-2, 2, 1))\n",
    "plt.grid(True)\n",
    "plt.title(\"Manual ticks on the x-axis\")\n",
    "plt.show()"
   ]
  },
  {
   "cell_type": "code",
   "execution_count": 101,
   "metadata": {},
   "outputs": [
    {
     "data": {
      "image/png": "[encoded data removed]",
      "text/plain": [
       "<Figure size 432x288 with 1 Axes>"
      ]
     },
     "metadata": {
      "needs_background": "light"
     },
     "output_type": "display_data"
    }
   ],
   "source": [
    "# minor ticks\n",
    "plt.plot(x, z)\n",
    "plt.minorticks_on()\n",
    "ax = plt.gca()\n",
    "ax.yaxis.set_ticks(np.arange(0, 5))\n",
    "ax.yaxis.set_ticklabels([\"min\", 2, 4, \"max\"])\n",
    "plt.title(\"Minor ticks on the y-axis\")   \n",
    "plt.show()"
   ]
  },
  {
   "cell_type": "code",
   "execution_count": 102,
   "metadata": {},
   "outputs": [
    {
     "data": {
      "image/png": "[encoded data removed]",
      "text/plain": [
       "<Figure size 432x288 with 1 Axes>"
      ]
     },
     "metadata": {
      "needs_background": "light"
     },
     "output_type": "display_data"
    }
   ],
   "source": [
    "# scaling\n",
    "plt.plot(x, y)\n",
    "ax = plt.gca()\n",
    "# values: log, logit, symlog\n",
    "ax.set_yscale(\"log\")\n",
    "plt.grid(True)\n",
    "plt.title(\"Log Scaled Axis\")\n",
    "plt.show()"
   ]
  },
  {
   "cell_type": "markdown",
   "metadata": {},
   "source": [
    "## Annotations"
   ]
  },
  {
   "cell_type": "code",
   "execution_count": 103,
   "metadata": {},
   "outputs": [
    {
     "data": {
      "image/png": "[encoded data removed]",
      "text/plain": [
       "<Figure size 432x288 with 1 Axes>"
      ]
     },
     "metadata": {
      "needs_background": "light"
     },
     "output_type": "display_data"
    }
   ],
   "source": [
    "# annotations\n",
    "y = x**2\n",
    "min_x = 0\n",
    "min_y = min_x**2\n",
    "\n",
    "plt.plot(x, y, \"b-\", min_x, min_y, \"ro\")\n",
    "plt.axis([-10,10,-25,100])\n",
    "\n",
    "plt.text(0, 60, \"Parabola\\n$y = x^2$\", fontsize=15, ha=\"center\")\n",
    "plt.text(min_x, min_y+2, \"Minima\", ha=\"center\")\n",
    "plt.text(min_x, min_y-6, \"(%0.1f, %0.1f)\"%(min_x, min_y), ha='center',color='gray')\n",
    "plt.title(\"Annotated Plot\")\n",
    "plt.show()"
   ]
  },
  {
   "cell_type": "markdown",
   "metadata": {},
   "source": [
    "## Crawling Web Pages"
   ]
  },
  {
   "cell_type": "markdown",
   "metadata": {},
   "source": [
    "This notebook crawls apress.com's blog post to:\n",
    "\n",
    "+ extract content related to blog post using regex\n"
   ]
  },
  {
   "cell_type": "code",
   "execution_count": 1,
   "metadata": {},
   "outputs": [],
   "source": [
    "# import required libraries\n",
    "import re\n",
    "import requests"
   ]
  },
  {
   "cell_type": "markdown",
   "metadata": {},
   "source": [
    "## Utility"
   ]
  },
  {
   "cell_type": "code",
   "execution_count": 2,
   "metadata": {},
   "outputs": [],
   "source": [
    "def extract_blog_content(content):\n",
    "    \"\"\"This function extracts blog post content using regex\n",
    "\n",
    "    Args:\n",
    "        content (request.content): String content returned from requests.get\n",
    "\n",
    "    Returns:\n",
    "        str: string content as per regex match\n",
    "\n",
    "    \"\"\"\n",
    "    content_pattern = re.compile(r'<div class=\"cms-richtext\">(.*?)</div>')\n",
    "    result = re.findall(content_pattern, content)\n",
    "    return result[0] if result else \"None\""
   ]
  },
  {
   "cell_type": "markdown",
   "metadata": {},
   "source": [
    "## Crawl the Web"
   ]
  },
  {
   "cell_type": "markdown",
   "metadata": {},
   "source": [
    "Set the URL and blog post to be parsed"
   ]
  },
  {
   "cell_type": "code",
   "execution_count": 3,
   "metadata": {},
   "outputs": [],
   "source": [
    "base_url = \"http://www.apress.com/in/blog/all-blog-posts\"\n",
    "blog_suffix = \"/wannacry-how-to-prepare/12302194\""
   ]
  },
  {
   "cell_type": "markdown",
   "metadata": {},
   "source": [
    "Use requests library to make a get request\n"
   ]
  },
  {
   "cell_type": "code",
   "execution_count": 4,
   "metadata": {},
   "outputs": [],
   "source": [
    "response = requests.get(base_url+blog_suffix)"
   ]
  },
  {
   "cell_type": "markdown",
   "metadata": {},
   "source": [
    "Identify and Parse blog content using python's regex library (re)"
   ]
  },
  {
   "cell_type": "code",
   "execution_count": 5,
   "metadata": {},
   "outputs": [],
   "source": [
    "if response.status_code == 200:\n",
    "        content = response.text.encode('utf-8', 'ignore').decode('utf-8', 'ignore')\n",
    "        content = content.replace(\"\\n\", '')\n",
    "        blog_post_content = extract_blog_content(content)"
   ]
  },
  {
   "cell_type": "markdown",
   "metadata": {},
   "source": [
    "View first 500 characters of the blogpost"
   ]
  },
  {
   "cell_type": "code",
   "execution_count": 6,
   "metadata": {},
   "outputs": [
    {
     "data": {
      "text/plain": [
       "'<p class=\"intro--paragraph\"><em>By Mike Halsey</em></p><p><br /></p><p>It was a perfectly ordinary Friday when the Wannacry ransomware struck in May 2017. The malware spread around the world to more than 150 countries in just a matter of a few hours, affecting the National Health Service in the UK, telecoms provider Telefonica in Spain, and many other organisations and businesses in the USA, Canada, China, Japan, Russia, and right across Europe, the Middle-East, and Asia.</p><p>The malware was r'"
      ]
     },
     "execution_count": 6,
     "metadata": {},
     "output_type": "execute_result"
    }
   ],
   "source": [
    "blog_post_content[0:500]"
   ]
  },
  {
   "cell_type": "code",
   "execution_count": null,
   "metadata": {},
   "outputs": [],
   "source": []
  }
 ],
 "metadata": {
  "kernelspec": {
   "display_name": "Python 3",
   "language": "python",
   "name": "python3"
  },
  "language_info": {
   "codemirror_mode": {
    "name": "ipython",
    "version": 3
   },
   "file_extension": ".py",
   "mimetype": "text/x-python",
   "name": "python",
   "nbconvert_exporter": "python",
   "pygments_lexer": "ipython3",
   "version": "3.7.3"
  }
 },
 "nbformat": 4,
 "nbformat_minor": 2
}
